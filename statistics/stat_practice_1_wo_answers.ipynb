{
 "cells": [
  {
   "cell_type": "markdown",
   "metadata": {
    "colab_type": "text",
    "id": "7n3JuiYu8izW"
   },
   "source": [
    "# Практика по базовой математической статистике для Data scientist"
   ]
  },
  {
   "cell_type": "markdown",
   "metadata": {
    "colab_type": "text",
    "id": "vvfe_Vw18izY"
   },
   "source": [
    "# Практика 1 - анализ распределения случайной величины"
   ]
  },
  {
   "cell_type": "markdown",
   "metadata": {
    "colab_type": "text",
    "id": "pXgbbD9h8izY"
   },
   "source": [
    "- Генерация распределений - делаем синтетический датасет по заданным параметрам распределений (пара вариантов из непрерывных функций)\n",
    "- Построение гистограммы распределения при помощи mathplotlib / seaborn.\n",
    "- Анализ основных метрик распределения с помощью pandas и numpy - учимся делать выводы по оценкам случайной величины и форме распределения."
   ]
  },
  {
   "cell_type": "markdown",
   "metadata": {
    "colab_type": "text",
    "id": "uETD57jy8izZ"
   },
   "source": [
    "Для начала импортируем все полезные библитеки и настроим ноутбук"
   ]
  },
  {
   "cell_type": "code",
   "execution_count": null,
   "metadata": {
    "colab": {},
    "colab_type": "code",
    "id": "gIqTTG5q8iza"
   },
   "outputs": [],
   "source": [
    "import pandas as pd\n",
    "import numpy as np\n",
    "import matplotlib.pyplot as plt\n",
    "import seaborn as sns\n",
    "import scipy.special as sps\n",
    "import warnings\n",
    "from scipy.stats import kurtosis\n",
    "from scipy.stats import skew\n",
    "\n",
    "%matplotlib inline\n",
    "plt.rcParams[\"figure.figsize\"] = (10.0, 7.0)\n",
    "warnings.filterwarnings(\"ignore\")"
   ]
  },
  {
   "cell_type": "markdown",
   "metadata": {
    "colab_type": "text",
    "id": "6FCOdwxo8izd"
   },
   "source": [
    "Пусть у нас будут два датасета - прибыль по клиентам разных групп, распределенные по нормальному закону N(500,1000) и Гамма закону, параметры которого будет необходимо вычислить на основе средней прибыли = 500 и среднеквадратическому отклонению = 1000.\n",
    "\n",
    "Сгенерируем синтетические выборки размера ns = 10000 клиентов каждая."
   ]
  },
  {
   "cell_type": "code",
   "execution_count": null,
   "metadata": {
    "colab": {},
    "colab_type": "code",
    "id": "jUtKFIBt8izd"
   },
   "outputs": [],
   "source": [
    "ns = 10000\n",
    "n_mean = 500\n",
    "n_sigma = 1000"
   ]
  },
  {
   "cell_type": "markdown",
   "metadata": {
    "colab_type": "text",
    "id": "xoRQN-yP8izg"
   },
   "source": [
    "## Работаем с симметричным распределением"
   ]
  },
  {
   "cell_type": "markdown",
   "metadata": {
    "colab_type": "text",
    "id": "_E5fIt918izg"
   },
   "source": [
    "Используем имитацию нормального распределения отсюда\n",
    "https://docs.scipy.org/doc/numpy-1.15.0/reference/generated/numpy.random.normal.html"
   ]
  },
  {
   "cell_type": "code",
   "execution_count": null,
   "metadata": {
    "colab": {},
    "colab_type": "code",
    "id": "KfKdtR678izh"
   },
   "outputs": [],
   "source": [
    "v = np.random.normal(n_mean, n_sigma, ns)\n",
    "v = pd.DataFrame(v,columns = [\"volume\"])\n",
    "v.volume = round(v.volume,0)"
   ]
  },
  {
   "cell_type": "code",
   "execution_count": null,
   "metadata": {
    "colab": {},
    "colab_type": "code",
    "id": "Q39rb-2g8izj",
    "outputId": "cf436e27-3443-417e-b4fb-bb4fb982e161"
   },
   "outputs": [
    {
     "data": {
      "text/html": [
       "<div>\n",
       "<style scoped>\n",
       "    .dataframe tbody tr th:only-of-type {\n",
       "        vertical-align: middle;\n",
       "    }\n",
       "\n",
       "    .dataframe tbody tr th {\n",
       "        vertical-align: top;\n",
       "    }\n",
       "\n",
       "    .dataframe thead th {\n",
       "        text-align: right;\n",
       "    }\n",
       "</style>\n",
       "<table border=\"1\" class=\"dataframe\">\n",
       "  <thead>\n",
       "    <tr style=\"text-align: right;\">\n",
       "      <th></th>\n",
       "      <th>volume</th>\n",
       "    </tr>\n",
       "  </thead>\n",
       "  <tbody>\n",
       "    <tr>\n",
       "      <th>0</th>\n",
       "      <td>-1452.0</td>\n",
       "    </tr>\n",
       "    <tr>\n",
       "      <th>1</th>\n",
       "      <td>365.0</td>\n",
       "    </tr>\n",
       "    <tr>\n",
       "      <th>2</th>\n",
       "      <td>1097.0</td>\n",
       "    </tr>\n",
       "    <tr>\n",
       "      <th>3</th>\n",
       "      <td>1081.0</td>\n",
       "    </tr>\n",
       "    <tr>\n",
       "      <th>4</th>\n",
       "      <td>3537.0</td>\n",
       "    </tr>\n",
       "  </tbody>\n",
       "</table>\n",
       "</div>"
      ],
      "text/plain": [
       "   volume\n",
       "0 -1452.0\n",
       "1   365.0\n",
       "2  1097.0\n",
       "3  1081.0\n",
       "4  3537.0"
      ]
     },
     "execution_count": 4,
     "metadata": {
      "tags": []
     },
     "output_type": "execute_result"
    }
   ],
   "source": [
    "v.head()"
   ]
  },
  {
   "cell_type": "markdown",
   "metadata": {
    "colab_type": "text",
    "id": "ZJWlkZYa8izn"
   },
   "source": [
    "Для оценки среднего, среднеквадратического отклонения и квантилей можно воспользоваться отдельными методами pandas и numpy"
   ]
  },
  {
   "cell_type": "code",
   "execution_count": null,
   "metadata": {
    "colab": {},
    "colab_type": "code",
    "id": "1kh_-Wpt8izo",
    "outputId": "2a68354b-b83d-43ca-b5c7-ef2c1580f624"
   },
   "outputs": [
    {
     "data": {
      "text/plain": [
       "505.73"
      ]
     },
     "execution_count": 5,
     "metadata": {
      "tags": []
     },
     "output_type": "execute_result"
    }
   ],
   "source": [
    "# Среднее\n",
    "v.volume.mean()"
   ]
  },
  {
   "cell_type": "code",
   "execution_count": null,
   "metadata": {
    "colab": {},
    "colab_type": "code",
    "id": "hOvJUx498izq",
    "outputId": "095e8422-c572-4190-aad4-d4b98a8161b5"
   },
   "outputs": [
    {
     "data": {
      "text/plain": [
       "491.0"
      ]
     },
     "execution_count": 6,
     "metadata": {
      "tags": []
     },
     "output_type": "execute_result"
    }
   ],
   "source": [
    "# Медиана\n",
    "v.volume.median()"
   ]
  },
  {
   "cell_type": "code",
   "execution_count": null,
   "metadata": {
    "colab": {},
    "colab_type": "code",
    "id": "8-5cyKwI8izt",
    "outputId": "fa193fdc-ec9f-4dfb-d0df-193ca79cecc7",
    "scrolled": true
   },
   "outputs": [
    {
     "data": {
      "text/plain": [
       "646.0     11\n",
       "232.0     11\n",
       "28.0      11\n",
       "93.0      10\n",
       "1029.0    10\n",
       "128.0     10\n",
       "65.0      10\n",
       "840.0     10\n",
       "782.0      9\n",
       "148.0      9\n",
       "Name: volume, dtype: int64"
      ]
     },
     "execution_count": 7,
     "metadata": {
      "tags": []
     },
     "output_type": "execute_result"
    }
   ],
   "source": [
    "# Мода\n",
    "v.volume.value_counts().nlargest(10)"
   ]
  },
  {
   "cell_type": "code",
   "execution_count": null,
   "metadata": {
    "colab": {},
    "colab_type": "code",
    "id": "P4eC7j908izv",
    "outputId": "4a26d7a9-600e-49c6-c951-c13cf22c7dcf"
   },
   "outputs": [
    {
     "data": {
      "text/plain": [
       "995.9401020988674"
      ]
     },
     "execution_count": 8,
     "metadata": {
      "tags": []
     },
     "output_type": "execute_result"
    }
   ],
   "source": [
    "# Среднеквадратическое отклонение - далее ско\n",
    "v.volume.std()"
   ]
  },
  {
   "cell_type": "code",
   "execution_count": null,
   "metadata": {
    "colab": {},
    "colab_type": "code",
    "id": "MoQ5Jmfw8izy",
    "outputId": "15efe0c6-1220-4cf5-f1fd-690da3b7c415"
   },
   "outputs": [
    {
     "data": {
      "text/plain": [
       "491.0"
      ]
     },
     "execution_count": 9,
     "metadata": {
      "tags": []
     },
     "output_type": "execute_result"
    }
   ],
   "source": [
    "#  Квантиль - медиана\n",
    "np.percentile(v.volume, 50)"
   ]
  },
  {
   "cell_type": "code",
   "execution_count": null,
   "metadata": {
    "colab": {},
    "colab_type": "code",
    "id": "JLQyPYY08iz0",
    "outputId": "2666ebec-a9ee-46df-e933-836a9427079f"
   },
   "outputs": [
    {
     "data": {
      "text/plain": [
       "1182.25"
      ]
     },
     "execution_count": 10,
     "metadata": {
      "tags": []
     },
     "output_type": "execute_result"
    }
   ],
   "source": [
    "# Кванталь - 0.75\n",
    "np.percentile(v.volume, 75)"
   ]
  },
  {
   "cell_type": "markdown",
   "metadata": {
    "colab_type": "text",
    "id": "pmrqQWYr8iz3"
   },
   "source": [
    "Однако, удобнее воспользоваться встроенные методом pandas describe()"
   ]
  },
  {
   "cell_type": "code",
   "execution_count": null,
   "metadata": {
    "colab": {},
    "colab_type": "code",
    "id": "9RjLVIRp8iz4",
    "outputId": "b1556034-a9ab-4654-a39d-f4896b142be3"
   },
   "outputs": [
    {
     "data": {
      "text/plain": [
       "count    10000.000000\n",
       "mean       505.730000\n",
       "std        995.940102\n",
       "min      -3577.000000\n",
       "25%       -170.250000\n",
       "50%        491.000000\n",
       "75%       1182.250000\n",
       "max       4709.000000\n",
       "Name: volume, dtype: float64"
      ]
     },
     "execution_count": 11,
     "metadata": {
      "tags": []
     },
     "output_type": "execute_result"
    }
   ],
   "source": [
    "v.volume.describe()"
   ]
  },
  {
   "cell_type": "markdown",
   "metadata": {
    "colab_type": "text",
    "id": "GnVXHpsO8iz6"
   },
   "source": [
    "Здесь мы видим как среднее значение, так максимум, минимум, ско и все полезные квантили.\n",
    "\n",
    "Теперь построим гистограмму распределения - сделаем это двумя способами, при помощи seaborn и встроенного метода pandas hist()"
   ]
  },
  {
   "cell_type": "code",
   "execution_count": null,
   "metadata": {
    "colab": {},
    "colab_type": "code",
    "id": "QUlmf5D68iz7",
    "outputId": "a1ca412b-583d-4762-9823-e50c34533925"
   },
   "outputs": [
    {
     "data": {
      "text/plain": [
       "Text(0.5,1,'Распределение прибыли по пользователям группы 1')"
      ]
     },
     "execution_count": 12,
     "metadata": {
      "tags": []
     },
     "output_type": "execute_result"
    },
    {
     "data": {
      "image/png": "[encoded data removed]",
      "text/plain": [
       "<Figure size 432x288 with 1 Axes>"
      ]
     },
     "metadata": {
      "needs_background": "light",
      "tags": []
     },
     "output_type": "display_data"
    }
   ],
   "source": [
    "# При помощи seaborn\n",
    "sns.distplot(v)\n",
    "plt.title(\"Распределение прибыли по пользователям группы 1\")"
   ]
  },
  {
   "cell_type": "code",
   "execution_count": null,
   "metadata": {
    "colab": {},
    "colab_type": "code",
    "id": "clf5oCgV8i0D",
    "outputId": "5f0fd19c-6dea-49a5-f4f6-8ec3a9f3254f"
   },
   "outputs": [
    {
     "data": {
      "text/plain": [
       "Text(0.5,1,'Распределение прибыли по пользователям группы 1')"
      ]
     },
     "execution_count": 13,
     "metadata": {
      "tags": []
     },
     "output_type": "execute_result"
    },
    {
     "data": {
      "image/png": "[encoded data removed]",
      "text/plain": [
       "<Figure size 432x288 with 1 Axes>"
      ]
     },
     "metadata": {
      "needs_background": "light",
      "tags": []
     },
     "output_type": "display_data"
    }
   ],
   "source": [
    "# При помощи pandas\n",
    "v.volume.hist(bins = 100)\n",
    "plt.title(\"Распределение прибыли по пользователям группы 1\")"
   ]
  },
  {
   "cell_type": "markdown",
   "metadata": {
    "colab_type": "text",
    "id": "dStXrLG88i0M"
   },
   "source": [
    "И не забудем про коэффициенты эксцесса и ассиметрии"
   ]
  },
  {
   "cell_type": "code",
   "execution_count": null,
   "metadata": {
    "colab": {},
    "colab_type": "code",
    "id": "9Wv7Fd0d8i0O",
    "outputId": "8df6634e-5a3f-4c49-e3a3-870b9684bbf9"
   },
   "outputs": [
    {
     "data": {
      "text/plain": [
       "-0.039510713998523794"
      ]
     },
     "execution_count": 14,
     "metadata": {
      "tags": []
     },
     "output_type": "execute_result"
    }
   ],
   "source": [
    "# Эксцесс\n",
    "kurtosis(v.volume)"
   ]
  },
  {
   "cell_type": "code",
   "execution_count": null,
   "metadata": {
    "colab": {},
    "colab_type": "code",
    "id": "S5AgGFVC8i0S",
    "outputId": "48f3cfde-4cf3-4346-d5b8-c33971348920"
   },
   "outputs": [
    {
     "data": {
      "text/plain": [
       "0.016844532044482"
      ]
     },
     "execution_count": 15,
     "metadata": {
      "tags": []
     },
     "output_type": "execute_result"
    }
   ],
   "source": [
    "# Ассиметрия\n",
    "skew(v.volume)"
   ]
  },
  {
   "cell_type": "markdown",
   "metadata": {
    "colab_type": "text",
    "id": "HkyHnQ3w8i0V"
   },
   "source": [
    "Теперь объединим все в одну функцию для удобства работы со вторй выборкой"
   ]
  },
  {
   "cell_type": "code",
   "execution_count": null,
   "metadata": {
    "colab": {},
    "colab_type": "code",
    "id": "2YV66HeP8i0W"
   },
   "outputs": [],
   "source": [
    "def my_basic_research(df=v, column = \"volume\"):\n",
    "    print(\"Базовые метрики\")\n",
    "    print(df[column].describe())\n",
    "    print(\"------------------------------------\")\n",
    "    \n",
    "    print(\"Самые популярные значения метрики, топ 5\")\n",
    "    print(df[column].value_counts().nlargest(5))\n",
    "    print(\"------------------------------------\")\n",
    "    \n",
    "    print(\"Эксцесс \", kurtosis(df[column]))\n",
    "    print(\"Ассиметрия \", skew(df[column]))\n",
    "    \n",
    "    sns.distplot(df[column])\n",
    "    plt.title(\"Распределение прибыли по пользователям\")"
   ]
  },
  {
   "cell_type": "code",
   "execution_count": null,
   "metadata": {
    "colab": {},
    "colab_type": "code",
    "id": "4P_w0Jwg8i0Y",
    "outputId": "f846bea0-6108-46f9-8adf-f09d68aea31f"
   },
   "outputs": [
    {
     "name": "stdout",
     "output_type": "stream",
     "text": [
      "Базовые метрики\n",
      "count    10000.000000\n",
      "mean       505.730000\n",
      "std        995.940102\n",
      "min      -3577.000000\n",
      "25%       -170.250000\n",
      "50%        491.000000\n",
      "75%       1182.250000\n",
      "max       4709.000000\n",
      "Name: volume, dtype: float64\n",
      "------------------------------------\n",
      "Самые популярные значения метрики, топ 5\n",
      "646.0     11\n",
      "232.0     11\n",
      "28.0      11\n",
      "93.0      10\n",
      "1029.0    10\n",
      "Name: volume, dtype: int64\n",
      "------------------------------------\n",
      "Эксцесс  -0.039510713998523794\n",
      "Ассиметрия  0.016844532044482\n"
     ]
    },
    {
     "data": {
      "image/png": "[encoded data removed]",
      "text/plain": [
       "<Figure size 432x288 with 1 Axes>"
      ]
     },
     "metadata": {
      "needs_background": "light",
      "tags": []
     },
     "output_type": "display_data"
    }
   ],
   "source": [
    "# Опробуем нашу функцию.\n",
    "my_basic_research()"
   ]
  },
  {
   "cell_type": "markdown",
   "metadata": {
    "colab_type": "text",
    "id": "114Vv3EY8i0j"
   },
   "source": [
    "## Проверим на ассиметричном распределении"
   ]
  },
  {
   "cell_type": "markdown",
   "metadata": {
    "colab_type": "text",
    "id": "QE1DMAI_8i0m"
   },
   "source": [
    "Вот так выглядит случай симметричных данных. Но в мире не все распределения симметричны - поэтому попробуем выяснить, чем это нам грозит, повторив анализ для Гамма распределения. Для начала подготовим датасет.\n",
    "\n",
    "Параметры Гамма закона k и theta связаны со средним и дисперсией этого закона следующим образом (https://ru.wikipedia.org/wiki/Гамма-распределение):"
   ]
  },
  {
   "cell_type": "markdown",
   "metadata": {
    "colab_type": "text",
    "id": "G-EHWHA78i0p"
   },
   "source": [
    "$$m(x)=k*theta$$\n",
    "$$D(x)=k*theta^2$$"
   ]
  },
  {
   "cell_type": "markdown",
   "metadata": {
    "colab_type": "text",
    "id": "q_N_Gyhn8i0q"
   },
   "source": [
    "Решая как систему уравнений, получим:"
   ]
  },
  {
   "cell_type": "markdown",
   "metadata": {
    "colab_type": "text",
    "id": "tW-mVg-D8i0u"
   },
   "source": [
    "$$ k=(m(x)^2)/D(x)$$\n",
    "$$theta=D(x)/m(x)$$"
   ]
  },
  {
   "cell_type": "markdown",
   "metadata": {
    "colab_type": "text",
    "id": "KId4KDMt8i0x"
   },
   "source": [
    "Зададим функцию для поиска параметров Гамма распределения по среднему и СКО"
   ]
  },
  {
   "cell_type": "code",
   "execution_count": null,
   "metadata": {
    "colab": {},
    "colab_type": "code",
    "id": "YLuPbpRn8i0y"
   },
   "outputs": [],
   "source": [
    "def gamma_params(mean, std):\n",
    "    shape = round((mean/std)**2, 4)\n",
    "    scale = round((std**2)/mean, 4)\n",
    "    return (shape, scale)"
   ]
  },
  {
   "cell_type": "code",
   "execution_count": null,
   "metadata": {
    "colab": {},
    "colab_type": "code",
    "id": "zRRkCI2O8i00"
   },
   "outputs": [],
   "source": [
    "shape, scale = gamma_params(n_mean, n_sigma)\n",
    "df = np.random.gamma(shape, scale, ns)\n",
    "df = pd.DataFrame(df,columns = [\"volume\"])\n",
    "\n",
    "# Округлим до целых\n",
    "df.volume = round(df.volume,0)"
   ]
  },
  {
   "cell_type": "code",
   "execution_count": null,
   "metadata": {
    "colab": {},
    "colab_type": "code",
    "id": "RV-c_sHa8i02",
    "outputId": "3aa5d207-03d8-49c5-c3b4-9f56e111acc6"
   },
   "outputs": [
    {
     "data": {
      "text/html": [
       "<div>\n",
       "<style scoped>\n",
       "    .dataframe tbody tr th:only-of-type {\n",
       "        vertical-align: middle;\n",
       "    }\n",
       "\n",
       "    .dataframe tbody tr th {\n",
       "        vertical-align: top;\n",
       "    }\n",
       "\n",
       "    .dataframe thead th {\n",
       "        text-align: right;\n",
       "    }\n",
       "</style>\n",
       "<table border=\"1\" class=\"dataframe\">\n",
       "  <thead>\n",
       "    <tr style=\"text-align: right;\">\n",
       "      <th></th>\n",
       "      <th>volume</th>\n",
       "    </tr>\n",
       "  </thead>\n",
       "  <tbody>\n",
       "    <tr>\n",
       "      <th>0</th>\n",
       "      <td>707.0</td>\n",
       "    </tr>\n",
       "    <tr>\n",
       "      <th>1</th>\n",
       "      <td>0.0</td>\n",
       "    </tr>\n",
       "    <tr>\n",
       "      <th>2</th>\n",
       "      <td>1223.0</td>\n",
       "    </tr>\n",
       "    <tr>\n",
       "      <th>3</th>\n",
       "      <td>0.0</td>\n",
       "    </tr>\n",
       "    <tr>\n",
       "      <th>4</th>\n",
       "      <td>15.0</td>\n",
       "    </tr>\n",
       "  </tbody>\n",
       "</table>\n",
       "</div>"
      ],
      "text/plain": [
       "   volume\n",
       "0   707.0\n",
       "1     0.0\n",
       "2  1223.0\n",
       "3     0.0\n",
       "4    15.0"
      ]
     },
     "execution_count": 20,
     "metadata": {
      "tags": []
     },
     "output_type": "execute_result"
    }
   ],
   "source": [
    "df.head()"
   ]
  },
  {
   "cell_type": "code",
   "execution_count": null,
   "metadata": {
    "colab": {},
    "colab_type": "code",
    "id": "PaFWoc3A8i04",
    "outputId": "93d6eaf1-9744-479d-8c7b-5fa89c23db56"
   },
   "outputs": [
    {
     "name": "stdout",
     "output_type": "stream",
     "text": [
      "Базовые метрики\n",
      "count    10000.000000\n",
      "mean       518.284700\n",
      "std       1048.956372\n",
      "min          0.000000\n",
      "25%          6.000000\n",
      "50%         97.000000\n",
      "75%        540.000000\n",
      "max      18014.000000\n",
      "Name: volume, dtype: float64\n",
      "------------------------------------\n",
      "Самые популярные значения метрики, топ 5\n",
      "0.0    1336\n",
      "1.0     453\n",
      "2.0     245\n",
      "3.0     177\n",
      "6.0     127\n",
      "Name: volume, dtype: int64\n",
      "------------------------------------\n",
      "Эксцесс  27.40347440191345\n",
      "Ассиметрия  4.214029319719516\n"
     ]
    },
    {
     "data": {
      "image/png": "[encoded data removed]",
      "text/plain": [
       "<Figure size 432x288 with 1 Axes>"
      ]
     },
     "metadata": {
      "needs_background": "light",
      "tags": []
     },
     "output_type": "display_data"
    }
   ],
   "source": [
    "my_basic_research(df = df, column = \"volume\")"
   ]
  },
  {
   "cell_type": "markdown",
   "metadata": {
    "colab_type": "text",
    "id": "gJMHHedT8i06"
   },
   "source": [
    "Как можно увидеть, теперь мы имеем дело а ассиметричным распределением и все квантили, а такде коэффициенты ассиметрии и эксцесса поменялись, несмотря на равенство средних и ско - и выводы по этим датасетам получаются абсолютно разные.\n",
    "\n",
    "К примеру, сравним долю убыточных клиентов для первого и второго датасетов:"
   ]
  },
  {
   "cell_type": "code",
   "execution_count": null,
   "metadata": {
    "colab": {},
    "colab_type": "code",
    "id": "ltDdj8c68i07",
    "outputId": "ddde76f0-e2c8-4aee-f1b9-eb3aae6a1dfc"
   },
   "outputs": [
    {
     "data": {
      "text/plain": [
       "volume    0.3052\n",
       "dtype: float64"
      ]
     },
     "execution_count": 22,
     "metadata": {
      "tags": []
     },
     "output_type": "execute_result"
    }
   ],
   "source": [
    "v[v.volume < 0].count()/len(v)"
   ]
  },
  {
   "cell_type": "code",
   "execution_count": null,
   "metadata": {
    "colab": {},
    "colab_type": "code",
    "id": "0Rt_qNjj8i0-",
    "outputId": "370a09f0-567a-4cda-f722-7b9b3f7fa290"
   },
   "outputs": [
    {
     "data": {
      "text/plain": [
       "volume    0.0\n",
       "dtype: float64"
      ]
     },
     "execution_count": 23,
     "metadata": {
      "tags": []
     },
     "output_type": "execute_result"
    }
   ],
   "source": [
    "df[df.volume < 0].count()/len(df)"
   ]
  },
  {
   "cell_type": "markdown",
   "metadata": {
    "colab_type": "text",
    "id": "xMGnrJpN8i1A"
   },
   "source": [
    "А теперь сравним суммарную прибыль по клиентам с прибылью свыше медианы в млн:"
   ]
  },
  {
   "cell_type": "code",
   "execution_count": null,
   "metadata": {
    "colab": {},
    "colab_type": "code",
    "id": "k0xy51jC8i1B",
    "outputId": "001210c3-ae7d-43f9-e2f2-1d024eb1cb85"
   },
   "outputs": [
    {
     "data": {
      "text/plain": [
       "6.509022"
      ]
     },
     "execution_count": 24,
     "metadata": {
      "tags": []
     },
     "output_type": "execute_result"
    }
   ],
   "source": [
    "v[v.volume >= np.percentile(v.volume,50)].volume.sum()/10**6"
   ]
  },
  {
   "cell_type": "code",
   "execution_count": null,
   "metadata": {
    "colab": {},
    "colab_type": "code",
    "id": "to0hq-hG8i1G",
    "outputId": "b68c6fb6-5ab3-4b82-fada-4f0023be2835"
   },
   "outputs": [
    {
     "data": {
      "text/plain": [
       "5.089377"
      ]
     },
     "execution_count": 25,
     "metadata": {
      "tags": []
     },
     "output_type": "execute_result"
    }
   ],
   "source": [
    "df[df.volume >= np.percentile(df.volume,50)].volume.sum()/10**6"
   ]
  },
  {
   "cell_type": "markdown",
   "metadata": {
    "colab_type": "text",
    "id": "ZP2QgH1Q8i1J"
   },
   "source": [
    "Как можно видеть, эффект от ассимерии при одинаковых средних и ско существенно менять выводы."
   ]
  },
  {
   "cell_type": "markdown",
   "metadata": {
    "colab_type": "text",
    "id": "WT5h36zP8i1K"
   },
   "source": [
    "## Мини домашка"
   ]
  },
  {
   "cell_type": "markdown",
   "metadata": {
    "colab_type": "text",
    "id": "ye6qBTIv8i1K"
   },
   "source": [
    "Найдите медиану для Гамма распределения со средним = 1000 и среднеквадратичным отклонением = 3000, не округляя значения синтетического датасета.\n",
    "Какое число получилось?"
   ]
  }
 ],
 "metadata": {
  "colab": {
   "collapsed_sections": [],
   "name": "stat_practice1_wo_answers.ipynb",
   "provenance": []
  },
  "kernelspec": {
   "display_name": "Python 3 (ipykernel)",
   "language": "python",
   "name": "python3"
  },
  "language_info": {
   "codemirror_mode": {
    "name": "ipython",
    "version": 3
   },
   "file_extension": ".py",
   "mimetype": "text/x-python",
   "name": "python",
   "nbconvert_exporter": "python",
   "pygments_lexer": "ipython3",
   "version": "3.12.2"
  }
 },
 "nbformat": 4,
 "nbformat_minor": 4
}
