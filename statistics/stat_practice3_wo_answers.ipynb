{
 "cells": [
  {
   "cell_type": "markdown",
   "metadata": {},
   "source": [
    "# Практика по базовой математической статистике для Data scientist"
   ]
  },
  {
   "cell_type": "markdown",
   "metadata": {},
   "source": [
    "# Практика 3 - построение доверительной оценки"
   ]
  },
  {
   "cell_type": "markdown",
   "metadata": {},
   "source": [
    "На практическом занятии научимся строить доверительные интервалы и выделять аномалии при помощи python. \n",
    "\n",
    "- Строим доверительный интервал для цен акций из yahoo finance при помощи scipy, numpy, pandas\n",
    "-  Делаем выводы по наличию или отсутствию аномальных событий"
   ]
  },
  {
   "cell_type": "markdown",
   "metadata": {},
   "source": [
    "Для начала импортируем все полезные библитеки и настроим ноутбук"
   ]
  },
  {
   "cell_type": "code",
   "execution_count": 1,
   "metadata": {},
   "outputs": [],
   "source": [
    "import pandas as pd\n",
    "import numpy as np\n",
    "import matplotlib.pyplot as plt\n",
    "import seaborn as sns\n",
    "import scipy.special as sps\n",
    "from scipy import *\n",
    "import warnings\n",
    "from scipy.stats import kurtosis\n",
    "from scipy.stats import skew\n",
    "from scipy import stats\n",
    "import statsmodels.api as sm\n",
    "\n",
    "%matplotlib inline\n",
    "plt.rcParams[\"figure.figsize\"] = (10.0, 7.0)\n",
    "warnings.filterwarnings(\"ignore\")"
   ]
  },
  {
   "cell_type": "markdown",
   "metadata": {},
   "source": [
    "В этой практике мы поработаем с реальными финансовыми данными. \n",
    "Наверняка каждый из нас хоть раз покупал доллары в надежде немного заработать на разнице курсов покупки и продажи. Но не каждый знет, чтоо помимо валют есть еще и другие финансовые инструменты - например, акции или облигации, с которыми работаю профессиональные инвесторы на специальной площадке для купли и продаже - бирже.\n",
    "\n",
    "Данные о ценах финансовых инструментов называются котировками, и сегодня мы с вами представим себя инвесторами и проанализируем реальные котировки самых настоящих акций.\n",
    "\n",
    "Мы будем доставать их из сервиса yahoo finance, и для этого помощи bash магии установим несколько нужных библиотек."
   ]
  },
  {
   "cell_type": "code",
   "execution_count": 2,
   "metadata": {
    "scrolled": true
   },
   "outputs": [
    {
     "name": "stdout",
     "output_type": "stream",
     "text": [
      "Requirement already satisfied: yahoo-finance in /Users/l.khramova/anaconda3/lib/python3.7/site-packages (1.4.0)\n",
      "Requirement already satisfied: simplejson in /Users/l.khramova/anaconda3/lib/python3.7/site-packages (from yahoo-finance) (3.16.0)\n",
      "Requirement already satisfied: pytz in /Users/l.khramova/anaconda3/lib/python3.7/site-packages (from yahoo-finance) (2018.5)\n"
     ]
    },
    {
     "name": "stderr",
     "output_type": "stream",
     "text": [
      "twisted 18.7.0 requires PyHamcrest>=1.9.0, which is not installed.\n",
      "You are using pip version 10.0.1, however version 19.2.2 is available.\n",
      "You should consider upgrading via the 'pip install --upgrade pip' command.\n"
     ]
    }
   ],
   "source": [
    "%%bash\n",
    "pip install yahoo-finance"
   ]
  },
  {
   "cell_type": "code",
   "execution_count": 3,
   "metadata": {
    "scrolled": true
   },
   "outputs": [
    {
     "name": "stdout",
     "output_type": "stream",
     "text": [
      "Requirement already satisfied: pandas-datareader in /Users/l.khramova/anaconda3/lib/python3.7/site-packages (0.7.4)\n",
      "Requirement already satisfied: pandas>=0.19.2 in /Users/l.khramova/anaconda3/lib/python3.7/site-packages (from pandas-datareader) (0.23.4)\n",
      "Requirement already satisfied: wrapt in /Users/l.khramova/anaconda3/lib/python3.7/site-packages (from pandas-datareader) (1.10.11)\n",
      "Requirement already satisfied: requests>=2.3.0 in /Users/l.khramova/anaconda3/lib/python3.7/site-packages (from pandas-datareader) (2.19.1)\n",
      "Requirement already satisfied: lxml in /Users/l.khramova/anaconda3/lib/python3.7/site-packages (from pandas-datareader) (4.2.5)\n",
      "Requirement already satisfied: python-dateutil>=2.5.0 in /Users/l.khramova/anaconda3/lib/python3.7/site-packages (from pandas>=0.19.2->pandas-datareader) (2.7.3)\n",
      "Requirement already satisfied: pytz>=2011k in /Users/l.khramova/anaconda3/lib/python3.7/site-packages (from pandas>=0.19.2->pandas-datareader) (2018.5)\n",
      "Requirement already satisfied: numpy>=1.9.0 in /Users/l.khramova/anaconda3/lib/python3.7/site-packages (from pandas>=0.19.2->pandas-datareader) (1.15.1)\n",
      "Requirement already satisfied: idna<2.8,>=2.5 in /Users/l.khramova/anaconda3/lib/python3.7/site-packages (from requests>=2.3.0->pandas-datareader) (2.7)\n",
      "Requirement already satisfied: urllib3<1.24,>=1.21.1 in /Users/l.khramova/anaconda3/lib/python3.7/site-packages (from requests>=2.3.0->pandas-datareader) (1.23)\n",
      "Requirement already satisfied: chardet<3.1.0,>=3.0.2 in /Users/l.khramova/anaconda3/lib/python3.7/site-packages (from requests>=2.3.0->pandas-datareader) (3.0.4)\n",
      "Requirement already satisfied: certifi>=2017.4.17 in /Users/l.khramova/anaconda3/lib/python3.7/site-packages (from requests>=2.3.0->pandas-datareader) (2018.8.24)\n",
      "Requirement already satisfied: six>=1.5 in /Users/l.khramova/anaconda3/lib/python3.7/site-packages (from python-dateutil>=2.5.0->pandas>=0.19.2->pandas-datareader) (1.11.0)\n"
     ]
    },
    {
     "name": "stderr",
     "output_type": "stream",
     "text": [
      "twisted 18.7.0 requires PyHamcrest>=1.9.0, which is not installed.\n",
      "You are using pip version 10.0.1, however version 19.2.2 is available.\n",
      "You should consider upgrading via the 'pip install --upgrade pip' command.\n"
     ]
    }
   ],
   "source": [
    "%%bash\n",
    "pip install pandas-datareader"
   ]
  },
  {
   "cell_type": "code",
   "execution_count": 4,
   "metadata": {},
   "outputs": [],
   "source": [
    "import pandas_datareader as pdr\n",
    "from datetime import datetime"
   ]
  },
  {
   "cell_type": "code",
   "execution_count": 5,
   "metadata": {},
   "outputs": [],
   "source": [
    "# Собираем котировки за интересующий период.\n",
    "start_date = datetime(2018, 1, 1)\n",
    "end_date = datetime(2019, 8, 31)"
   ]
  },
  {
   "cell_type": "code",
   "execution_count": 6,
   "metadata": {
    "scrolled": true
   },
   "outputs": [],
   "source": [
    "df = pdr.get_data_yahoo(symbols=\"GOOG\", start=start_date, end=end_date)"
   ]
  },
  {
   "cell_type": "code",
   "execution_count": 7,
   "metadata": {},
   "outputs": [
    {
     "name": "stdout",
     "output_type": "stream",
     "text": [
      "<class 'pandas.core.frame.DataFrame'>\n",
      "DatetimeIndex: 414 entries, 2018-01-02 to 2019-08-23\n",
      "Data columns (total 6 columns):\n",
      "High         414 non-null float64\n",
      "Low          414 non-null float64\n",
      "Open         414 non-null float64\n",
      "Close        414 non-null float64\n",
      "Volume       414 non-null int64\n",
      "Adj Close    414 non-null float64\n",
      "dtypes: float64(5), int64(1)\n",
      "memory usage: 22.6 KB\n"
     ]
    }
   ],
   "source": [
    "df.info()"
   ]
  },
  {
   "cell_type": "code",
   "execution_count": 8,
   "metadata": {},
   "outputs": [
    {
     "data": {
      "text/html": [
       "<div>\n",
       "<style scoped>\n",
       "    .dataframe tbody tr th:only-of-type {\n",
       "        vertical-align: middle;\n",
       "    }\n",
       "\n",
       "    .dataframe tbody tr th {\n",
       "        vertical-align: top;\n",
       "    }\n",
       "\n",
       "    .dataframe thead th {\n",
       "        text-align: right;\n",
       "    }\n",
       "</style>\n",
       "<table border=\"1\" class=\"dataframe\">\n",
       "  <thead>\n",
       "    <tr style=\"text-align: right;\">\n",
       "      <th></th>\n",
       "      <th>high</th>\n",
       "      <th>low</th>\n",
       "      <th>open</th>\n",
       "      <th>close</th>\n",
       "      <th>volume</th>\n",
       "      <th>adj close</th>\n",
       "    </tr>\n",
       "    <tr>\n",
       "      <th>Date</th>\n",
       "      <th></th>\n",
       "      <th></th>\n",
       "      <th></th>\n",
       "      <th></th>\n",
       "      <th></th>\n",
       "      <th></th>\n",
       "    </tr>\n",
       "  </thead>\n",
       "  <tbody>\n",
       "    <tr>\n",
       "      <th>2018-01-02</th>\n",
       "      <td>1066.939941</td>\n",
       "      <td>1045.229980</td>\n",
       "      <td>1048.339966</td>\n",
       "      <td>1065.000000</td>\n",
       "      <td>1237600</td>\n",
       "      <td>1065.000000</td>\n",
       "    </tr>\n",
       "    <tr>\n",
       "      <th>2018-01-03</th>\n",
       "      <td>1086.290039</td>\n",
       "      <td>1063.209961</td>\n",
       "      <td>1064.310059</td>\n",
       "      <td>1082.479980</td>\n",
       "      <td>1430200</td>\n",
       "      <td>1082.479980</td>\n",
       "    </tr>\n",
       "    <tr>\n",
       "      <th>2018-01-04</th>\n",
       "      <td>1093.569946</td>\n",
       "      <td>1084.001953</td>\n",
       "      <td>1088.000000</td>\n",
       "      <td>1086.400024</td>\n",
       "      <td>1004600</td>\n",
       "      <td>1086.400024</td>\n",
       "    </tr>\n",
       "    <tr>\n",
       "      <th>2018-01-05</th>\n",
       "      <td>1104.250000</td>\n",
       "      <td>1092.000000</td>\n",
       "      <td>1094.000000</td>\n",
       "      <td>1102.229980</td>\n",
       "      <td>1279100</td>\n",
       "      <td>1102.229980</td>\n",
       "    </tr>\n",
       "    <tr>\n",
       "      <th>2018-01-08</th>\n",
       "      <td>1111.270020</td>\n",
       "      <td>1101.619995</td>\n",
       "      <td>1102.229980</td>\n",
       "      <td>1106.939941</td>\n",
       "      <td>1047600</td>\n",
       "      <td>1106.939941</td>\n",
       "    </tr>\n",
       "  </tbody>\n",
       "</table>\n",
       "</div>"
      ],
      "text/plain": [
       "                   high          low         open        close   volume  \\\n",
       "Date                                                                      \n",
       "2018-01-02  1066.939941  1045.229980  1048.339966  1065.000000  1237600   \n",
       "2018-01-03  1086.290039  1063.209961  1064.310059  1082.479980  1430200   \n",
       "2018-01-04  1093.569946  1084.001953  1088.000000  1086.400024  1004600   \n",
       "2018-01-05  1104.250000  1092.000000  1094.000000  1102.229980  1279100   \n",
       "2018-01-08  1111.270020  1101.619995  1102.229980  1106.939941  1047600   \n",
       "\n",
       "              adj close  \n",
       "Date                     \n",
       "2018-01-02  1065.000000  \n",
       "2018-01-03  1082.479980  \n",
       "2018-01-04  1086.400024  \n",
       "2018-01-05  1102.229980  \n",
       "2018-01-08  1106.939941  "
      ]
     },
     "execution_count": 8,
     "metadata": {},
     "output_type": "execute_result"
    }
   ],
   "source": [
    "# Переведем загловки столбцов в нижний регистр и посмотрим на данные\n",
    "df.columns = map(str.lower, df.columns)\n",
    "df.head()"
   ]
  },
  {
   "cell_type": "markdown",
   "metadata": {},
   "source": [
    "Для изучения выберем разницу между ценой закрытия и ценой открытия."
   ]
  },
  {
   "cell_type": "code",
   "execution_count": 9,
   "metadata": {},
   "outputs": [],
   "source": [
    "# Готовим новую метрику.\n",
    "df[\"diff_price\"] = df.close - df.open"
   ]
  },
  {
   "cell_type": "markdown",
   "metadata": {},
   "source": [
    "Для построения доверительного интервала необходимо, чтобы исследумая величина была распределена по Гауссову закону.\n",
    "Поэтому воспользуемся функцией из первой практики для разведочного анализа."
   ]
  },
  {
   "cell_type": "code",
   "execution_count": 10,
   "metadata": {},
   "outputs": [
    {
     "data": {
      "text/plain": [
       "Text(0.5,1,'График разниы между ценой закрытия и открытия')"
      ]
     },
     "execution_count": 10,
     "metadata": {},
     "output_type": "execute_result"
    },
    {
     "data": {
      "image/png": "[encoded data removed]",
      "text/plain": [
       "<Figure size 432x288 with 1 Axes>"
      ]
     },
     "metadata": {
      "needs_background": "light"
     },
     "output_type": "display_data"
    }
   ],
   "source": [
    "df.diff_price.plot()\n",
    "plt.title(\"График разниы между ценой закрытия и открытия\")"
   ]
  },
  {
   "cell_type": "code",
   "execution_count": 11,
   "metadata": {},
   "outputs": [],
   "source": [
    "def my_basic_research(df=df, column = \"diff_price\"):\n",
    "    print(\"Базовые метрики\")\n",
    "    print(df[column].describe())\n",
    "    print(\"------------------------------------\")\n",
    "    \n",
    "    print(\"Самые популярные значения метрики, топ 5\")\n",
    "    print(df[column].value_counts().nlargest(5))\n",
    "    print(\"------------------------------------\")\n",
    "    \n",
    "    print(\"Эксцесс \", kurtosis(df[column]))\n",
    "    print(\"Ассиметрия \", skew(df[column]))\n",
    "    \n",
    "    sns.distplot(df[column])\n",
    "    plt.title(\"Распределение метрики\")"
   ]
  },
  {
   "cell_type": "code",
   "execution_count": 12,
   "metadata": {
    "scrolled": false
   },
   "outputs": [
    {
     "name": "stdout",
     "output_type": "stream",
     "text": [
      "Базовые метрики\n",
      "count    414.000000\n",
      "mean       0.263608\n",
      "std       15.833054\n",
      "min      -62.389954\n",
      "25%       -7.427490\n",
      "50%       -0.140015\n",
      "75%        9.090088\n",
      "max       53.419922\n",
      "Name: diff_price, dtype: float64\n",
      "------------------------------------\n",
      "Самые популярные значения метрики, топ 5\n",
      "-1.900024    2\n",
      "-4.140015    2\n",
      " 3.479980    2\n",
      "-6.169922    2\n",
      " 2.079956    2\n",
      "Name: diff_price, dtype: int64\n",
      "------------------------------------\n",
      "Эксцесс  1.82234052150468\n",
      "Ассиметрия  -0.37125785357663094\n"
     ]
    },
    {
     "data": {
      "image/png": "[encoded data removed]",
      "text/plain": [
       "<Figure size 432x288 with 1 Axes>"
      ]
     },
     "metadata": {
      "needs_background": "light"
     },
     "output_type": "display_data"
    }
   ],
   "source": [
    "my_basic_research(column = \"diff_price\")"
   ]
  },
  {
   "cell_type": "markdown",
   "metadata": {},
   "source": [
    "В целом наше распределение близко к нормальному, несмотря на остроконечный пик и наличие выбросов. \n",
    "Однако для уверенности проверим его при помощи графика QQ plot - https://en.wikipedia.org/wiki/Q%E2%80%93Q_plot\n",
    "\n",
    "График сравнивает квантили выборки и выбранноого распределения - в нашем случае, нормального."
   ]
  },
  {
   "cell_type": "code",
   "execution_count": 13,
   "metadata": {},
   "outputs": [
    {
     "data": {
      "image/png": "[encoded data removed]",
      "text/plain": [
       "<Figure size 432x288 with 1 Axes>"
      ]
     },
     "metadata": {
      "needs_background": "light"
     },
     "output_type": "display_data"
    }
   ],
   "source": [
    "sm.qqplot(df.diff_price, fit = True)\n",
    "plt.title(\"QQ plot\")\n",
    "plt.show()"
   ]
  },
  {
   "cell_type": "markdown",
   "metadata": {},
   "source": [
    "Кажется, что можно использовать стандартные доверительные интервалы для нормального распределения. Для этого воспользуемся функцией https://docs.scipy.org/doc/scipy/reference/generated/scipy.stats.norm.html"
   ]
  },
  {
   "cell_type": "code",
   "execution_count": 14,
   "metadata": {},
   "outputs": [],
   "source": [
    "def my_norm_confidence(df=df, column = \"diff_price\", alpha = 0.95):\n",
    "    interval = stats.norm.interval(alpha, loc=df[column].mean(), scale=df[column].std())\n",
    "    return interval"
   ]
  },
  {
   "cell_type": "code",
   "execution_count": 15,
   "metadata": {},
   "outputs": [
    {
     "name": "stdout",
     "output_type": "stream",
     "text": [
      "(-30.76860816831546, 31.295824835453892)\n"
     ]
    }
   ],
   "source": [
    "confidence = my_norm_confidence()\n",
    "print(confidence)"
   ]
  },
  {
   "cell_type": "markdown",
   "metadata": {},
   "source": [
    "При доверительной вероятности 95 % средняя разница между ценой закрытия и открытия не выйдет за этот интервал.\n",
    "Отметим на графике полученный коридор."
   ]
  },
  {
   "cell_type": "code",
   "execution_count": 16,
   "metadata": {},
   "outputs": [
    {
     "data": {
      "text/plain": [
       "Text(0.5,1,'Доверительный интервал')"
      ]
     },
     "execution_count": 16,
     "metadata": {},
     "output_type": "execute_result"
    },
    {
     "data": {
      "image/png": "[encoded data removed]",
      "text/plain": [
       "<Figure size 432x288 with 1 Axes>"
      ]
     },
     "metadata": {
      "needs_background": "light"
     },
     "output_type": "display_data"
    }
   ],
   "source": [
    "df.diff_price.plot()\n",
    "plt.axhline(y=confidence[1], color=\"g\", linestyle=\"-\")\n",
    "plt.axhline(y=confidence[0], color=\"r\", linestyle=\"-\")\n",
    "plt.title(\"Доверительный интервал\")"
   ]
  },
  {
   "cell_type": "markdown",
   "metadata": {},
   "source": [
    "## Отбор аномалий при помощи доверительного интервала"
   ]
  },
  {
   "cell_type": "markdown",
   "metadata": {},
   "source": [
    "А если нам понадобится отметить аномальные события, выходящие за зеленую границу, то это можно сделать следующим образом"
   ]
  },
  {
   "cell_type": "code",
   "execution_count": 17,
   "metadata": {},
   "outputs": [],
   "source": [
    "df[\"anomaly_big\"] = np.where(df.diff_price > confidence[1], 1,0)"
   ]
  },
  {
   "cell_type": "markdown",
   "metadata": {},
   "source": [
    "Теперь они готовы к дальнейшему исследованию."
   ]
  },
  {
   "cell_type": "code",
   "execution_count": 18,
   "metadata": {},
   "outputs": [
    {
     "data": {
      "text/html": [
       "<div>\n",
       "<style scoped>\n",
       "    .dataframe tbody tr th:only-of-type {\n",
       "        vertical-align: middle;\n",
       "    }\n",
       "\n",
       "    .dataframe tbody tr th {\n",
       "        vertical-align: top;\n",
       "    }\n",
       "\n",
       "    .dataframe thead th {\n",
       "        text-align: right;\n",
       "    }\n",
       "</style>\n",
       "<table border=\"1\" class=\"dataframe\">\n",
       "  <thead>\n",
       "    <tr style=\"text-align: right;\">\n",
       "      <th></th>\n",
       "      <th>high</th>\n",
       "      <th>low</th>\n",
       "      <th>open</th>\n",
       "      <th>close</th>\n",
       "      <th>volume</th>\n",
       "      <th>adj close</th>\n",
       "      <th>diff_price</th>\n",
       "      <th>anomaly_big</th>\n",
       "    </tr>\n",
       "  </thead>\n",
       "  <tbody>\n",
       "    <tr>\n",
       "      <th>count</th>\n",
       "      <td>10.000000</td>\n",
       "      <td>10.000000</td>\n",
       "      <td>10.000000</td>\n",
       "      <td>10.000000</td>\n",
       "      <td>1.000000e+01</td>\n",
       "      <td>10.000000</td>\n",
       "      <td>10.000000</td>\n",
       "      <td>10.0</td>\n",
       "    </tr>\n",
       "    <tr>\n",
       "      <th>mean</th>\n",
       "      <td>1088.186780</td>\n",
       "      <td>1040.519098</td>\n",
       "      <td>1044.146002</td>\n",
       "      <td>1083.051978</td>\n",
       "      <td>2.577930e+06</td>\n",
       "      <td>1083.051978</td>\n",
       "      <td>38.905975</td>\n",
       "      <td>1.0</td>\n",
       "    </tr>\n",
       "    <tr>\n",
       "      <th>std</th>\n",
       "      <td>50.618170</td>\n",
       "      <td>50.943488</td>\n",
       "      <td>49.937315</td>\n",
       "      <td>49.617563</td>\n",
       "      <td>7.385681e+05</td>\n",
       "      <td>49.617563</td>\n",
       "      <td>8.221770</td>\n",
       "      <td>0.0</td>\n",
       "    </tr>\n",
       "    <tr>\n",
       "      <th>min</th>\n",
       "      <td>1028.718018</td>\n",
       "      <td>983.000000</td>\n",
       "      <td>989.010010</td>\n",
       "      <td>1025.140015</td>\n",
       "      <td>1.719200e+06</td>\n",
       "      <td>1025.140015</td>\n",
       "      <td>31.309937</td>\n",
       "      <td>1.0</td>\n",
       "    </tr>\n",
       "    <tr>\n",
       "      <th>25%</th>\n",
       "      <td>1054.092499</td>\n",
       "      <td>1018.459274</td>\n",
       "      <td>1019.470032</td>\n",
       "      <td>1053.339966</td>\n",
       "      <td>2.142750e+06</td>\n",
       "      <td>1053.339966</td>\n",
       "      <td>32.407516</td>\n",
       "      <td>1.0</td>\n",
       "    </tr>\n",
       "    <tr>\n",
       "      <th>50%</th>\n",
       "      <td>1076.454956</td>\n",
       "      <td>1029.093994</td>\n",
       "      <td>1033.424988</td>\n",
       "      <td>1071.089966</td>\n",
       "      <td>2.424350e+06</td>\n",
       "      <td>1071.089966</td>\n",
       "      <td>35.969971</td>\n",
       "      <td>1.0</td>\n",
       "    </tr>\n",
       "    <tr>\n",
       "      <th>75%</th>\n",
       "      <td>1101.607513</td>\n",
       "      <td>1035.342499</td>\n",
       "      <td>1045.827515</td>\n",
       "      <td>1084.822479</td>\n",
       "      <td>2.698075e+06</td>\n",
       "      <td>1084.822479</td>\n",
       "      <td>44.284973</td>\n",
       "      <td>1.0</td>\n",
       "    </tr>\n",
       "    <tr>\n",
       "      <th>max</th>\n",
       "      <td>1176.189941</td>\n",
       "      <td>1144.449951</td>\n",
       "      <td>1144.449951</td>\n",
       "      <td>1175.760010</td>\n",
       "      <td>4.187600e+06</td>\n",
       "      <td>1175.760010</td>\n",
       "      <td>53.419922</td>\n",
       "      <td>1.0</td>\n",
       "    </tr>\n",
       "  </tbody>\n",
       "</table>\n",
       "</div>"
      ],
      "text/plain": [
       "              high          low         open        close        volume  \\\n",
       "count    10.000000    10.000000    10.000000    10.000000  1.000000e+01   \n",
       "mean   1088.186780  1040.519098  1044.146002  1083.051978  2.577930e+06   \n",
       "std      50.618170    50.943488    49.937315    49.617563  7.385681e+05   \n",
       "min    1028.718018   983.000000   989.010010  1025.140015  1.719200e+06   \n",
       "25%    1054.092499  1018.459274  1019.470032  1053.339966  2.142750e+06   \n",
       "50%    1076.454956  1029.093994  1033.424988  1071.089966  2.424350e+06   \n",
       "75%    1101.607513  1035.342499  1045.827515  1084.822479  2.698075e+06   \n",
       "max    1176.189941  1144.449951  1144.449951  1175.760010  4.187600e+06   \n",
       "\n",
       "         adj close  diff_price  anomaly_big  \n",
       "count    10.000000   10.000000         10.0  \n",
       "mean   1083.051978   38.905975          1.0  \n",
       "std      49.617563    8.221770          0.0  \n",
       "min    1025.140015   31.309937          1.0  \n",
       "25%    1053.339966   32.407516          1.0  \n",
       "50%    1071.089966   35.969971          1.0  \n",
       "75%    1084.822479   44.284973          1.0  \n",
       "max    1175.760010   53.419922          1.0  "
      ]
     },
     "execution_count": 18,
     "metadata": {},
     "output_type": "execute_result"
    }
   ],
   "source": [
    "df[df.anomaly_big == 1].describe()"
   ]
  },
  {
   "cell_type": "markdown",
   "metadata": {},
   "source": [
    "# Мини домашка"
   ]
  },
  {
   "cell_type": "markdown",
   "metadata": {},
   "source": [
    "Необходимо построить для тех же данных доверительный интервал с доверительной вероятностью 90 %\n",
    "Сколько аномальных событий находится выше верхней доверительной границы?"
   ]
  }
 ],
 "metadata": {
  "kernelspec": {
   "display_name": "Python 3",
   "language": "python",
   "name": "python3"
  },
  "language_info": {
   "codemirror_mode": {
    "name": "ipython",
    "version": 3
   },
   "file_extension": ".py",
   "mimetype": "text/x-python",
   "name": "python",
   "nbconvert_exporter": "python",
   "pygments_lexer": "ipython3",
   "version": "3.7.0"
  }
 },
 "nbformat": 4,
 "nbformat_minor": 2
}
