{
 "cells": [
  {
   "cell_type": "code",
   "execution_count": 1,
   "id": "06647148-defc-4340-9546-c26b435503e5",
   "metadata": {},
   "outputs": [],
   "source": [
    "import pandas as pd\n",
    "import numpy as np\n",
    "import matplotlib\n",
    "import matplotlib.pyplot as plt\n",
    "\n",
    "matplotlib.rc(\"font\", size=18)"
   ]
  },
  {
   "cell_type": "code",
   "execution_count": 4,
   "id": "46a9dd01-2dd3-4760-b32d-8da5c30cd8d0",
   "metadata": {},
   "outputs": [
    {
     "data": {
      "text/html": [
       "<div>\n",
       "<style scoped>\n",
       "    .dataframe tbody tr th:only-of-type {\n",
       "        vertical-align: middle;\n",
       "    }\n",
       "\n",
       "    .dataframe tbody tr th {\n",
       "        vertical-align: top;\n",
       "    }\n",
       "\n",
       "    .dataframe thead th {\n",
       "        text-align: right;\n",
       "    }\n",
       "</style>\n",
       "<table border=\"1\" class=\"dataframe\">\n",
       "  <thead>\n",
       "    <tr style=\"text-align: right;\">\n",
       "      <th></th>\n",
       "      <th>disk</th>\n",
       "      <th>os</th>\n",
       "      <th>price</th>\n",
       "      <th>year</th>\n",
       "    </tr>\n",
       "  </thead>\n",
       "  <tbody>\n",
       "    <tr>\n",
       "      <th>0</th>\n",
       "      <td>64</td>\n",
       "      <td>Android</td>\n",
       "      <td>7256</td>\n",
       "      <td>2016</td>\n",
       "    </tr>\n",
       "    <tr>\n",
       "      <th>1</th>\n",
       "      <td>128</td>\n",
       "      <td>Android</td>\n",
       "      <td>7623</td>\n",
       "      <td>2015</td>\n",
       "    </tr>\n",
       "    <tr>\n",
       "      <th>2</th>\n",
       "      <td>64</td>\n",
       "      <td>Android</td>\n",
       "      <td>1916</td>\n",
       "      <td>2010</td>\n",
       "    </tr>\n",
       "    <tr>\n",
       "      <th>3</th>\n",
       "      <td>512</td>\n",
       "      <td>iOS</td>\n",
       "      <td>15045</td>\n",
       "      <td>2017</td>\n",
       "    </tr>\n",
       "    <tr>\n",
       "      <th>4</th>\n",
       "      <td>16</td>\n",
       "      <td>Android</td>\n",
       "      <td>4478</td>\n",
       "      <td>2013</td>\n",
       "    </tr>\n",
       "    <tr>\n",
       "      <th>5</th>\n",
       "      <td>512</td>\n",
       "      <td>iOS</td>\n",
       "      <td>15842</td>\n",
       "      <td>2018</td>\n",
       "    </tr>\n",
       "    <tr>\n",
       "      <th>6</th>\n",
       "      <td>128</td>\n",
       "      <td>Android</td>\n",
       "      <td>7191</td>\n",
       "      <td>2015</td>\n",
       "    </tr>\n",
       "    <tr>\n",
       "      <th>7</th>\n",
       "      <td>64</td>\n",
       "      <td>Android</td>\n",
       "      <td>4277</td>\n",
       "      <td>2013</td>\n",
       "    </tr>\n",
       "    <tr>\n",
       "      <th>8</th>\n",
       "      <td>512</td>\n",
       "      <td>iOS</td>\n",
       "      <td>12797</td>\n",
       "      <td>2015</td>\n",
       "    </tr>\n",
       "    <tr>\n",
       "      <th>9</th>\n",
       "      <td>64</td>\n",
       "      <td>Android</td>\n",
       "      <td>6256</td>\n",
       "      <td>2015</td>\n",
       "    </tr>\n",
       "    <tr>\n",
       "      <th>10</th>\n",
       "      <td>512</td>\n",
       "      <td>iOS</td>\n",
       "      <td>13788</td>\n",
       "      <td>2016</td>\n",
       "    </tr>\n",
       "    <tr>\n",
       "      <th>11</th>\n",
       "      <td>128</td>\n",
       "      <td>Android</td>\n",
       "      <td>10729</td>\n",
       "      <td>2018</td>\n",
       "    </tr>\n",
       "    <tr>\n",
       "      <th>12</th>\n",
       "      <td>512</td>\n",
       "      <td>iOS</td>\n",
       "      <td>9392</td>\n",
       "      <td>2012</td>\n",
       "    </tr>\n",
       "    <tr>\n",
       "      <th>13</th>\n",
       "      <td>128</td>\n",
       "      <td>Android</td>\n",
       "      <td>5416</td>\n",
       "      <td>2013</td>\n",
       "    </tr>\n",
       "    <tr>\n",
       "      <th>14</th>\n",
       "      <td>256</td>\n",
       "      <td>iOS</td>\n",
       "      <td>7334</td>\n",
       "      <td>2012</td>\n",
       "    </tr>\n",
       "    <tr>\n",
       "      <th>15</th>\n",
       "      <td>16</td>\n",
       "      <td>Android</td>\n",
       "      <td>1890</td>\n",
       "      <td>2011</td>\n",
       "    </tr>\n",
       "    <tr>\n",
       "      <th>16</th>\n",
       "      <td>512</td>\n",
       "      <td>iOS</td>\n",
       "      <td>12571</td>\n",
       "      <td>2015</td>\n",
       "    </tr>\n",
       "    <tr>\n",
       "      <th>17</th>\n",
       "      <td>16</td>\n",
       "      <td>Android</td>\n",
       "      <td>5814</td>\n",
       "      <td>2015</td>\n",
       "    </tr>\n",
       "    <tr>\n",
       "      <th>18</th>\n",
       "      <td>256</td>\n",
       "      <td>iOS</td>\n",
       "      <td>13422</td>\n",
       "      <td>2018</td>\n",
       "    </tr>\n",
       "    <tr>\n",
       "      <th>19</th>\n",
       "      <td>256</td>\n",
       "      <td>iOS</td>\n",
       "      <td>11910</td>\n",
       "      <td>2017</td>\n",
       "    </tr>\n",
       "  </tbody>\n",
       "</table>\n",
       "</div>"
      ],
      "text/plain": [
       "    disk       os  price  year\n",
       "0     64  Android   7256  2016\n",
       "1    128  Android   7623  2015\n",
       "2     64  Android   1916  2010\n",
       "3    512      iOS  15045  2017\n",
       "4     16  Android   4478  2013\n",
       "5    512      iOS  15842  2018\n",
       "6    128  Android   7191  2015\n",
       "7     64  Android   4277  2013\n",
       "8    512      iOS  12797  2015\n",
       "9     64  Android   6256  2015\n",
       "10   512      iOS  13788  2016\n",
       "11   128  Android  10729  2018\n",
       "12   512      iOS   9392  2012\n",
       "13   128  Android   5416  2013\n",
       "14   256      iOS   7334  2012\n",
       "15    16  Android   1890  2011\n",
       "16   512      iOS  12571  2015\n",
       "17    16  Android   5814  2015\n",
       "18   256      iOS  13422  2018\n",
       "19   256      iOS  11910  2017"
      ]
     },
     "execution_count": 4,
     "metadata": {},
     "output_type": "execute_result"
    }
   ],
   "source": [
    "df = pd.read_csv(\"1.8_phones.csv\")\n",
    "df.head(20)"
   ]
  },
  {
   "cell_type": "code",
   "execution_count": 5,
   "id": "4668a226-44d2-4937-890c-bf54f413e262",
   "metadata": {},
   "outputs": [
    {
     "data": {
      "text/plain": [
       "array(['Android', 'iOS'], dtype=object)"
      ]
     },
     "execution_count": 5,
     "metadata": {},
     "output_type": "execute_result"
    }
   ],
   "source": [
    "df[\"os\"].unique()"
   ]
  },
  {
   "cell_type": "code",
   "execution_count": 9,
   "id": "06d0948e-d8e1-4eb8-9526-436ea8dca1ad",
   "metadata": {},
   "outputs": [
    {
     "data": {
      "text/html": [
       "<div>\n",
       "<style scoped>\n",
       "    .dataframe tbody tr th:only-of-type {\n",
       "        vertical-align: middle;\n",
       "    }\n",
       "\n",
       "    .dataframe tbody tr th {\n",
       "        vertical-align: top;\n",
       "    }\n",
       "\n",
       "    .dataframe thead th {\n",
       "        text-align: right;\n",
       "    }\n",
       "</style>\n",
       "<table border=\"1\" class=\"dataframe\">\n",
       "  <thead>\n",
       "    <tr style=\"text-align: right;\">\n",
       "      <th></th>\n",
       "      <th>disk</th>\n",
       "      <th>os</th>\n",
       "      <th>price</th>\n",
       "      <th>year</th>\n",
       "      <th>os_type</th>\n",
       "    </tr>\n",
       "  </thead>\n",
       "  <tbody>\n",
       "    <tr>\n",
       "      <th>0</th>\n",
       "      <td>64</td>\n",
       "      <td>Android</td>\n",
       "      <td>7256</td>\n",
       "      <td>2016</td>\n",
       "      <td>0</td>\n",
       "    </tr>\n",
       "    <tr>\n",
       "      <th>1</th>\n",
       "      <td>128</td>\n",
       "      <td>Android</td>\n",
       "      <td>7623</td>\n",
       "      <td>2015</td>\n",
       "      <td>0</td>\n",
       "    </tr>\n",
       "    <tr>\n",
       "      <th>2</th>\n",
       "      <td>64</td>\n",
       "      <td>Android</td>\n",
       "      <td>1916</td>\n",
       "      <td>2010</td>\n",
       "      <td>0</td>\n",
       "    </tr>\n",
       "    <tr>\n",
       "      <th>3</th>\n",
       "      <td>512</td>\n",
       "      <td>iOS</td>\n",
       "      <td>15045</td>\n",
       "      <td>2017</td>\n",
       "      <td>1</td>\n",
       "    </tr>\n",
       "    <tr>\n",
       "      <th>4</th>\n",
       "      <td>16</td>\n",
       "      <td>Android</td>\n",
       "      <td>4478</td>\n",
       "      <td>2013</td>\n",
       "      <td>0</td>\n",
       "    </tr>\n",
       "    <tr>\n",
       "      <th>5</th>\n",
       "      <td>512</td>\n",
       "      <td>iOS</td>\n",
       "      <td>15842</td>\n",
       "      <td>2018</td>\n",
       "      <td>1</td>\n",
       "    </tr>\n",
       "    <tr>\n",
       "      <th>6</th>\n",
       "      <td>128</td>\n",
       "      <td>Android</td>\n",
       "      <td>7191</td>\n",
       "      <td>2015</td>\n",
       "      <td>0</td>\n",
       "    </tr>\n",
       "    <tr>\n",
       "      <th>7</th>\n",
       "      <td>64</td>\n",
       "      <td>Android</td>\n",
       "      <td>4277</td>\n",
       "      <td>2013</td>\n",
       "      <td>0</td>\n",
       "    </tr>\n",
       "    <tr>\n",
       "      <th>8</th>\n",
       "      <td>512</td>\n",
       "      <td>iOS</td>\n",
       "      <td>12797</td>\n",
       "      <td>2015</td>\n",
       "      <td>1</td>\n",
       "    </tr>\n",
       "    <tr>\n",
       "      <th>9</th>\n",
       "      <td>64</td>\n",
       "      <td>Android</td>\n",
       "      <td>6256</td>\n",
       "      <td>2015</td>\n",
       "      <td>0</td>\n",
       "    </tr>\n",
       "    <tr>\n",
       "      <th>10</th>\n",
       "      <td>512</td>\n",
       "      <td>iOS</td>\n",
       "      <td>13788</td>\n",
       "      <td>2016</td>\n",
       "      <td>1</td>\n",
       "    </tr>\n",
       "    <tr>\n",
       "      <th>11</th>\n",
       "      <td>128</td>\n",
       "      <td>Android</td>\n",
       "      <td>10729</td>\n",
       "      <td>2018</td>\n",
       "      <td>0</td>\n",
       "    </tr>\n",
       "    <tr>\n",
       "      <th>12</th>\n",
       "      <td>512</td>\n",
       "      <td>iOS</td>\n",
       "      <td>9392</td>\n",
       "      <td>2012</td>\n",
       "      <td>1</td>\n",
       "    </tr>\n",
       "    <tr>\n",
       "      <th>13</th>\n",
       "      <td>128</td>\n",
       "      <td>Android</td>\n",
       "      <td>5416</td>\n",
       "      <td>2013</td>\n",
       "      <td>0</td>\n",
       "    </tr>\n",
       "    <tr>\n",
       "      <th>14</th>\n",
       "      <td>256</td>\n",
       "      <td>iOS</td>\n",
       "      <td>7334</td>\n",
       "      <td>2012</td>\n",
       "      <td>1</td>\n",
       "    </tr>\n",
       "    <tr>\n",
       "      <th>15</th>\n",
       "      <td>16</td>\n",
       "      <td>Android</td>\n",
       "      <td>1890</td>\n",
       "      <td>2011</td>\n",
       "      <td>0</td>\n",
       "    </tr>\n",
       "    <tr>\n",
       "      <th>16</th>\n",
       "      <td>512</td>\n",
       "      <td>iOS</td>\n",
       "      <td>12571</td>\n",
       "      <td>2015</td>\n",
       "      <td>1</td>\n",
       "    </tr>\n",
       "    <tr>\n",
       "      <th>17</th>\n",
       "      <td>16</td>\n",
       "      <td>Android</td>\n",
       "      <td>5814</td>\n",
       "      <td>2015</td>\n",
       "      <td>0</td>\n",
       "    </tr>\n",
       "    <tr>\n",
       "      <th>18</th>\n",
       "      <td>256</td>\n",
       "      <td>iOS</td>\n",
       "      <td>13422</td>\n",
       "      <td>2018</td>\n",
       "      <td>1</td>\n",
       "    </tr>\n",
       "    <tr>\n",
       "      <th>19</th>\n",
       "      <td>256</td>\n",
       "      <td>iOS</td>\n",
       "      <td>11910</td>\n",
       "      <td>2017</td>\n",
       "      <td>1</td>\n",
       "    </tr>\n",
       "  </tbody>\n",
       "</table>\n",
       "</div>"
      ],
      "text/plain": [
       "    disk       os  price  year  os_type\n",
       "0     64  Android   7256  2016        0\n",
       "1    128  Android   7623  2015        0\n",
       "2     64  Android   1916  2010        0\n",
       "3    512      iOS  15045  2017        1\n",
       "4     16  Android   4478  2013        0\n",
       "5    512      iOS  15842  2018        1\n",
       "6    128  Android   7191  2015        0\n",
       "7     64  Android   4277  2013        0\n",
       "8    512      iOS  12797  2015        1\n",
       "9     64  Android   6256  2015        0\n",
       "10   512      iOS  13788  2016        1\n",
       "11   128  Android  10729  2018        0\n",
       "12   512      iOS   9392  2012        1\n",
       "13   128  Android   5416  2013        0\n",
       "14   256      iOS   7334  2012        1\n",
       "15    16  Android   1890  2011        0\n",
       "16   512      iOS  12571  2015        1\n",
       "17    16  Android   5814  2015        0\n",
       "18   256      iOS  13422  2018        1\n",
       "19   256      iOS  11910  2017        1"
      ]
     },
     "execution_count": 9,
     "metadata": {},
     "output_type": "execute_result"
    }
   ],
   "source": [
    "\n",
    "df[\"os_type\"] = df['os'].map({\"iOS\": 1, \"Android\": 0})\n",
    "df.head(20)"
   ]
  },
  {
   "cell_type": "code",
   "execution_count": 13,
   "id": "20d44ffb-de04-4411-963c-127fffa8c047",
   "metadata": {},
   "outputs": [
    {
     "data": {
      "text/plain": [
       "(80, 5)"
      ]
     },
     "execution_count": 13,
     "metadata": {},
     "output_type": "execute_result"
    }
   ],
   "source": [
    "df[0:80].shape"
   ]
  },
  {
   "cell_type": "markdown",
   "id": "c5bcd075-88fb-49a5-bf8b-119ca4bbb0fa",
   "metadata": {},
   "source": [
    "## В рамках задачи регрессии нужно предсказать цену телефона"
   ]
  },
  {
   "cell_type": "code",
   "execution_count": 10,
   "id": "cefbafe4-0759-4f3e-bc1b-c40940029232",
   "metadata": {},
   "outputs": [],
   "source": [
    "from sklearn.linear_model import LinearRegression"
   ]
  },
  {
   "cell_type": "code",
   "execution_count": 14,
   "id": "135b8ee7-bba9-4981-bdf5-0613c1be3a6b",
   "metadata": {},
   "outputs": [],
   "source": [
    "features = [\"disk\", \"year\", \"os_type\"]\n",
    "df_train = df[:80]\n",
    "df_test = df[80:]\n",
    "\n",
    "X_train = df_train[features]\n",
    "y_train = df_train[\"price\"]\n",
    "\n",
    "X_test = df_test[features]\n",
    "y_test = df_test[\"price\"]"
   ]
  },
  {
   "cell_type": "code",
   "execution_count": 15,
   "id": "142e4f07-d0c5-44b8-b02c-933d205f9a0c",
   "metadata": {},
   "outputs": [],
   "source": [
    "reg = LinearRegression().fit(X_train, y_train)"
   ]
  },
  {
   "cell_type": "code",
   "execution_count": 16,
   "id": "d87addd0-165e-4e12-ad79-00b822180bc5",
   "metadata": {},
   "outputs": [],
   "source": [
    "predicts = reg.predict(X_test)"
   ]
  },
  {
   "cell_type": "code",
   "execution_count": 17,
   "id": "79c7ea03-4090-4475-bb92-d2c2f1ddb871",
   "metadata": {},
   "outputs": [
    {
     "data": {
      "image/png": "[encoded data removed]",
      "text/plain": [
       "<Figure size 800x800 with 1 Axes>"
      ]
     },
     "metadata": {},
     "output_type": "display_data"
    }
   ],
   "source": [
    "fig = plt.figure(figsize=(8, 8))\n",
    "ax = plt.axes()\n",
    "\n",
    "ax.scatter(range(20), predicts, s=20)\n",
    "ax.scatter(range(20), y_test, s=20)\n",
    "plt.show()"
   ]
  },
  {
   "cell_type": "code",
   "execution_count": 18,
   "id": "e8e1d0ec-2fe6-4383-9cfc-d39c652a6913",
   "metadata": {},
   "outputs": [],
   "source": [
    "summ = 0\n",
    "for pred, val in zip(predicts, y_test):\n",
    "    summ = summ + abs(val-pred)/(val/100.0)\n",
    "    "
   ]
  },
  {
   "cell_type": "code",
   "execution_count": 33,
   "id": "1b4a7e56-3b3e-4bf2-b7d3-49a4bc3947df",
   "metadata": {},
   "outputs": [
    {
     "name": "stdout",
     "output_type": "stream",
     "text": [
      "Accuracy: 96.06%\n"
     ]
    }
   ],
   "source": [
    "print(f\"Accuracy: {100-summ/20.0:.2f}%\")"
   ]
  },
  {
   "cell_type": "markdown",
   "id": "f647c472-3046-42b9-9c63-1b359dc40714",
   "metadata": {},
   "source": [
    "## для классификации \n",
    "### - операционную систему "
   ]
  },
  {
   "cell_type": "code",
   "execution_count": 36,
   "id": "9ce9a9d1-133f-418a-9410-40f2d58f8223",
   "metadata": {},
   "outputs": [],
   "source": [
    "from sklearn.tree import DecisionTreeClassifier, export_text"
   ]
  },
  {
   "cell_type": "code",
   "execution_count": 55,
   "id": "48727ff8-0d82-402f-bf7f-7989f35897ff",
   "metadata": {},
   "outputs": [],
   "source": [
    "features = [\"price\", \"disk\"]\n",
    "df_train = df[:80]\n",
    "df_test = df[80:]\n",
    "\n",
    "X_train = df_train[features]\n",
    "y_train = df_train[\"os\"]\n",
    "\n",
    "X_test = df_test[features]\n",
    "y_test = df_test[\"os\"]"
   ]
  },
  {
   "cell_type": "code",
   "execution_count": 56,
   "id": "a6e69387-eace-409f-b43a-a8f7cbed49e6",
   "metadata": {},
   "outputs": [
    {
     "data": {
      "text/html": [
       "<div>\n",
       "<style scoped>\n",
       "    .dataframe tbody tr th:only-of-type {\n",
       "        vertical-align: middle;\n",
       "    }\n",
       "\n",
       "    .dataframe tbody tr th {\n",
       "        vertical-align: top;\n",
       "    }\n",
       "\n",
       "    .dataframe thead th {\n",
       "        text-align: right;\n",
       "    }\n",
       "</style>\n",
       "<table border=\"1\" class=\"dataframe\">\n",
       "  <thead>\n",
       "    <tr style=\"text-align: right;\">\n",
       "      <th></th>\n",
       "      <th>price</th>\n",
       "      <th>disk</th>\n",
       "    </tr>\n",
       "  </thead>\n",
       "  <tbody>\n",
       "    <tr>\n",
       "      <th>0</th>\n",
       "      <td>7256</td>\n",
       "      <td>64</td>\n",
       "    </tr>\n",
       "    <tr>\n",
       "      <th>1</th>\n",
       "      <td>7623</td>\n",
       "      <td>128</td>\n",
       "    </tr>\n",
       "    <tr>\n",
       "      <th>2</th>\n",
       "      <td>1916</td>\n",
       "      <td>64</td>\n",
       "    </tr>\n",
       "    <tr>\n",
       "      <th>3</th>\n",
       "      <td>15045</td>\n",
       "      <td>512</td>\n",
       "    </tr>\n",
       "    <tr>\n",
       "      <th>4</th>\n",
       "      <td>4478</td>\n",
       "      <td>16</td>\n",
       "    </tr>\n",
       "    <tr>\n",
       "      <th>5</th>\n",
       "      <td>15842</td>\n",
       "      <td>512</td>\n",
       "    </tr>\n",
       "    <tr>\n",
       "      <th>6</th>\n",
       "      <td>7191</td>\n",
       "      <td>128</td>\n",
       "    </tr>\n",
       "    <tr>\n",
       "      <th>7</th>\n",
       "      <td>4277</td>\n",
       "      <td>64</td>\n",
       "    </tr>\n",
       "    <tr>\n",
       "      <th>8</th>\n",
       "      <td>12797</td>\n",
       "      <td>512</td>\n",
       "    </tr>\n",
       "    <tr>\n",
       "      <th>9</th>\n",
       "      <td>6256</td>\n",
       "      <td>64</td>\n",
       "    </tr>\n",
       "  </tbody>\n",
       "</table>\n",
       "</div>"
      ],
      "text/plain": [
       "   price  disk\n",
       "0   7256    64\n",
       "1   7623   128\n",
       "2   1916    64\n",
       "3  15045   512\n",
       "4   4478    16\n",
       "5  15842   512\n",
       "6   7191   128\n",
       "7   4277    64\n",
       "8  12797   512\n",
       "9   6256    64"
      ]
     },
     "execution_count": 56,
     "metadata": {},
     "output_type": "execute_result"
    }
   ],
   "source": [
    "X_train.head(10)"
   ]
  },
  {
   "cell_type": "code",
   "execution_count": 57,
   "id": "659877bf-032d-4353-b5b3-3f61d8f9931e",
   "metadata": {},
   "outputs": [
    {
     "data": {
      "text/html": [
       "<div>\n",
       "<style scoped>\n",
       "    .dataframe tbody tr th:only-of-type {\n",
       "        vertical-align: middle;\n",
       "    }\n",
       "\n",
       "    .dataframe tbody tr th {\n",
       "        vertical-align: top;\n",
       "    }\n",
       "\n",
       "    .dataframe thead th {\n",
       "        text-align: right;\n",
       "    }\n",
       "</style>\n",
       "<table border=\"1\" class=\"dataframe\">\n",
       "  <thead>\n",
       "    <tr style=\"text-align: right;\">\n",
       "      <th></th>\n",
       "      <th>price</th>\n",
       "      <th>disk</th>\n",
       "    </tr>\n",
       "  </thead>\n",
       "  <tbody>\n",
       "    <tr>\n",
       "      <th>80</th>\n",
       "      <td>2937</td>\n",
       "      <td>64</td>\n",
       "    </tr>\n",
       "    <tr>\n",
       "      <th>81</th>\n",
       "      <td>2446</td>\n",
       "      <td>32</td>\n",
       "    </tr>\n",
       "    <tr>\n",
       "      <th>82</th>\n",
       "      <td>3835</td>\n",
       "      <td>32</td>\n",
       "    </tr>\n",
       "    <tr>\n",
       "      <th>83</th>\n",
       "      <td>9580</td>\n",
       "      <td>256</td>\n",
       "    </tr>\n",
       "    <tr>\n",
       "      <th>84</th>\n",
       "      <td>7282</td>\n",
       "      <td>32</td>\n",
       "    </tr>\n",
       "    <tr>\n",
       "      <th>85</th>\n",
       "      <td>4546</td>\n",
       "      <td>64</td>\n",
       "    </tr>\n",
       "    <tr>\n",
       "      <th>86</th>\n",
       "      <td>10304</td>\n",
       "      <td>256</td>\n",
       "    </tr>\n",
       "    <tr>\n",
       "      <th>87</th>\n",
       "      <td>8855</td>\n",
       "      <td>256</td>\n",
       "    </tr>\n",
       "    <tr>\n",
       "      <th>88</th>\n",
       "      <td>14976</td>\n",
       "      <td>512</td>\n",
       "    </tr>\n",
       "    <tr>\n",
       "      <th>89</th>\n",
       "      <td>8652</td>\n",
       "      <td>512</td>\n",
       "    </tr>\n",
       "  </tbody>\n",
       "</table>\n",
       "</div>"
      ],
      "text/plain": [
       "    price  disk\n",
       "80   2937    64\n",
       "81   2446    32\n",
       "82   3835    32\n",
       "83   9580   256\n",
       "84   7282    32\n",
       "85   4546    64\n",
       "86  10304   256\n",
       "87   8855   256\n",
       "88  14976   512\n",
       "89   8652   512"
      ]
     },
     "execution_count": 57,
     "metadata": {},
     "output_type": "execute_result"
    }
   ],
   "source": [
    "X_test.head(10)"
   ]
  },
  {
   "cell_type": "code",
   "execution_count": 58,
   "id": "e2cfeafe-8988-44c3-84bc-d9d1140e6ed6",
   "metadata": {},
   "outputs": [],
   "source": [
    "cr = DecisionTreeClassifier().fit(X_train, y_train)"
   ]
  },
  {
   "cell_type": "code",
   "execution_count": 59,
   "id": "c64b1120-2460-4972-93c5-58958b0ccd69",
   "metadata": {},
   "outputs": [
    {
     "name": "stdout",
     "output_type": "stream",
     "text": [
      "|--- feature_1 <= 192.00\n",
      "|   |--- class: Android\n",
      "|--- feature_1 >  192.00\n",
      "|   |--- class: iOS\n",
      "\n"
     ]
    }
   ],
   "source": [
    "print(export_text(cr))"
   ]
  },
  {
   "cell_type": "code",
   "execution_count": 61,
   "id": "f4ea3528-54c7-454d-a776-3d353718baa0",
   "metadata": {},
   "outputs": [],
   "source": [
    "predicts = cr.predict(X_test)"
   ]
  },
  {
   "cell_type": "code",
   "execution_count": 67,
   "id": "418c731d-b8b5-4cc7-bcbf-2aa8606859a0",
   "metadata": {},
   "outputs": [],
   "source": [
    "summ = 0\n",
    "for pred, val in zip(predicts, y_test):\n",
    "    summ += 0 if val == pred else 1\n",
    "    "
   ]
  },
  {
   "cell_type": "code",
   "execution_count": 66,
   "id": "5a267228-4242-4182-aabc-94a85bd6e03f",
   "metadata": {},
   "outputs": [
    {
     "data": {
      "text/plain": [
       "20"
      ]
     },
     "execution_count": 66,
     "metadata": {},
     "output_type": "execute_result"
    }
   ],
   "source": [
    "summ"
   ]
  },
  {
   "cell_type": "code",
   "execution_count": 70,
   "id": "a4d46762-fe89-4ec9-ab7e-fc06e930da9e",
   "metadata": {},
   "outputs": [
    {
     "name": "stdout",
     "output_type": "stream",
     "text": [
      "Accuracy: 100.00%\n"
     ]
    }
   ],
   "source": [
    "print(f\"Accuracy: {(20-summ)/(20.0/100):.2f}%\")"
   ]
  },
  {
   "cell_type": "markdown",
   "id": "173fdbc1-8302-43ba-9d29-250c651682ef",
   "metadata": {},
   "source": [
    "### - год выпуска устройства."
   ]
  },
  {
   "cell_type": "code",
   "execution_count": 71,
   "id": "d1c449be-c40d-4638-b0da-442c3d24629a",
   "metadata": {},
   "outputs": [],
   "source": [
    "features = [\"price\", \"disk\"]\n",
    "df_train = df[:80]\n",
    "df_test = df[80:]\n",
    "\n",
    "X_train = df_train[features]\n",
    "y_train = df_train[\"year\"]\n",
    "\n",
    "X_test = df_test[features]\n",
    "y_test = df_test[\"year\"]"
   ]
  },
  {
   "cell_type": "code",
   "execution_count": 73,
   "id": "542e4738-7b25-4ae8-9e06-d40dcbc74a6a",
   "metadata": {},
   "outputs": [
    {
     "data": {
      "text/plain": [
       "0    2016\n",
       "1    2015\n",
       "2    2010\n",
       "3    2017\n",
       "4    2013\n",
       "5    2018\n",
       "6    2015\n",
       "7    2013\n",
       "8    2015\n",
       "9    2015\n",
       "Name: year, dtype: int64"
      ]
     },
     "execution_count": 73,
     "metadata": {},
     "output_type": "execute_result"
    }
   ],
   "source": [
    "y_train.head(10)"
   ]
  },
  {
   "cell_type": "code",
   "execution_count": 74,
   "id": "bcb6262b-7855-48b2-b124-580a1b7b7bb5",
   "metadata": {},
   "outputs": [],
   "source": [
    "cr = DecisionTreeClassifier().fit(X_train, y_train)"
   ]
  },
  {
   "cell_type": "code",
   "execution_count": 75,
   "id": "6b75d5c2-32ab-4598-8c34-cf869f6f1251",
   "metadata": {},
   "outputs": [
    {
     "name": "stdout",
     "output_type": "stream",
     "text": [
      "|--- feature_0 <= 5615.00\n",
      "|   |--- feature_0 <= 3690.00\n",
      "|   |   |--- feature_0 <= 1744.50\n",
      "|   |   |   |--- class: 2010\n",
      "|   |   |--- feature_0 >  1744.50\n",
      "|   |   |   |--- feature_1 <= 24.00\n",
      "|   |   |   |   |--- feature_0 <= 2335.00\n",
      "|   |   |   |   |   |--- class: 2011\n",
      "|   |   |   |   |--- feature_0 >  2335.00\n",
      "|   |   |   |   |   |--- class: 2012\n",
      "|   |   |   |--- feature_1 >  24.00\n",
      "|   |   |   |   |--- feature_0 <= 2096.50\n",
      "|   |   |   |   |   |--- class: 2010\n",
      "|   |   |   |   |--- feature_0 >  2096.50\n",
      "|   |   |   |   |   |--- class: 2011\n",
      "|   |--- feature_0 >  3690.00\n",
      "|   |   |--- feature_1 <= 192.00\n",
      "|   |   |   |--- feature_1 <= 48.00\n",
      "|   |   |   |   |--- feature_0 <= 4655.00\n",
      "|   |   |   |   |   |--- class: 2013\n",
      "|   |   |   |   |--- feature_0 >  4655.00\n",
      "|   |   |   |   |   |--- class: 2014\n",
      "|   |   |   |--- feature_1 >  48.00\n",
      "|   |   |   |   |--- class: 2013\n",
      "|   |   |--- feature_1 >  192.00\n",
      "|   |   |   |--- class: 2010\n",
      "|--- feature_0 >  5615.00\n",
      "|   |--- feature_0 <= 7660.50\n",
      "|   |   |--- feature_1 <= 192.00\n",
      "|   |   |   |--- feature_0 <= 7220.00\n",
      "|   |   |   |   |--- class: 2015\n",
      "|   |   |   |--- feature_0 >  7220.00\n",
      "|   |   |   |   |--- feature_1 <= 96.00\n",
      "|   |   |   |   |   |--- class: 2016\n",
      "|   |   |   |   |--- feature_1 >  96.00\n",
      "|   |   |   |   |   |--- class: 2015\n",
      "|   |   |--- feature_1 >  192.00\n",
      "|   |   |   |--- feature_0 <= 6387.50\n",
      "|   |   |   |   |--- class: 2011\n",
      "|   |   |   |--- feature_0 >  6387.50\n",
      "|   |   |   |   |--- class: 2012\n",
      "|   |--- feature_0 >  7660.50\n",
      "|   |   |--- feature_1 <= 48.00\n",
      "|   |   |   |--- class: 2017\n",
      "|   |   |--- feature_1 >  48.00\n",
      "|   |   |   |--- feature_0 <= 11791.50\n",
      "|   |   |   |   |--- feature_1 <= 192.00\n",
      "|   |   |   |   |   |--- feature_0 <= 9262.50\n",
      "|   |   |   |   |   |   |--- class: 2017\n",
      "|   |   |   |   |   |--- feature_0 >  9262.50\n",
      "|   |   |   |   |   |   |--- class: 2018\n",
      "|   |   |   |   |--- feature_1 >  192.00\n",
      "|   |   |   |   |   |--- feature_0 <= 9999.50\n",
      "|   |   |   |   |   |   |--- feature_0 <= 7890.50\n",
      "|   |   |   |   |   |   |   |--- class: 2013\n",
      "|   |   |   |   |   |   |--- feature_0 >  7890.50\n",
      "|   |   |   |   |   |   |   |--- feature_0 <= 8977.00\n",
      "|   |   |   |   |   |   |   |   |--- feature_0 <= 8206.00\n",
      "|   |   |   |   |   |   |   |   |   |--- class: 2010\n",
      "|   |   |   |   |   |   |   |   |--- feature_0 >  8206.00\n",
      "|   |   |   |   |   |   |   |   |   |--- class: 2011\n",
      "|   |   |   |   |   |   |   |--- feature_0 >  8977.00\n",
      "|   |   |   |   |   |   |   |   |--- feature_1 <= 384.00\n",
      "|   |   |   |   |   |   |   |   |   |--- feature_0 <= 9647.00\n",
      "|   |   |   |   |   |   |   |   |   |   |--- class: 2014\n",
      "|   |   |   |   |   |   |   |   |   |--- feature_0 >  9647.00\n",
      "|   |   |   |   |   |   |   |   |   |   |--- class: 2015\n",
      "|   |   |   |   |   |   |   |   |--- feature_1 >  384.00\n",
      "|   |   |   |   |   |   |   |   |   |--- class: 2012\n",
      "|   |   |   |   |   |--- feature_0 >  9999.50\n",
      "|   |   |   |   |   |   |--- feature_0 <= 11203.50\n",
      "|   |   |   |   |   |   |   |--- class: 2013\n",
      "|   |   |   |   |   |   |--- feature_0 >  11203.50\n",
      "|   |   |   |   |   |   |   |--- feature_0 <= 11547.00\n",
      "|   |   |   |   |   |   |   |   |--- class: 2016\n",
      "|   |   |   |   |   |   |   |--- feature_0 >  11547.00\n",
      "|   |   |   |   |   |   |   |   |--- class: 2014\n",
      "|   |   |   |--- feature_0 >  11791.50\n",
      "|   |   |   |   |--- feature_0 <= 12154.50\n",
      "|   |   |   |   |   |--- class: 2017\n",
      "|   |   |   |   |--- feature_0 >  12154.50\n",
      "|   |   |   |   |   |--- feature_0 <= 13109.50\n",
      "|   |   |   |   |   |   |--- feature_1 <= 384.00\n",
      "|   |   |   |   |   |   |   |--- feature_0 <= 12575.00\n",
      "|   |   |   |   |   |   |   |   |--- class: 2017\n",
      "|   |   |   |   |   |   |   |--- feature_0 >  12575.00\n",
      "|   |   |   |   |   |   |   |   |--- class: 2018\n",
      "|   |   |   |   |   |   |--- feature_1 >  384.00\n",
      "|   |   |   |   |   |   |   |--- class: 2015\n",
      "|   |   |   |   |   |--- feature_0 >  13109.50\n",
      "|   |   |   |   |   |   |--- feature_0 <= 15346.00\n",
      "|   |   |   |   |   |   |   |--- feature_0 <= 14313.00\n",
      "|   |   |   |   |   |   |   |   |--- feature_0 <= 13605.00\n",
      "|   |   |   |   |   |   |   |   |   |--- class: 2018\n",
      "|   |   |   |   |   |   |   |   |--- feature_0 >  13605.00\n",
      "|   |   |   |   |   |   |   |   |   |--- class: 2016\n",
      "|   |   |   |   |   |   |   |--- feature_0 >  14313.00\n",
      "|   |   |   |   |   |   |   |   |--- class: 2017\n",
      "|   |   |   |   |   |   |--- feature_0 >  15346.00\n",
      "|   |   |   |   |   |   |   |--- class: 2018\n",
      "\n"
     ]
    }
   ],
   "source": [
    "print(export_text(cr))"
   ]
  },
  {
   "cell_type": "code",
   "execution_count": 76,
   "id": "d03ee882-1f87-4954-8e15-546372b167ac",
   "metadata": {},
   "outputs": [],
   "source": [
    "predicts = cr.predict(X_test)"
   ]
  },
  {
   "cell_type": "code",
   "execution_count": 77,
   "id": "e94c9a2e-3ea5-46d5-967d-07d9b35e770a",
   "metadata": {},
   "outputs": [],
   "source": [
    "summ = 0\n",
    "for pred, val in zip(predicts, y_test):\n",
    "    summ += 0 if val == pred else 1\n",
    "    "
   ]
  },
  {
   "cell_type": "code",
   "execution_count": 78,
   "id": "0490f0ad-ebdd-4431-af0e-f0ba12d1f4d3",
   "metadata": {},
   "outputs": [
    {
     "name": "stdout",
     "output_type": "stream",
     "text": [
      "Accuracy: 60.00%\n"
     ]
    }
   ],
   "source": [
    "print(f\"Accuracy: {(20-summ)/(20.0/100):.2f}%\")"
   ]
  },
  {
   "cell_type": "code",
   "execution_count": 79,
   "id": "5fcb747f-e49d-45cb-9cfe-ce4577f9fff3",
   "metadata": {},
   "outputs": [
    {
     "data": {
      "text/plain": [
       "8"
      ]
     },
     "execution_count": 79,
     "metadata": {},
     "output_type": "execute_result"
    }
   ],
   "source": [
    "summ"
   ]
  },
  {
   "cell_type": "code",
   "execution_count": 81,
   "id": "cc113c8b-bc5e-4904-b58f-00a8020c4114",
   "metadata": {},
   "outputs": [
    {
     "data": {
      "text/html": [
       "<div>\n",
       "<style scoped>\n",
       "    .dataframe tbody tr th:only-of-type {\n",
       "        vertical-align: middle;\n",
       "    }\n",
       "\n",
       "    .dataframe tbody tr th {\n",
       "        vertical-align: top;\n",
       "    }\n",
       "\n",
       "    .dataframe thead th {\n",
       "        text-align: right;\n",
       "    }\n",
       "</style>\n",
       "<table border=\"1\" class=\"dataframe\">\n",
       "  <thead>\n",
       "    <tr style=\"text-align: right;\">\n",
       "      <th></th>\n",
       "      <th>predicts</th>\n",
       "      <th>y_test</th>\n",
       "    </tr>\n",
       "  </thead>\n",
       "  <tbody>\n",
       "    <tr>\n",
       "      <th>80</th>\n",
       "      <td>2011</td>\n",
       "      <td>2011</td>\n",
       "    </tr>\n",
       "    <tr>\n",
       "      <th>81</th>\n",
       "      <td>2011</td>\n",
       "      <td>2011</td>\n",
       "    </tr>\n",
       "    <tr>\n",
       "      <th>82</th>\n",
       "      <td>2013</td>\n",
       "      <td>2013</td>\n",
       "    </tr>\n",
       "    <tr>\n",
       "      <th>83</th>\n",
       "      <td>2014</td>\n",
       "      <td>2015</td>\n",
       "    </tr>\n",
       "    <tr>\n",
       "      <th>84</th>\n",
       "      <td>2016</td>\n",
       "      <td>2016</td>\n",
       "    </tr>\n",
       "    <tr>\n",
       "      <th>85</th>\n",
       "      <td>2013</td>\n",
       "      <td>2013</td>\n",
       "    </tr>\n",
       "    <tr>\n",
       "      <th>86</th>\n",
       "      <td>2013</td>\n",
       "      <td>2015</td>\n",
       "    </tr>\n",
       "    <tr>\n",
       "      <th>87</th>\n",
       "      <td>2011</td>\n",
       "      <td>2014</td>\n",
       "    </tr>\n",
       "    <tr>\n",
       "      <th>88</th>\n",
       "      <td>2017</td>\n",
       "      <td>2017</td>\n",
       "    </tr>\n",
       "    <tr>\n",
       "      <th>89</th>\n",
       "      <td>2011</td>\n",
       "      <td>2011</td>\n",
       "    </tr>\n",
       "    <tr>\n",
       "      <th>90</th>\n",
       "      <td>2018</td>\n",
       "      <td>2018</td>\n",
       "    </tr>\n",
       "    <tr>\n",
       "      <th>91</th>\n",
       "      <td>2011</td>\n",
       "      <td>2011</td>\n",
       "    </tr>\n",
       "    <tr>\n",
       "      <th>92</th>\n",
       "      <td>2015</td>\n",
       "      <td>2016</td>\n",
       "    </tr>\n",
       "    <tr>\n",
       "      <th>93</th>\n",
       "      <td>2015</td>\n",
       "      <td>2016</td>\n",
       "    </tr>\n",
       "    <tr>\n",
       "      <th>94</th>\n",
       "      <td>2017</td>\n",
       "      <td>2016</td>\n",
       "    </tr>\n",
       "    <tr>\n",
       "      <th>95</th>\n",
       "      <td>2011</td>\n",
       "      <td>2011</td>\n",
       "    </tr>\n",
       "    <tr>\n",
       "      <th>96</th>\n",
       "      <td>2015</td>\n",
       "      <td>2016</td>\n",
       "    </tr>\n",
       "    <tr>\n",
       "      <th>97</th>\n",
       "      <td>2015</td>\n",
       "      <td>2014</td>\n",
       "    </tr>\n",
       "    <tr>\n",
       "      <th>98</th>\n",
       "      <td>2016</td>\n",
       "      <td>2016</td>\n",
       "    </tr>\n",
       "    <tr>\n",
       "      <th>99</th>\n",
       "      <td>2014</td>\n",
       "      <td>2014</td>\n",
       "    </tr>\n",
       "  </tbody>\n",
       "</table>\n",
       "</div>"
      ],
      "text/plain": [
       "    predicts  y_test\n",
       "80      2011    2011\n",
       "81      2011    2011\n",
       "82      2013    2013\n",
       "83      2014    2015\n",
       "84      2016    2016\n",
       "85      2013    2013\n",
       "86      2013    2015\n",
       "87      2011    2014\n",
       "88      2017    2017\n",
       "89      2011    2011\n",
       "90      2018    2018\n",
       "91      2011    2011\n",
       "92      2015    2016\n",
       "93      2015    2016\n",
       "94      2017    2016\n",
       "95      2011    2011\n",
       "96      2015    2016\n",
       "97      2015    2014\n",
       "98      2016    2016\n",
       "99      2014    2014"
      ]
     },
     "execution_count": 81,
     "metadata": {},
     "output_type": "execute_result"
    }
   ],
   "source": [
    "pd.DataFrame({\"predicts\": predicts, \"y_test\": y_test})"
   ]
  },
  {
   "cell_type": "markdown",
   "id": "f9c14892-aecb-42a9-8bda-f74e0114d5cf",
   "metadata": {},
   "source": [
    "## Для задачи кластеризации \n",
    "необходимо запустить алгоритм кластеризации, в котором количество кластеров и \n",
    "признаки можете выбрать на свое усмотрение."
   ]
  },
  {
   "cell_type": "code",
   "execution_count": 83,
   "id": "cda8f7b9-c458-494b-8477-4e708d28571d",
   "metadata": {},
   "outputs": [
    {
     "data": {
      "image/png": "[encoded data removed]",
      "text/plain": [
       "<Figure size 1000x1000 with 1 Axes>"
      ]
     },
     "metadata": {},
     "output_type": "display_data"
    }
   ],
   "source": [
    "fig = plt.figure(figsize=(10, 10))\n",
    "\n",
    "colors = {\"iOS\": \"grey\", \"Android\": \"lime\"}\n",
    "for d1, d2, l in zip(df.price, df.year, df.os):\n",
    "    plt.scatter(d1, d2, color=colors[l], s=100)\n",
    "\n",
    "plt.show()"
   ]
  },
  {
   "cell_type": "code",
   "execution_count": 84,
   "id": "9a9b9302-ce43-42a7-b781-3bd4433c5e7f",
   "metadata": {},
   "outputs": [],
   "source": [
    "from sklearn.cluster import KMeans"
   ]
  },
  {
   "cell_type": "code",
   "execution_count": 97,
   "id": "e75b12b6-4f84-499a-99b0-de1843590d33",
   "metadata": {},
   "outputs": [],
   "source": [
    "features = [\"year\", \"price\"]\n",
    "df_train = df[:80]\n",
    "df_test = df[80:]\n",
    "\n",
    "X_train = df_train[features]\n",
    "y_train = df_train[\"os_type\"]\n",
    "\n",
    "X_test = df_test[features]\n",
    "y_test = df_test[\"os_type\"]"
   ]
  },
  {
   "cell_type": "code",
   "execution_count": 98,
   "id": "8762111c-5a77-4e37-9ab3-3cc514df5358",
   "metadata": {},
   "outputs": [],
   "source": [
    "clust = KMeans(n_clusters=2).fit(X_train)"
   ]
  },
  {
   "cell_type": "code",
   "execution_count": 99,
   "id": "8919186c-7020-4f4a-9031-46723b931301",
   "metadata": {},
   "outputs": [],
   "source": [
    "[c1, c2] = clust.cluster_centers_"
   ]
  },
  {
   "cell_type": "code",
   "execution_count": 100,
   "id": "2d78631f-8652-41dd-ae57-be384e810a0d",
   "metadata": {},
   "outputs": [
    {
     "data": {
      "text/plain": [
       "(array([2013.21276596, 5652.53191489]),\n",
       " array([ 2015.66666667, 11773.09090909]))"
      ]
     },
     "execution_count": 100,
     "metadata": {},
     "output_type": "execute_result"
    }
   ],
   "source": [
    "c1, c2"
   ]
  },
  {
   "cell_type": "code",
   "execution_count": 101,
   "id": "6ad30ef9-4d7e-454b-a2a6-0956697edf1a",
   "metadata": {},
   "outputs": [],
   "source": [
    "train_predict = clust.predict(X_train)"
   ]
  },
  {
   "cell_type": "code",
   "execution_count": 102,
   "id": "9d88ca25-a11f-4f70-8360-9938dca5b4ad",
   "metadata": {},
   "outputs": [
    {
     "data": {
      "text/html": [
       "<div>\n",
       "<style scoped>\n",
       "    .dataframe tbody tr th:only-of-type {\n",
       "        vertical-align: middle;\n",
       "    }\n",
       "\n",
       "    .dataframe tbody tr th {\n",
       "        vertical-align: top;\n",
       "    }\n",
       "\n",
       "    .dataframe thead th {\n",
       "        text-align: right;\n",
       "    }\n",
       "</style>\n",
       "<table border=\"1\" class=\"dataframe\">\n",
       "  <thead>\n",
       "    <tr style=\"text-align: right;\">\n",
       "      <th></th>\n",
       "      <th>predicts</th>\n",
       "      <th>os</th>\n",
       "    </tr>\n",
       "  </thead>\n",
       "  <tbody>\n",
       "    <tr>\n",
       "      <th>0</th>\n",
       "      <td>0</td>\n",
       "      <td>0</td>\n",
       "    </tr>\n",
       "    <tr>\n",
       "      <th>1</th>\n",
       "      <td>0</td>\n",
       "      <td>0</td>\n",
       "    </tr>\n",
       "    <tr>\n",
       "      <th>2</th>\n",
       "      <td>0</td>\n",
       "      <td>0</td>\n",
       "    </tr>\n",
       "    <tr>\n",
       "      <th>3</th>\n",
       "      <td>1</td>\n",
       "      <td>1</td>\n",
       "    </tr>\n",
       "    <tr>\n",
       "      <th>4</th>\n",
       "      <td>0</td>\n",
       "      <td>0</td>\n",
       "    </tr>\n",
       "    <tr>\n",
       "      <th>...</th>\n",
       "      <td>...</td>\n",
       "      <td>...</td>\n",
       "    </tr>\n",
       "    <tr>\n",
       "      <th>75</th>\n",
       "      <td>0</td>\n",
       "      <td>0</td>\n",
       "    </tr>\n",
       "    <tr>\n",
       "      <th>76</th>\n",
       "      <td>0</td>\n",
       "      <td>0</td>\n",
       "    </tr>\n",
       "    <tr>\n",
       "      <th>77</th>\n",
       "      <td>0</td>\n",
       "      <td>1</td>\n",
       "    </tr>\n",
       "    <tr>\n",
       "      <th>78</th>\n",
       "      <td>0</td>\n",
       "      <td>0</td>\n",
       "    </tr>\n",
       "    <tr>\n",
       "      <th>79</th>\n",
       "      <td>1</td>\n",
       "      <td>1</td>\n",
       "    </tr>\n",
       "  </tbody>\n",
       "</table>\n",
       "<p>80 rows × 2 columns</p>\n",
       "</div>"
      ],
      "text/plain": [
       "    predicts  os\n",
       "0          0   0\n",
       "1          0   0\n",
       "2          0   0\n",
       "3          1   1\n",
       "4          0   0\n",
       "..       ...  ..\n",
       "75         0   0\n",
       "76         0   0\n",
       "77         0   1\n",
       "78         0   0\n",
       "79         1   1\n",
       "\n",
       "[80 rows x 2 columns]"
      ]
     },
     "execution_count": 102,
     "metadata": {},
     "output_type": "execute_result"
    }
   ],
   "source": [
    "pd.DataFrame({\"predicts\": train_predict, \"os\": y_train})"
   ]
  },
  {
   "cell_type": "code",
   "execution_count": 103,
   "id": "10021076-26fb-418a-be22-d8044a25112d",
   "metadata": {},
   "outputs": [],
   "source": [
    "predicts = clust.predict(X_test)"
   ]
  },
  {
   "cell_type": "code",
   "execution_count": 104,
   "id": "817e255a-6e57-40a5-9d2f-2c6b0769912d",
   "metadata": {},
   "outputs": [],
   "source": [
    "summ = 0\n",
    "for pred, val in zip(predicts, y_test):\n",
    "    summ += 0 if val == pred else 1\n",
    "    "
   ]
  },
  {
   "cell_type": "code",
   "execution_count": 105,
   "id": "d903ff8d-d49e-4ca2-b3bd-14a64350de10",
   "metadata": {},
   "outputs": [
    {
     "data": {
      "text/plain": [
       "2"
      ]
     },
     "execution_count": 105,
     "metadata": {},
     "output_type": "execute_result"
    }
   ],
   "source": [
    "summ"
   ]
  },
  {
   "cell_type": "code",
   "execution_count": 106,
   "id": "4f6772ec-9f39-4b03-aace-0b50b01079cd",
   "metadata": {},
   "outputs": [
    {
     "name": "stdout",
     "output_type": "stream",
     "text": [
      "Accuracy: 90.00%\n"
     ]
    }
   ],
   "source": [
    "print(f\"Accuracy: {(20-summ)/(20.0/100):.2f}%\")"
   ]
  },
  {
   "cell_type": "code",
   "execution_count": null,
   "id": "a8f44a22-7735-4e88-bc2e-76b1f73870da",
   "metadata": {},
   "outputs": [],
   "source": []
  }
 ],
 "metadata": {
  "kernelspec": {
   "display_name": "Python 3 (ipykernel)",
   "language": "python",
   "name": "python3"
  },
  "language_info": {
   "codemirror_mode": {
    "name": "ipython",
    "version": 3
   },
   "file_extension": ".py",
   "mimetype": "text/x-python",
   "name": "python",
   "nbconvert_exporter": "python",
   "pygments_lexer": "ipython3",
   "version": "3.12.2"
  }
 },
 "nbformat": 4,
 "nbformat_minor": 5
}
