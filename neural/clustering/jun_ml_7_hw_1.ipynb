{
 "cells": [
  {
   "cell_type": "markdown",
   "metadata": {
    "id": "d5lYtakjONu8"
   },
   "source": [
    "## Урок 2. Домашнее задание\n",
    "\n",
    "### 2.1 Домашнее задание начального уровня\n",
    "\n",
    "Вычислите евклидово расстояние между кластером *c1* и кластером *c3*. Это расстояние получилось меньше, или больше чем расстояние между кластером *c1* и кластером *c2*?\n",
    "\n",
    "Координаты центра для трёх кластеров:\n",
    "\n",
    "* \"красный\" кластер $c_1 = [1.0, 1.5]$\n",
    "* \"оранжевый\" кластер $c_2 = [-1.0, -0.5]$\n",
    "* \"зеленый\" кластер $c_3 = [1.0, -0.5]$\n",
    "\n",
    "![clustering_example](https://248006.selcdn.ru/public/DS.%20Block%202.%20M7/clustering_example.png)"
   ]
  },
  {
   "cell_type": "code",
   "execution_count": 1,
   "metadata": {
    "id": "_BUBuVtnONu_"
   },
   "outputs": [],
   "source": [
    "from scipy.spatial.distance import euclidean\n",
    "\n",
    "c1 = [1.0, 1.5]\n",
    "c2 = [-1.0, -0.5]\n",
    "c3 = [1.0, -0.5]"
   ]
  },
  {
   "cell_type": "code",
   "execution_count": 2,
   "metadata": {},
   "outputs": [
    {
     "name": "stdout",
     "output_type": "stream",
     "text": [
      "euclidean(c1, c3) = 2.000\n",
      "euclidean(c1, c2) = 2.828\n"
     ]
    }
   ],
   "source": [
    "print(\n",
    "    f\"{euclidean(c1, c3) = :.3f}\\n\"\\\n",
    "    f\"{euclidean(c1, c2) = :.3f}\"\n",
    ")"
   ]
  },
  {
   "cell_type": "markdown",
   "metadata": {},
   "source": [
    "$c_1-c_3$ distance < $c_1-c_2$ distance"
   ]
  },
  {
   "cell_type": "markdown",
   "metadata": {
    "id": "erGAkM0UONvJ"
   },
   "source": [
    "В этом уроке мы познакомились с постановкой задачи кластеризации. Мы узнали, с помощью какой функции можно вычислить расстояние между двумя точками. В следующем уроке мы рассмотрим один из самых простых алгоритмов кластеризации, который назовём алгоритмом $k-$средних."
   ]
  }
 ],
 "metadata": {
  "colab": {
   "provenance": []
  },
  "kernelspec": {
   "display_name": "Python 3 (ipykernel)",
   "language": "python",
   "name": "python3"
  },
  "language_info": {
   "codemirror_mode": {
    "name": "ipython",
    "version": 3
   },
   "file_extension": ".py",
   "mimetype": "text/x-python",
   "name": "python",
   "nbconvert_exporter": "python",
   "pygments_lexer": "ipython3",
   "version": "3.12.2"
  }
 },
 "nbformat": 4,
 "nbformat_minor": 4
}
