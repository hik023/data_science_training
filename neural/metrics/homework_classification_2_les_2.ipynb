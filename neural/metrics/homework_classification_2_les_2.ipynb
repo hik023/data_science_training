{
 "cells": [
  {
   "cell_type": "markdown",
   "metadata": {
    "id": "-smrZewE1tU2"
   },
   "source": [
    "# Урок 6. Многоклассовая классификация.\n",
    "\n",
    "Посмотрим на примере алгоритма логистической регрессии и метода опорных векторов, как работать с различными методами многоклассовой классификации."
   ]
  },
  {
   "cell_type": "markdown",
   "metadata": {
    "id": "S5kQdZzo1tU3"
   },
   "source": [
    "### 1.\n",
    "Вспомните датасет Wine. Загрузите его, разделите на тренировочную и тестовую выборки (random_state=17), используя только [9, 11, 12] признаки."
   ]
  },
  {
   "cell_type": "code",
   "execution_count": 1,
   "metadata": {
    "id": "paB2E5141tU4"
   },
   "outputs": [],
   "source": [
    "from sklearn.datasets import load_wine\n",
    "from sklearn.model_selection import train_test_split"
   ]
  },
  {
   "cell_type": "code",
   "execution_count": 9,
   "metadata": {
    "id": "LdwwBPqq1tU7"
   },
   "outputs": [
    {
     "name": "stdout",
     "output_type": "stream",
     "text": [
      "[[   5.64    3.92 1065.  ]\n",
      " [   4.38    3.4  1050.  ]\n",
      " [   5.68    3.17 1185.  ]\n",
      " [   7.8     3.45 1480.  ]\n",
      " [   4.32    2.93  735.  ]\n",
      " [   6.75    2.85 1450.  ]\n",
      " [   5.25    3.58 1290.  ]\n",
      " [   5.05    3.58 1295.  ]\n",
      " [   5.2     2.85 1045.  ]\n",
      " [   7.22    3.55 1045.  ]]\n",
      "[0 0 0 0 0 0 0 0 0 0]\n",
      "(119, 3) (59, 3) (119,) (59,)\n"
     ]
    }
   ],
   "source": [
    "wine_data = load_wine()\n",
    "X = wine_data.data[:,[9, 11, 12]]\n",
    "y = wine_data.target\n",
    "print(X[:10])\n",
    "print(y[:10])\n",
    "X_train, X_test, y_train, y_test = train_test_split(X, y, test_size=0.33, random_state=17)\n",
    "print(X_train.shape, X_test.shape, y_train.shape, y_test.shape)"
   ]
  },
  {
   "cell_type": "markdown",
   "metadata": {
    "id": "HMLiMOUr1tU9"
   },
   "source": [
    "**Задайте тип кросс-валидации с помощью StratifiedKFold: 5-кратная, random_state=17.**"
   ]
  },
  {
   "cell_type": "code",
   "execution_count": 10,
   "metadata": {
    "id": "OTY-C4me1tU-"
   },
   "outputs": [],
   "source": [
    "from sklearn.model_selection import StratifiedKFold, cross_val_score"
   ]
  },
  {
   "cell_type": "code",
   "execution_count": 11,
   "metadata": {
    "id": "LOVHhQ921tVA"
   },
   "outputs": [],
   "source": [
    "skf = StratifiedKFold(n_splits=5, random_state=17, shuffle=True)"
   ]
  },
  {
   "cell_type": "markdown",
   "metadata": {
    "id": "-2ClbxRe1tVC"
   },
   "source": [
    "### 2.\n",
    "Обучите логистическую регрессию (LogisticRegression) с параметром C по умолчанию и random_state=17. Укажите гиперпараметр multi_class='ovr' - по умолчанию многие классификаторы используют именно его. С помощью cross_val_score сделайте кросс-валидацию (используйте объект skf) и выведите среднюю долю правильных ответов на ней (используйте функцию mean). Отдельно выведите долю правильных ответов на тестовой выборке."
   ]
  },
  {
   "cell_type": "code",
   "execution_count": 12,
   "metadata": {
    "id": "oKxIIFGU1tVE"
   },
   "outputs": [],
   "source": [
    "from sklearn.linear_model import LogisticRegression\n",
    "from sklearn.metrics import accuracy_score"
   ]
  },
  {
   "cell_type": "code",
   "execution_count": 20,
   "metadata": {
    "id": "CJhpcgqc1tVJ"
   },
   "outputs": [
    {
     "name": "stdout",
     "output_type": "stream",
     "text": [
      "Train:\t0.916\n",
      "Test:\t0.965\n"
     ]
    }
   ],
   "source": [
    "lr = LogisticRegression(random_state=17, multi_class=\"ovr\").fit(X_train, y_train)\n",
    "cross_val = cross_val_score(lr, X_train, y_train, cv=skf)\n",
    "print(f\"Train:\\t{cross_val.mean():.3f}\")\n",
    "cross_val = cross_val_score(lr, X_test, y_test, cv=skf)\n",
    "print(f\"Test:\\t{cross_val.mean():.3f}\")"
   ]
  },
  {
   "cell_type": "markdown",
   "metadata": {
    "id": "k2JoC3fB1tVM"
   },
   "source": [
    "### 3.\n",
    "Обучите метод опорных векторов (SVC) с random_state=17 и остальными параметрами по умолчанию. Этот метод при мультиклассовой классификации также использует метод \"ovr\". Сделайте кросс-валидацию (используйте skf) и, как и в предыдущем пункте, выведите среднюю долю правильных ответов на ней. Отдельно выведите долю правильных ответов на тестовой выборке."
   ]
  },
  {
   "cell_type": "code",
   "execution_count": 21,
   "metadata": {
    "id": "50kaD7MQ1tVN"
   },
   "outputs": [],
   "source": [
    "from sklearn.svm import SVC"
   ]
  },
  {
   "cell_type": "code",
   "execution_count": 22,
   "metadata": {
    "id": "3DCvlNRd1tVR"
   },
   "outputs": [
    {
     "name": "stdout",
     "output_type": "stream",
     "text": [
      "Train:\t0.689\n",
      "Test:\t0.764\n"
     ]
    }
   ],
   "source": [
    "svc = SVC(random_state=17).fit(X_train, y_train)\n",
    "cross_val = cross_val_score(svc, X_train, y_train, cv=skf)\n",
    "print(f\"Train:\\t{cross_val.mean():.3f}\")\n",
    "cross_val = cross_val_score(svc, X_test, y_test, cv=skf)\n",
    "print(f\"Test:\\t{cross_val.mean():.3f}\")"
   ]
  },
  {
   "cell_type": "markdown",
   "metadata": {
    "id": "xMvjv6pR1tVX"
   },
   "source": [
    "Как видно из полученной метрики, на тестовой выборке метод с гиперпараметрами по умолчанию работает явно намного хуже логистической регрессии. В целом, SVM достаточно плохо масштабируется на размер обучающего набора данных (как видно, даже с тремя признаками он работает не очень хорошо), но благодаря возможности выбора различных ядер (функций близости, которые помогают разделять данные) и другим гиперпараметрам SVM можно достаточно точно настроить под определенный вид данных. Подробнее на этом останавливаться в контексте данного урока не будем."
   ]
  },
  {
   "cell_type": "markdown",
   "metadata": {
    "id": "0LqZbdk31tVY"
   },
   "source": [
    "### 4.\n",
    "Для предсказаний обеих моделей постройте матрицу ошибок (confusion matrix) и напишите, какие классы каждая из моделей путает больше всего между собой."
   ]
  },
  {
   "cell_type": "code",
   "execution_count": 23,
   "metadata": {
    "id": "5dRSK--u1tVY"
   },
   "outputs": [],
   "source": [
    "from sklearn.metrics import classification_report, confusion_matrix"
   ]
  },
  {
   "cell_type": "code",
   "execution_count": 26,
   "metadata": {
    "id": "VkXUKkhp1tVb"
   },
   "outputs": [
    {
     "name": "stdout",
     "output_type": "stream",
     "text": [
      "Linear regression confusion matrix:\n",
      "[[12  0  0]\n",
      " [ 0 26  0]\n",
      " [ 0  5 16]]\n",
      "Support vector classification confusion matrix:\n",
      "[[12  0  0]\n",
      " [ 0 26  0]\n",
      " [ 3 18  0]]\n"
     ]
    }
   ],
   "source": [
    "y_lr = lr.predict(X_test)\n",
    "conf_matrix = confusion_matrix(y_test, y_lr)\n",
    "print(\n",
    "    \"Linear regression confusion matrix:\\n\"\\\n",
    "    f\"{conf_matrix}\"\n",
    ")\n",
    "y_svc = svc.predict(X_test)\n",
    "conf_matrix = confusion_matrix(y_test, y_svc)\n",
    "print(\n",
    "    \"Support vector classification confusion matrix:\\n\"\\\n",
    "    f\"{conf_matrix}\"\n",
    ")"
   ]
  },
  {
   "cell_type": "markdown",
   "metadata": {},
   "source": [
    "Linear regression sometimes thinks that 1 class is 2 <br>\n",
    "SVC thinks that 0 or 1 class is 2 and can't predicts 2 class correctly in valid dataset"
   ]
  },
  {
   "cell_type": "markdown",
   "metadata": {
    "id": "mqW8if321tVd"
   },
   "source": [
    "### 5.\n",
    "Для каждой модели выведите classification report."
   ]
  },
  {
   "cell_type": "code",
   "execution_count": 27,
   "metadata": {
    "id": "iuu7neuS1tVe"
   },
   "outputs": [
    {
     "name": "stdout",
     "output_type": "stream",
     "text": [
      "Linear regression report:\n",
      "              precision    recall  f1-score   support\n",
      "\n",
      "           0       1.00      1.00      1.00        12\n",
      "           1       0.84      1.00      0.91        26\n",
      "           2       1.00      0.76      0.86        21\n",
      "\n",
      "    accuracy                           0.92        59\n",
      "   macro avg       0.95      0.92      0.93        59\n",
      "weighted avg       0.93      0.92      0.91        59\n",
      "\n",
      "Support vector classification report:\n",
      "              precision    recall  f1-score   support\n",
      "\n",
      "           0       0.80      1.00      0.89        12\n",
      "           1       0.59      1.00      0.74        26\n",
      "           2       0.00      0.00      0.00        21\n",
      "\n",
      "    accuracy                           0.64        59\n",
      "   macro avg       0.46      0.67      0.54        59\n",
      "weighted avg       0.42      0.64      0.51        59\n",
      "\n"
     ]
    },
    {
     "name": "stderr",
     "output_type": "stream",
     "text": [
      "/home/hik0/mount/500_gb/data_science/.venv/lib/python3.12/site-packages/sklearn/metrics/_classification.py:1509: UndefinedMetricWarning: Precision is ill-defined and being set to 0.0 in labels with no predicted samples. Use `zero_division` parameter to control this behavior.\n",
      "  _warn_prf(average, modifier, f\"{metric.capitalize()} is\", len(result))\n",
      "/home/hik0/mount/500_gb/data_science/.venv/lib/python3.12/site-packages/sklearn/metrics/_classification.py:1509: UndefinedMetricWarning: Precision is ill-defined and being set to 0.0 in labels with no predicted samples. Use `zero_division` parameter to control this behavior.\n",
      "  _warn_prf(average, modifier, f\"{metric.capitalize()} is\", len(result))\n",
      "/home/hik0/mount/500_gb/data_science/.venv/lib/python3.12/site-packages/sklearn/metrics/_classification.py:1509: UndefinedMetricWarning: Precision is ill-defined and being set to 0.0 in labels with no predicted samples. Use `zero_division` parameter to control this behavior.\n",
      "  _warn_prf(average, modifier, f\"{metric.capitalize()} is\", len(result))\n"
     ]
    }
   ],
   "source": [
    "print(\n",
    "    \"Linear regression report:\\n\"\\\n",
    "    f\"{classification_report(y_test, y_lr)}\"\n",
    ")\n",
    "print(\n",
    "    \"Support vector classification report:\\n\"\\\n",
    "    f\"{classification_report(y_test, y_svc)}\"\n",
    ")"
   ]
  },
  {
   "cell_type": "code",
   "execution_count": null,
   "metadata": {},
   "outputs": [],
   "source": []
  }
 ],
 "metadata": {
  "colab": {
   "provenance": []
  },
  "kernelspec": {
   "display_name": "Python 3 (ipykernel)",
   "language": "python",
   "name": "python3"
  },
  "language_info": {
   "codemirror_mode": {
    "name": "ipython",
    "version": 3
   },
   "file_extension": ".py",
   "mimetype": "text/x-python",
   "name": "python",
   "nbconvert_exporter": "python",
   "pygments_lexer": "ipython3",
   "version": "3.12.2"
  }
 },
 "nbformat": 4,
 "nbformat_minor": 4
}
