{
 "cells": [
  {
   "cell_type": "markdown",
   "metadata": {
    "id": "EgshItiNbYmH"
   },
   "source": [
    "# Реализация табличного Q-Learning\n",
    "\n",
    "В этом уроке мы разберем на практике простой алгоритм обучения табличной Q-функции на примере задачи Frozen Lake."
   ]
  },
  {
   "cell_type": "markdown",
   "metadata": {
    "id": "Y1c9g1MHeUCl"
   },
   "source": [
    "### Загрузка библиотек"
   ]
  },
  {
   "cell_type": "code",
   "execution_count": 1,
   "metadata": {
    "id": "2-zMowjHFz3t"
   },
   "outputs": [],
   "source": [
    "import numpy as np\n",
    "\n",
    "import gym\n",
    "\n",
    "import matplotlib.pyplot as plt\n",
    "%matplotlib inline"
   ]
  },
  {
   "cell_type": "markdown",
   "metadata": {
    "id": "IAGOjhbmg409"
   },
   "source": [
    "### Создание игровой среды\n",
    "Создадим симулятор Frozen Lake."
   ]
  },
  {
   "cell_type": "code",
   "execution_count": 2,
   "metadata": {
    "colab": {
     "base_uri": "https://localhost:8080/",
     "height": 52
    },
    "id": "mIprlbAyJo18",
    "outputId": "54d443cf-3473-4a12-e9ee-fff5fb739cbd"
   },
   "outputs": [
    {
     "name": "stdout",
     "output_type": "stream",
     "text": [
      "States: 16\n",
      "Actions: 4\n"
     ]
    }
   ],
   "source": [
    "env = gym.make('FrozenLake-v1', is_slippery=False, render_mode=\"ansi\")\n",
    "\n",
    "NUM_STATES = env.observation_space.n\n",
    "NUM_ACTIONS = env.action_space.n\n",
    "\n",
    "print('States: {}'.format(NUM_STATES))\n",
    "print('Actions: {}'.format(NUM_ACTIONS))"
   ]
  },
  {
   "cell_type": "markdown",
   "metadata": {
    "id": "GjQrZ6wlFHxX"
   },
   "source": [
    "### Параметры обучения\n",
    "\n",
    "* `lr` - скорость обучения (в теории это был параметр `alpha`)\n",
    "* `gamma` - параметр дисконтирования\n",
    "* `NUM_EPISODES` - сколько всего эпизодов игры будем осуществлять\n",
    "* `MAX_STEPS` - максимальное количесвто шагов в рамках одного эпизода. Эпизод может закончиться и раньше. Это ограничение нужно, если агент зашёл в какой-то тупик и там застрял. Или для бесконечных игр/симуляций."
   ]
  },
  {
   "cell_type": "code",
   "execution_count": 3,
   "metadata": {
    "id": "DWdeWWIHZcC2"
   },
   "outputs": [],
   "source": [
    "lr = 0.8 # learning rate\n",
    "gamma = 0.95 # параметр дисконтирования\n",
    "\n",
    "NUM_EPISODES = 50 # число эпизодов для обучения\n",
    "MAX_STEPS = 100 # максимальное число шагов в эпизоде"
   ]
  },
  {
   "cell_type": "markdown",
   "metadata": {
    "id": "RMqTIKoAF6VG"
   },
   "source": [
    "### Обучение Q-функции\n",
    "\n",
    "Во время обучения удобно следить за разными характеристиками. В данном случае будем собирать данные о длине траектории (как далеко удаётся дойти нашему агенту) по эпизодам и суммарную награду по эпизодам. От эпизода к эпизоду наш агент должен становиться всё лучше и лучше.\n",
    "\n",
    "Создаём Q-функцию (таблицу) и инициализируем её случайными числами. В нашем простом Q-Learning'е во время игры мы всегда будем использовать детерминированную политику (выбор действия строго по Q-функции). Поэтому важно инициализировать Q-функцию так, чтобы агент не застревал в циклах и всё же мог когди-нибудь дойти до цели. В нашем случае, главное -- не занулять те значения Q-функции, которые потенциально могут привести нас к цели (например, нельзя всю таблицу инициализировать нулями). У такой проблемы есть и более элегантное решение, которое мы рассмотрим в других уроках.\n",
    "\n",
    "Далее идёт цикл по эпизодам и цикл по шагам внутри эпизода.\n",
    "\n",
    "В начале каждого эпизода переходим на нулевое состояние `env.reset()`\n",
    "\n",
    "Один шаг обучения состоит в следующем:\n",
    "\n",
    "* Выбор действия `a` по политике с использованием текущей функции Q\n",
    "* Сообщение действия среде, получение следующего состояния `s1`, награды `r` и сигнала о конце эпизода `done`.\n",
    "* Вычисление целевого (нового) значения `Q_target` (по уравнению Беллмана)\n",
    "* Плавное обновление Q функции для старого состояния `s` и действия `a` (с использование learning rate)\n",
    "\n",
    "В конце каждого эпизода смотрим на суммарную накопленную награду."
   ]
  },
  {
   "cell_type": "code",
   "execution_count": 11,
   "metadata": {
    "colab": {
     "base_uri": "https://localhost:8080/",
     "height": 884
    },
    "id": "gsz97yV_dbce",
    "outputId": "909c3121-339b-440c-fbcb-603554713c63"
   },
   "outputs": [
    {
     "name": "stdout",
     "output_type": "stream",
     "text": [
      "Episode 0: Total reward = 0.0\n",
      "Episode 1: Total reward = 0.0\n",
      "Episode 2: Total reward = 0.0\n",
      "Episode 3: Total reward = 1.0\n",
      "Episode 4: Total reward = 0.0\n",
      "Episode 5: Total reward = 1.0\n",
      "Episode 6: Total reward = 1.0\n",
      "Episode 7: Total reward = 1.0\n",
      "Episode 8: Total reward = 1.0\n",
      "Episode 9: Total reward = 1.0\n",
      "Episode 10: Total reward = 1.0\n",
      "Episode 11: Total reward = 1.0\n",
      "Episode 12: Total reward = 1.0\n",
      "Episode 13: Total reward = 1.0\n",
      "Episode 14: Total reward = 1.0\n",
      "Episode 15: Total reward = 1.0\n",
      "Episode 16: Total reward = 1.0\n",
      "Episode 17: Total reward = 1.0\n",
      "Episode 18: Total reward = 1.0\n",
      "Episode 19: Total reward = 1.0\n",
      "Episode 20: Total reward = 1.0\n",
      "Episode 21: Total reward = 1.0\n",
      "Episode 22: Total reward = 1.0\n",
      "Episode 23: Total reward = 1.0\n",
      "Episode 24: Total reward = 1.0\n",
      "Episode 25: Total reward = 1.0\n",
      "Episode 26: Total reward = 1.0\n",
      "Episode 27: Total reward = 1.0\n",
      "Episode 28: Total reward = 1.0\n",
      "Episode 29: Total reward = 1.0\n",
      "Episode 30: Total reward = 1.0\n",
      "Episode 31: Total reward = 1.0\n",
      "Episode 32: Total reward = 1.0\n",
      "Episode 33: Total reward = 1.0\n",
      "Episode 34: Total reward = 1.0\n",
      "Episode 35: Total reward = 1.0\n",
      "Episode 36: Total reward = 1.0\n",
      "Episode 37: Total reward = 1.0\n",
      "Episode 38: Total reward = 1.0\n",
      "Episode 39: Total reward = 1.0\n",
      "Episode 40: Total reward = 1.0\n",
      "Episode 41: Total reward = 1.0\n",
      "Episode 42: Total reward = 1.0\n",
      "Episode 43: Total reward = 1.0\n",
      "Episode 44: Total reward = 1.0\n",
      "Episode 45: Total reward = 1.0\n",
      "Episode 46: Total reward = 1.0\n",
      "Episode 47: Total reward = 1.0\n",
      "Episode 48: Total reward = 1.0\n",
      "Episode 49: Total reward = 1.0\n"
     ]
    },
    {
     "name": "stderr",
     "output_type": "stream",
     "text": [
      "/mnt/500_gb/data_science/.venv/lib/python3.11/site-packages/gym/utils/passive_env_checker.py:233: DeprecationWarning: `np.bool8` is a deprecated alias for `np.bool_`.  (Deprecated NumPy 1.24)\n",
      "  if not isinstance(terminated, (bool, np.bool8)):\n"
     ]
    }
   ],
   "source": [
    "pathLenList = [] # длины траекторий по эпизодам\n",
    "totalRewardList = [] # суммарные награды по эпизодам\n",
    "\n",
    "# Инициализация Q-функции (таблицы)\n",
    "Q = np.random.rand(NUM_STATES, NUM_ACTIONS)\n",
    "\n",
    "for i in range(NUM_EPISODES):\n",
    "\n",
    "    s = env.reset()[0]\n",
    "\n",
    "    totalReward = 0\n",
    "    step = 0\n",
    "\n",
    "    while step < MAX_STEPS:\n",
    "        step += 1\n",
    "\n",
    "        # Выбор действия по текущей политике\n",
    "        a = np.argmax(Q[s,...])\n",
    "\n",
    "        # Сделать шаг\n",
    "        s1, r, done, trunc, _ = env.step(a)\n",
    "\n",
    "        # Новое (целевое) значение Q-функции\n",
    "        if done:\n",
    "            Q_target = r\n",
    "        else:\n",
    "            Q_target = r + gamma * np.max(Q[s1,...])\n",
    "\n",
    "        # Обновление Q-функции\n",
    "        Q[s,a] = (1-lr) * Q[s,a] + lr * Q_target\n",
    "\n",
    "        totalReward += r\n",
    "        s = s1\n",
    "\n",
    "        # Если конец эпизода\n",
    "        if done:\n",
    "            break\n",
    "\n",
    "    pathLenList.append(step)\n",
    "    totalRewardList.append(totalReward)\n",
    "    print('Episode {}: Total reward = {}'.format(i, totalReward))"
   ]
  },
  {
   "cell_type": "markdown",
   "metadata": {
    "id": "l6QPpxgvK2yD"
   },
   "source": [
    "Посмотрим на то, как выглядит обученная оптимальная Q-функция"
   ]
  },
  {
   "cell_type": "code",
   "execution_count": 12,
   "metadata": {
    "colab": {
     "base_uri": "https://localhost:8080/",
     "height": 295
    },
    "id": "kUzYpMzrdnNQ",
    "outputId": "2c2e54ab-57fb-4bbb-c47d-61df7ea411b0"
   },
   "outputs": [
    {
     "name": "stdout",
     "output_type": "stream",
     "text": [
      "[[0.38438592 0.77378094 0.38440267 0.3969691 ]\n",
      " [0.38438662 0.10075075 0.38631703 0.26157339]\n",
      " [0.38225727 0.09821301 0.33186942 0.38631703]\n",
      " [0.19359335 0.45490818 0.60842016 0.08575624]\n",
      " [0.2159014  0.81450625 0.13905218 0.52949517]\n",
      " [0.38748215 0.93851886 0.82057687 0.66013801]\n",
      " [0.27473864 0.44712767 0.38915651 0.34470564]\n",
      " [0.95506289 0.69490268 0.91605076 0.91341524]\n",
      " [0.24337498 0.1779522  0.857375   0.30335775]\n",
      " [0.21532758 0.9025     0.44083967 0.18372542]\n",
      " [0.27502894 0.62195666 0.32102945 0.18673937]\n",
      " [0.439581   0.21788279 0.05233391 0.06020814]\n",
      " [0.89834505 0.47644115 0.17020213 0.57587063]\n",
      " [0.69685811 0.59187474 0.95       0.79882612]\n",
      " [0.17317982 0.60341057 1.         0.47926816]\n",
      " [0.02740855 0.699805   0.58590369 0.82684718]]\n"
     ]
    }
   ],
   "source": [
    "print(Q)"
   ]
  },
  {
   "cell_type": "markdown",
   "metadata": {
    "id": "O5mhKjbxK8ev"
   },
   "source": [
    "Посмотрим на историю длин траекторий. Видно, что сначала агент долго гулял и не мог найти цель (на ранних эпизодах). Потом постепенно он научился находить цель за минимальное количество шагов."
   ]
  },
  {
   "cell_type": "code",
   "execution_count": 13,
   "metadata": {
    "colab": {
     "base_uri": "https://localhost:8080/",
     "height": 265
    },
    "id": "mGlhKYpcdoR8",
    "outputId": "d7fec802-04a0-4f85-92fc-0de49dd37a4f"
   },
   "outputs": [
    {
     "data": {
      "image/png": "[encoded data removed]",
      "text/plain": [
       "<Figure size 640x480 with 1 Axes>"
      ]
     },
     "metadata": {},
     "output_type": "display_data"
    }
   ],
   "source": [
    "plt.plot(pathLenList)\n",
    "plt.grid()"
   ]
  },
  {
   "cell_type": "markdown",
   "metadata": {
    "id": "Ft3igyadLQ81"
   },
   "source": [
    "То же самое видно на графике суммарных наград по эпизодам. На ранних эпизодах награда 0 (это значит, что агент либо падал в яму, либо так и не смог завершить эпизод за `MAX_STEPS` шагов). А далее награда 1, то есть агент стал доходить до цели."
   ]
  },
  {
   "cell_type": "code",
   "execution_count": 14,
   "metadata": {
    "colab": {
     "base_uri": "https://localhost:8080/",
     "height": 265
    },
    "id": "A91RbeMHdpL4",
    "outputId": "725d5aaf-df30-4ccb-c71f-75d77b591f80"
   },
   "outputs": [
    {
     "data": {
      "image/png": "[encoded data removed]",
      "text/plain": [
       "<Figure size 640x480 with 1 Axes>"
      ]
     },
     "metadata": {},
     "output_type": "display_data"
    }
   ],
   "source": [
    "plt.plot(totalRewardList)\n",
    "plt.grid()"
   ]
  },
  {
   "cell_type": "markdown",
   "metadata": {
    "id": "NCRcn4ihLo2m"
   },
   "source": [
    "### Запуск симуляции\n",
    "\n",
    "Запустим симуляцию для Frozen Lake так же, как мы делали до этого. Будем использовать стратегию, основанную на обученной оптимальной Q-функции."
   ]
  },
  {
   "cell_type": "code",
   "execution_count": 17,
   "metadata": {
    "colab": {
     "base_uri": "https://localhost:8080/",
     "height": 641
    },
    "id": "7ZQcB09FZfCC",
    "outputId": "474d2397-2c27-46fd-b934-b9d2a9be1608"
   },
   "outputs": [
    {
     "name": "stdout",
     "output_type": "stream",
     "text": [
      "\n",
      "\u001b[41mS\u001b[0mFFF\n",
      "FHFH\n",
      "FFFH\n",
      "HFFG\n",
      "\n",
      "  (Down)\n",
      "SFFF\n",
      "\u001b[41mF\u001b[0mHFH\n",
      "FFFH\n",
      "HFFG\n",
      "\n",
      "  (Down)\n",
      "SFFF\n",
      "FHFH\n",
      "\u001b[41mF\u001b[0mFFH\n",
      "HFFG\n",
      "\n",
      "  (Right)\n",
      "SFFF\n",
      "FHFH\n",
      "F\u001b[41mF\u001b[0mFH\n",
      "HFFG\n",
      "\n",
      "  (Down)\n",
      "SFFF\n",
      "FHFH\n",
      "FFFH\n",
      "H\u001b[41mF\u001b[0mFG\n",
      "\n",
      "  (Right)\n",
      "SFFF\n",
      "FHFH\n",
      "FFFH\n",
      "HF\u001b[41mF\u001b[0mG\n",
      "\n",
      "  (Right)\n",
      "SFFF\n",
      "FHFH\n",
      "FFFH\n",
      "HFF\u001b[41mG\u001b[0m\n",
      "\n",
      "Total reward = 1.0\n"
     ]
    }
   ],
   "source": [
    "totalReward = 0\n",
    "s = env.reset()[0]\n",
    "\n",
    "for _ in range(100):\n",
    "    print(env.render())\n",
    "    a = np.argmax(Q[s,:]) # выбираем оптимальное действие\n",
    "    s, r, done, trunc, _ = env.step(a)\n",
    "    totalReward += r\n",
    "    if done:\n",
    "        print(env.render())\n",
    "        break\n",
    "\n",
    "env.close()\n",
    "print('Total reward = {}'.format(totalReward))"
   ]
  },
  {
   "cell_type": "code",
   "execution_count": null,
   "metadata": {},
   "outputs": [],
   "source": []
  }
 ],
 "metadata": {
  "accelerator": "GPU",
  "colab": {
   "provenance": []
  },
  "kernelspec": {
   "display_name": "Python 3 (ipykernel)",
   "language": "python",
   "name": "python3"
  },
  "language_info": {
   "codemirror_mode": {
    "name": "ipython",
    "version": 3
   },
   "file_extension": ".py",
   "mimetype": "text/x-python",
   "name": "python",
   "nbconvert_exporter": "python",
   "pygments_lexer": "ipython3",
   "version": "3.11.9"
  }
 },
 "nbformat": 4,
 "nbformat_minor": 4
}
