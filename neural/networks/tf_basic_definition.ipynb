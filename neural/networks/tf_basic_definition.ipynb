{
 "cells": [
  {
   "cell_type": "code",
   "execution_count": 1,
   "id": "9ac43790-2ec5-4f1d-b74a-4fe249f69a86",
   "metadata": {},
   "outputs": [],
   "source": [
    "import tensorflow as tf\n",
    "import os\n",
    "\n",
    "os.environ['TF_CPP_MIN_LOG_LEVEL'] = '2' "
   ]
  },
  {
   "cell_type": "markdown",
   "id": "a0d593d5-e77c-4c78-a27a-a76a1c0f5b2e",
   "metadata": {},
   "source": [
    "# Загрузка и предобработка данных\n",
    "- Чтение файлов с диска\n",
    "- Сохранение их в память (для небольших выборок)\n",
    "- Итератор по батчам\n",
    "- Выполняется нормализация признаков"
   ]
  },
  {
   "cell_type": "code",
   "execution_count": 2,
   "id": "49e7eb42-854f-4bf8-b635-f683886250ef",
   "metadata": {},
   "outputs": [],
   "source": [
    "(x_train, y_train), (x_test, y_test) = tf.keras.datasets.mnist.load_data()\n",
    "x_train, x_test = x_train / 255.0, x_test / 255.0"
   ]
  },
  {
   "cell_type": "markdown",
   "id": "c732ef22-d6c8-449e-8ab8-b93a7dad6f96",
   "metadata": {},
   "source": [
    "# Определение модели (сети)\n",
    "- Путь от признаков ло финального ответа, т.е. Модель\n",
    "- Часто - это последовательность слоёв"
   ]
  },
  {
   "cell_type": "code",
   "execution_count": 3,
   "id": "1f0b229c-cb9a-4d5e-97ba-0eceefa07cd5",
   "metadata": {},
   "outputs": [
    {
     "name": "stderr",
     "output_type": "stream",
     "text": [
      "/home/hik0/.pyenv/versions/3.12.2/lib/python3.12/site-packages/keras/src/layers/reshaping/flatten.py:37: UserWarning: Do not pass an `input_shape`/`input_dim` argument to a layer. When using Sequential models, prefer using an `Input(shape)` object as the first layer in the model instead.\n",
      "  super().__init__(**kwargs)\n",
      "2024-05-01 15:09:59.523416: I external/local_xla/xla/stream_executor/cuda/cuda_executor.cc:998] successful NUMA node read from SysFS had negative value (-1), but there must be at least one NUMA node, so returning NUMA node zero. See more at https://github.com/torvalds/linux/blob/v6.0/Documentation/ABI/testing/sysfs-bus-pci#L344-L355\n",
      "2024-05-01 15:09:59.529217: W tensorflow/core/common_runtime/gpu/gpu_device.cc:2251] Cannot dlopen some GPU libraries. Please make sure the missing libraries mentioned above are installed properly if you would like to use GPU. Follow the guide at https://www.tensorflow.org/install/gpu for how to download and setup the required libraries for your platform.\n",
      "Skipping registering GPU devices...\n"
     ]
    }
   ],
   "source": [
    "model = tf.keras.models.Sequential([\n",
    "    tf.keras.layers.Flatten(input_shape=(28, 28)),\n",
    "    tf.keras.layers.Dense(512, activation=\"relu\"),\n",
    "    tf.keras.layers.Dense(10, activation=\"softmax\")\n",
    "])"
   ]
  },
  {
   "cell_type": "markdown",
   "id": "862969de-18d4-4423-937d-d58b8b7acae4",
   "metadata": {},
   "source": [
    "# Определение функционала ошибки, оптимизатора и метрик\n",
    "- `loss` - та функция, которую наша модель должна оптимизировать на указанных данных\n",
    "- `optimizer` - алгоритм оптимизации\n",
    "    - изменяет модель так чтобы ошибка(`loss`) была минимальной\n",
    "    - SGD, Adam и др. "
   ]
  },
  {
   "cell_type": "code",
   "execution_count": 4,
   "id": "e7459682-3d7d-4c17-a302-64d5ea4d06a1",
   "metadata": {},
   "outputs": [],
   "source": [
    "model.compile(\n",
    "    optimizer=\"adam\",\n",
    "    loss=\"sparse_categorical_crossentropy\",\n",
    "    metrics=[\"accuracy\"]\n",
    ")"
   ]
  },
  {
   "cell_type": "markdown",
   "id": "1d1443cd-6101-43e1-b16c-450124cb8acb",
   "metadata": {},
   "source": [
    "# Цикл обучения \n",
    "- Итерирование по данным\n",
    "- Forward pass модели\n",
    "- Считает лосс функцию\n",
    "- Вызывает оптимизатор для обновления весов\n",
    "- И много других важных технических вещей\n",
    "    - Логирование\n",
    "    - Подсчёт метрик\n",
    "    - Сохранение промежуточных результатов "
   ]
  },
  {
   "cell_type": "code",
   "execution_count": 5,
   "id": "2eaf1782-bc0e-477c-89d6-845f202e8af3",
   "metadata": {},
   "outputs": [
    {
     "name": "stdout",
     "output_type": "stream",
     "text": [
      "Epoch 1/5\n",
      "\u001b[1m469/469\u001b[0m \u001b[32m━━━━━━━━━━━━━━━━━━━━\u001b[0m\u001b[37m\u001b[0m \u001b[1m2s\u001b[0m 4ms/step - accuracy: 0.8679 - loss: 0.4591 - val_accuracy: 0.9595 - val_loss: 0.1341\n",
      "Epoch 2/5\n",
      "\u001b[1m469/469\u001b[0m \u001b[32m━━━━━━━━━━━━━━━━━━━━\u001b[0m\u001b[37m\u001b[0m \u001b[1m2s\u001b[0m 3ms/step - accuracy: 0.9673 - loss: 0.1147 - val_accuracy: 0.9716 - val_loss: 0.0926\n",
      "Epoch 3/5\n",
      "\u001b[1m469/469\u001b[0m \u001b[32m━━━━━━━━━━━━━━━━━━━━\u001b[0m\u001b[37m\u001b[0m \u001b[1m2s\u001b[0m 3ms/step - accuracy: 0.9795 - loss: 0.0721 - val_accuracy: 0.9761 - val_loss: 0.0761\n",
      "Epoch 4/5\n",
      "\u001b[1m469/469\u001b[0m \u001b[32m━━━━━━━━━━━━━━━━━━━━\u001b[0m\u001b[37m\u001b[0m \u001b[1m2s\u001b[0m 3ms/step - accuracy: 0.9860 - loss: 0.0487 - val_accuracy: 0.9779 - val_loss: 0.0685\n",
      "Epoch 5/5\n",
      "\u001b[1m469/469\u001b[0m \u001b[32m━━━━━━━━━━━━━━━━━━━━\u001b[0m\u001b[37m\u001b[0m \u001b[1m2s\u001b[0m 3ms/step - accuracy: 0.9895 - loss: 0.0360 - val_accuracy: 0.9790 - val_loss: 0.0663\n"
     ]
    },
    {
     "data": {
      "text/plain": [
       "<keras.src.callbacks.history.History at 0x7e38d9f7cb30>"
      ]
     },
     "execution_count": 5,
     "metadata": {},
     "output_type": "execute_result"
    }
   ],
   "source": [
    "model.fit(\n",
    "    x=x_train, y=y_train,\n",
    "    batch_size=128, epochs=5,\n",
    "    validation_data=(x_test, y_test)\n",
    ")"
   ]
  },
  {
   "cell_type": "code",
   "execution_count": null,
   "id": "d49c9fef-a5bf-4ff4-96ac-1eb6d7076422",
   "metadata": {},
   "outputs": [],
   "source": []
  }
 ],
 "metadata": {
  "kernelspec": {
   "display_name": "Python 3 (ipykernel)",
   "language": "python",
   "name": "python3"
  },
  "language_info": {
   "codemirror_mode": {
    "name": "ipython",
    "version": 3
   },
   "file_extension": ".py",
   "mimetype": "text/x-python",
   "name": "python",
   "nbconvert_exporter": "python",
   "pygments_lexer": "ipython3",
   "version": "3.12.2"
  }
 },
 "nbformat": 4,
 "nbformat_minor": 5
}
