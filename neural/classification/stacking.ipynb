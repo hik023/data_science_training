{
 "cells": [
  {
   "cell_type": "code",
   "execution_count": 1,
   "id": "8adf8c38-a75d-4e96-b940-6df6da313c36",
   "metadata": {},
   "outputs": [],
   "source": [
    "from sklearn.neighbors import KNeighborsClassifier\n",
    "from sklearn.linear_model import LogisticRegression\n",
    "from sklearn.tree import DecisionTreeClassifier\n",
    "from sklearn.svm import SVC\n",
    "from xgboost import XGBClassifier\n",
    "from sklearn.model_selection import train_test_split\n",
    "from sklearn.metrics import roc_auc_score\n",
    "import pandas as pd\n",
    "import numpy as np"
   ]
  },
  {
   "cell_type": "code",
   "execution_count": 2,
   "id": "58f653fc-aef4-4dbc-8f37-741d9ab4a251",
   "metadata": {},
   "outputs": [],
   "source": [
    "titanic = pd.read_csv(\"../metrics/titanic/cleaned.csv\")\n",
    "targets = titanic.Survived\n",
    "data = titanic.drop(columns=\"Survived\")\n",
    "x_train, x_test, y_train, y_test = train_test_split(data, targets, train_size=0.8, random_state=0)"
   ]
  },
  {
   "cell_type": "code",
   "execution_count": 3,
   "id": "d08a2917-7e0e-4bc7-a792-296be34a34df",
   "metadata": {},
   "outputs": [],
   "source": [
    "train, valid, train_true, valid_true = train_test_split(x_train, y_train, train_size=0.5, random_state=0)"
   ]
  },
  {
   "cell_type": "code",
   "execution_count": 4,
   "id": "5002ad1e-e1dd-4176-80b7-2fef8474210a",
   "metadata": {},
   "outputs": [
    {
     "name": "stderr",
     "output_type": "stream",
     "text": [
      "/home/hik0/mount/500_gb/data_science/.venv/lib/python3.12/site-packages/sklearn/linear_model/_logistic.py:469: ConvergenceWarning: lbfgs failed to converge (status=1):\n",
      "STOP: TOTAL NO. of ITERATIONS REACHED LIMIT.\n",
      "\n",
      "Increase the number of iterations (max_iter) or scale the data as shown in:\n",
      "    https://scikit-learn.org/stable/modules/preprocessing.html\n",
      "Please also refer to the documentation for alternative solver options:\n",
      "    https://scikit-learn.org/stable/modules/linear_model.html#logistic-regression\n",
      "  n_iter_i = _check_optimize_result(\n"
     ]
    }
   ],
   "source": [
    "knn = KNeighborsClassifier(n_neighbors=3)\n",
    "knn_model = knn.fit(train, train_true)\n",
    "\n",
    "lr = LogisticRegression(random_state=17)\n",
    "lr_model = lr.fit(train, train_true)\n",
    "\n",
    "dtc = DecisionTreeClassifier(max_leaf_nodes=4, random_state=17)\n",
    "dtc_model = dtc.fit(train, train_true)\n",
    "\n",
    "svc = SVC(random_state=17)\n",
    "svc_model = svc.fit(train, train_true)"
   ]
  },
  {
   "cell_type": "code",
   "execution_count": 5,
   "id": "5180b8fb-98b2-44f7-9d27-3fb41a6dcfe1",
   "metadata": {},
   "outputs": [
    {
     "name": "stdout",
     "output_type": "stream",
     "text": [
      "0 auc: 0.6844532279314888\n",
      "1 auc: 0.7995388669301713\n",
      "2 auc: 0.7877470355731225\n",
      "3 auc: 0.6538866930171279\n"
     ]
    }
   ],
   "source": [
    "models = [knn_model, lr_model, dtc_model, svc_model]\n",
    "meta_mtrx = np.empty((valid.shape[0], len(models)))  # (num of objects, 4 algorithms)\n",
    "\n",
    "for n, model in enumerate(models):\n",
    "    meta_mtrx[:, n] = model.predict(valid)\n",
    "    predicted = model.predict(x_test)\n",
    "    print(f\"{n} auc: {roc_auc_score(y_test, predicted)}\")\n",
    "\n",
    "meta = XGBClassifier(n_estimators=40)\n",
    "meta_model = meta.fit(meta_mtrx, valid_true)"
   ]
  },
  {
   "cell_type": "code",
   "execution_count": 6,
   "id": "19547545-cfb1-4ba0-9c56-b03c8441c3b6",
   "metadata": {},
   "outputs": [
    {
     "name": "stdout",
     "output_type": "stream",
     "text": [
      "Blending AUC: 0.7959815546772069\n"
     ]
    }
   ],
   "source": [
    "meta_mtrx_test = np.empty((x_test.shape[0], len(models)))\n",
    "\n",
    "for n, model in enumerate(models):\n",
    "    meta_mtrx_test[:,n] = model.predict(x_test)\n",
    "\n",
    "meta_predict = meta.predict(meta_mtrx_test)\n",
    "print(f\"Blending AUC: {roc_auc_score(y_test, meta_predict)}\")"
   ]
  },
  {
   "cell_type": "code",
   "execution_count": 7,
   "id": "e8b4cbc6-17df-4e55-845a-811962ab6b5c",
   "metadata": {},
   "outputs": [
    {
     "name": "stdout",
     "output_type": "stream",
     "text": [
      "0 auc: 0.6844532279314888\n",
      "1 auc: 0.6538866930171279\n",
      "Blending AUC: 0.7115942028985508\n"
     ]
    }
   ],
   "source": [
    "models = [knn_model, svc_model]\n",
    "meta_mtrx = np.empty((valid.shape[0], len(models)))  # (num of objects, 2 algorithms)\n",
    "\n",
    "for n, model in enumerate(models):\n",
    "    meta_mtrx[:, n] = model.predict(valid)\n",
    "    predicted = model.predict(x_test)\n",
    "    print(f\"{n} auc: {roc_auc_score(y_test, predicted)}\")\n",
    "\n",
    "meta = XGBClassifier(n_estimators=40)\n",
    "meta_model = meta.fit(meta_mtrx, valid_true)\n",
    "\n",
    "meta_mtrx_test = np.empty((x_test.shape[0], len(models)))\n",
    "\n",
    "for n, model in enumerate(models):\n",
    "    meta_mtrx_test[:,n] = model.predict(x_test)\n",
    "\n",
    "meta_predict = meta.predict(meta_mtrx_test)\n",
    "print(f\"Blending AUC: {roc_auc_score(y_test, meta_predict)}\")"
   ]
  },
  {
   "cell_type": "code",
   "execution_count": null,
   "id": "cf703113-24ba-4826-ac67-8cd05eef751b",
   "metadata": {},
   "outputs": [],
   "source": []
  }
 ],
 "metadata": {
  "kernelspec": {
   "display_name": "Python 3 (ipykernel)",
   "language": "python",
   "name": "python3"
  },
  "language_info": {
   "codemirror_mode": {
    "name": "ipython",
    "version": 3
   },
   "file_extension": ".py",
   "mimetype": "text/x-python",
   "name": "python",
   "nbconvert_exporter": "python",
   "pygments_lexer": "ipython3",
   "version": "3.12.2"
  }
 },
 "nbformat": 4,
 "nbformat_minor": 5
}
