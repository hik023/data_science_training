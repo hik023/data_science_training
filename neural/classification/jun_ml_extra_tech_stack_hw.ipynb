{
 "cells": [
  {
   "cell_type": "markdown",
   "metadata": {
    "id": "YTnbWDwjNqBj"
   },
   "source": [
    "# Stacking\n",
    "\n",
    "Несмотря на то, что в открытом доступе существует довольно много реализаций стекинга, некоторые из которых даже представлены в виде библиотечных функций, лучше сделать собственную. Стекинг - не классический алгоритм решения задачи, а скорее набор правил для помощи в решении задачи другим алгоритмам. Если вы серьезно займетесь машинным обучением, рано или поздно вам скорее всего захочется что-нибудь поменять в этом наборе правил, поэтому собственная реализация с понятным вам кодом будет как нельзя кстати."
   ]
  },
  {
   "cell_type": "markdown",
   "metadata": {
    "id": "F0AKW53hNqBk"
   },
   "source": [
    "В этом домашнем задании вы создадите собственную функцию для блендинга/классического стекинга моделей, которая пригодится вам в дальнейшем.\n",
    "\n",
    "Ниже вы увидите заготовку для функции, где:\n",
    "\n",
    "- models - список объектов базовых алгоритмов\n",
    "\n",
    "- meta_alg - мета-алгоритм\n",
    "\n",
    "data_train, targets_train, data_test, targets_test - тренировочные и тестовые признаки и целевые переменные\n",
    "\n",
    "- test_size - размер тестовых данных для блендинга в промежутке (0, 1)\n",
    "\n",
    "- cv - количество разбиений для кросс-валидации"
   ]
  },
  {
   "cell_type": "code",
   "execution_count": 1,
   "metadata": {
    "id": "vVIUJhUMNqBl"
   },
   "outputs": [],
   "source": [
    "from sklearn.model_selection import cross_val_predict\n",
    "from sklearn.model_selection import StratifiedKFold\n",
    "from sklearn.model_selection import train_test_split\n",
    "from sklearn.metrics import roc_auc_score\n",
    "\n",
    "import pandas as pd\n",
    "import numpy as np\n",
    "\n",
    "import warnings\n",
    "warnings.filterwarnings('ignore')"
   ]
  },
  {
   "cell_type": "code",
   "execution_count": 2,
   "metadata": {
    "id": "BDRkf96PNqBo"
   },
   "outputs": [],
   "source": [
    "def stacking(models, meta_alg, data_train, targets_train, data_test, targets_test=None, test_size=None, cv=5):\n",
    "    pass"
   ]
  },
  {
   "cell_type": "markdown",
   "metadata": {
    "id": "qMaQZPnxNqBr"
   },
   "source": [
    "### 1.\n",
    "В следующей ячейке в теле функции определен условный оператор if-else. После elif вместо pass пропишите код из лекции с некоторыми новыми вставками в таком порядке: деление data_train и targets_train на тренировочные и валидационные данные с помощью функции train_test_split, где test_size=test_size из определения функции; определение матрицы meta_mtrx; цикл, в котором заполняется meta_mtrx: сначала строка, где модель обучается с помощью метода fit на тренировочных данных из разбиения, затем строка, где матрица заполняется значениями предсказаний моделей на валидационных данных. На этом цикл заканчивается.\n",
    "\n",
    "После цикла добавьте строку с методом fit мета-алгоритма: обучите его на значениях полученной матрицы meta_mtrx и целевой переменной для валидационных данных.\n",
    "\n",
    "Определите матрицу meta_mtrx_test. Напишите цикл, где эта матрица заполняется предсказаниями базовых моделей на тестовых данных data_test.\n",
    "\n",
    "После цикла сделайте предсказания мета-алгоритма для значений матрицы meta_mtrx_test.\n",
    "\n",
    "Дополните код еще одним оператором if, который будет проверять, существуют ли данные targets_test для проверки качества работы модели на тестовых данных: если targets_test не является None, тогда выведите метрику roc_auc_score для предсказаний мета-алгоритма на тестовых данных."
   ]
  },
  {
   "cell_type": "code",
   "execution_count": 87,
   "metadata": {
    "id": "u0dJcqB5NqBr"
   },
   "outputs": [],
   "source": [
    "def blending(models, meta_alg, data_train, targets_train, data_test, targets_test=None, random_state=None, test_size=None, cv=5):\n",
    "    if test_size is None:\n",
    "        pass\n",
    "\n",
    "    elif test_size > 0 and test_size < 1:\n",
    "        train, valid, train_true, valid_true = train_test_split(data_train, targets_train, test_size=test_size, random_state=random_state)\n",
    "        meta_mtrx = np.empty((valid.shape[0], len(models)))\n",
    "\n",
    "        for n, model in enumerate(models):\n",
    "            model_fitted = model.fit(train, train_true)\n",
    "            meta_mtrx[:, n] = model_fitted.predict(valid)\n",
    "\n",
    "        meta_model = meta_alg.fit(meta_mtrx, valid_true)\n",
    "\n",
    "        meta_mtrx_test = np.empty((data_test.shape[0], len(models)))\n",
    "        \n",
    "        for n, model in enumerate(models):\n",
    "            meta_mtrx_test[:,n] = model.predict(data_test)\n",
    "\n",
    "        meta_predict = meta_model.predict(meta_mtrx_test)\n",
    "\n",
    "        if targets_test is not None:\n",
    "            print(f\"Blending AUC: {roc_auc_score(targets_test, meta_predict)}\")\n",
    "    \n",
    "    else:\n",
    "        raise ValueError(\"test_size must be between 0 and 1\")"
   ]
  },
  {
   "cell_type": "markdown",
   "metadata": {
    "id": "VZ7ssAZ-NqBu"
   },
   "source": [
    "### 2.\n",
    "Теперь напишите код стекинга вместо pass после оператора if.\n",
    "\n",
    "Сразу определите матрицу meta_mtrx. Напишите цикл для заполнения матрицы: сначала напишите строку, где каждый столбец метапризнаков (для каждой модели) заполняется с помощью функции cross_val_predict(base_algotithm, data_train, targets_train, cv, method='predict'); следующая строка - обучите каждый базовый алгоритм на полном тренировочном датасете.\n",
    "\n",
    "После цикла обучите мета-алгоритм на матрице метапризнаков meta_mtrx. Определите матрицу meta_mtrx_test.\n",
    "\n",
    "Напишите второй цикл, где матрица meta_mtrx_test заполняется предсказаниями базовых моделей на тестовых данных data_test.\n",
    "\n",
    "После цикла сделайте предсказания мета-алгоритма для значений матрицы meta_mtrx_test.\n",
    "\n",
    "Так же, как и для блендинга, напишите код проверки для targets_test и выведите roc_auc_score, если это возможно."
   ]
  },
  {
   "cell_type": "code",
   "execution_count": 88,
   "metadata": {
    "id": "1aYbDelYNqBu"
   },
   "outputs": [],
   "source": [
    "def train_test_for_stacking(data, targets, folds_count, test_fold_num):\n",
    "    part_size = data.shape[0] // folds_count\n",
    "    if test_fold_num == folds_count - 1:\n",
    "        return (\n",
    "            data[:part_size*test_fold_num],\n",
    "            data[part_size*test_fold_num:],\n",
    "            targets[:part_size*test_fold_num],\n",
    "            targets[part_size*test_fold_num:],\n",
    "        )\n",
    "    return (\n",
    "        np.append(data[:part_size*test_fold_num], data[part_size*(test_fold_num + 1):]).reshape(-1, data.shape[1]),\n",
    "        data[part_size*test_fold_num:part_size*(test_fold_num + 1)],\n",
    "        np.append(targets[:part_size*test_fold_num], targets[part_size*(test_fold_num + 1):]).reshape(-1, 1),\n",
    "        targets[part_size*test_fold_num:part_size*(test_fold_num + 1)],\n",
    "    )\n",
    "    \n",
    "\n",
    "def stacking(models, meta_alg, data_train, targets_train, data_test, targets_test=None, random_state=None, folds_num=3):\n",
    "    if folds_num <= 1:\n",
    "        raise ValueError(\"folds_num must be greater than 1\")\n",
    "    meta_mtrx_parts = []\n",
    "    for fold_ind in range(folds_num):\n",
    "        train, valid, train_true, valid_true = train_test_for_stacking(data_train, targets_train, folds_num, fold_ind)\n",
    "        \n",
    "        meta_mtrx_part = np.empty((valid.shape[0], len(models)))\n",
    "\n",
    "        for n, model in enumerate(models):\n",
    "            model_fitted = model.fit(train, train_true)\n",
    "            meta_mtrx_part[:, n] = model_fitted.predict(valid)\n",
    "\n",
    "        meta_mtrx_parts.append(meta_mtrx_part)\n",
    "\n",
    "    meta_mtrx = np.vstack(meta_mtrx_parts)\n",
    "    \n",
    "    print(meta_mtrx.shape, targets_train.shape)\n",
    "    meta_model = meta_alg.fit(meta_mtrx, targets_train)\n",
    "\n",
    "    meta_mtrx_test = np.empty((data_test.shape[0], len(models)))\n",
    "    \n",
    "    for n, model in enumerate(models):\n",
    "        meta_mtrx_test[:,n] = model.predict(data_test)\n",
    "\n",
    "    meta_predict = meta_model.predict(meta_mtrx_test)\n",
    "\n",
    "    if targets_test is not None:\n",
    "        print(f\"Stacking AUC: {roc_auc_score(targets_test, meta_predict)}\")\n"
   ]
  },
  {
   "cell_type": "markdown",
   "metadata": {
    "id": "ktP_ZympNqBx"
   },
   "source": [
    "### 3.\n",
    "Базовая функция стекинга готова. Теперь проверим, как она работает. Ниже представлен уже знакомый нам датасет Titanic, разделенный на тренировочный и тестовый датасеты; предопределенные базовые алгоритмы и мета-алгоритм. Ваша задача - составить список базовых алгоритмов и запустить функцию в трех различных вариантах (при этом в каждом из них все значения data_train, targets_train, data_test, targets_test должны быть определены):\n",
    "\n",
    "1. Вызвать исключение \"test_size must be between 0 and 1\".\n",
    "\n",
    "2. Установить test_size=0.3; вывести AUC и массив полученных предсказаний.\n",
    "\n",
    "3. Оставить test_size=None; вывести AUC и массив полученных предсказаний."
   ]
  },
  {
   "cell_type": "code",
   "execution_count": 89,
   "metadata": {
    "id": "2kJT4LjRNqBx"
   },
   "outputs": [],
   "source": [
    "from sklearn.neighbors import KNeighborsClassifier\n",
    "from sklearn.linear_model import LogisticRegression\n",
    "from sklearn.svm import SVC\n",
    "from xgboost import XGBClassifier\n",
    "\n",
    "\n",
    "titanic = pd.read_csv('../metrics/titanic/cleaned.csv')\n",
    "targets = titanic.Survived\n",
    "data = titanic.drop(columns='Survived')\n",
    "\n",
    "x_train, x_test, y_train, y_test = train_test_split(data,\n",
    "                                                    targets,\n",
    "                                                    train_size=0.8,\n",
    "                                                    random_state=17)\n",
    "\n",
    "knn = KNeighborsClassifier(n_neighbors=3)\n",
    "lr = LogisticRegression(random_state=17)\n",
    "svc = SVC(random_state=17)\n",
    "\n",
    "meta = XGBClassifier(n_estimators=40)"
   ]
  },
  {
   "cell_type": "code",
   "execution_count": 90,
   "metadata": {},
   "outputs": [],
   "source": [
    "models = [knn, lr, svc]"
   ]
  },
  {
   "cell_type": "code",
   "execution_count": 91,
   "metadata": {},
   "outputs": [
    {
     "name": "stdout",
     "output_type": "stream",
     "text": [
      "(712, 7) (179, 7) (712,) (179,)\n"
     ]
    }
   ],
   "source": [
    "print(x_train.shape, x_test.shape, y_train.shape, y_test.shape)"
   ]
  },
  {
   "cell_type": "code",
   "execution_count": 92,
   "metadata": {
    "id": "qbHZDCAiNqB0"
   },
   "outputs": [
    {
     "name": "stdout",
     "output_type": "stream",
     "text": [
      "Blending AUC: 0.6800852933574567\n"
     ]
    }
   ],
   "source": [
    "blending(models, meta, x_train, y_train, x_test, y_test, random_state=17, test_size=0.2)"
   ]
  },
  {
   "cell_type": "code",
   "execution_count": 93,
   "metadata": {},
   "outputs": [
    {
     "name": "stdout",
     "output_type": "stream",
     "text": [
      "(712, 3) (712,)\n",
      "Stacking AUC: 0.76699405531145\n"
     ]
    }
   ],
   "source": [
    "stacking(models, meta, x_train, y_train, x_test, y_test, random_state=17, folds_num=3)"
   ]
  },
  {
   "cell_type": "markdown",
   "metadata": {
    "id": "QT9CNfbBNqB2"
   },
   "source": [
    "По мере того, как вы будете использовать эту функцию, вам могут пригодиться такие дополнительные параметры как: random_state, который позволит делать воспроизводимые модели; metrics - список метрик, которые могут быть вычислены; grid_search, который может производить поиск лучших параметров для алгоритмов, и т.д."
   ]
  }
 ],
 "metadata": {
  "colab": {
   "provenance": []
  },
  "kernelspec": {
   "display_name": "Python 3 (ipykernel)",
   "language": "python",
   "name": "python3"
  },
  "language_info": {
   "codemirror_mode": {
    "name": "ipython",
    "version": 3
   },
   "file_extension": ".py",
   "mimetype": "text/x-python",
   "name": "python",
   "nbconvert_exporter": "python",
   "pygments_lexer": "ipython3",
   "version": "3.12.2"
  }
 },
 "nbformat": 4,
 "nbformat_minor": 4
}
