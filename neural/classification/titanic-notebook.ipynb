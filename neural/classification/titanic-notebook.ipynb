{
 "cells": [
  {
   "cell_type": "markdown",
   "metadata": {
    "id": "pxO3HAEKXbaD"
   },
   "source": [
    "# Kaggle\n",
    "\n",
    "В этом домашнем задании вам нужно будет построить модель для данных соревнования [Titanic на Kaggle](https://www.kaggle.com/c/titanic/overview), сформировать файл с предсказаниями для тестовых данных и отправить его на проверку.\n",
    "\n",
    "В практике из урока вашим заданием было разобрать одно из самых популярных ядер для соревнования Titanic и преобразовать его таким образом, чтобы остались только преобразование данных и графики.\n",
    "\n",
    "Соответственно, сейчас ваше ядро должно выглядеть таким образом:"
   ]
  },
  {
   "cell_type": "code",
   "execution_count": 9,
   "metadata": {
    "execution": {
     "iopub.execute_input": "2024-04-24T13:31:56.459300Z",
     "iopub.status.busy": "2024-04-24T13:31:56.458276Z",
     "iopub.status.idle": "2024-04-24T13:31:56.471262Z",
     "shell.execute_reply": "2024-04-24T13:31:56.470217Z",
     "shell.execute_reply.started": "2024-04-24T13:31:56.459206Z"
    },
    "id": "LX1TF3s4XbaK"
   },
   "outputs": [],
   "source": [
    "import pandas as pd\n",
    "import re\n",
    "import numpy as np\n",
    "\n",
    "import seaborn as sns\n",
    "import matplotlib.pyplot as plt\n",
    "%matplotlib inline\n",
    "\n",
    "import warnings\n",
    "warnings.filterwarnings('ignore')"
   ]
  },
  {
   "cell_type": "code",
   "execution_count": 10,
   "metadata": {
    "execution": {
     "iopub.execute_input": "2024-04-24T13:31:56.474285Z",
     "iopub.status.busy": "2024-04-24T13:31:56.473539Z",
     "iopub.status.idle": "2024-04-24T13:31:56.516001Z",
     "shell.execute_reply": "2024-04-24T13:31:56.514784Z",
     "shell.execute_reply.started": "2024-04-24T13:31:56.474207Z"
    },
    "id": "rDjGyaytXbaZ",
    "outputId": "023f27a4-9cb6-4817-ed12-5464062f5116"
   },
   "outputs": [
    {
     "data": {
      "text/html": [
       "<div>\n",
       "<style scoped>\n",
       "    .dataframe tbody tr th:only-of-type {\n",
       "        vertical-align: middle;\n",
       "    }\n",
       "\n",
       "    .dataframe tbody tr th {\n",
       "        vertical-align: top;\n",
       "    }\n",
       "\n",
       "    .dataframe thead th {\n",
       "        text-align: right;\n",
       "    }\n",
       "</style>\n",
       "<table border=\"1\" class=\"dataframe\">\n",
       "  <thead>\n",
       "    <tr style=\"text-align: right;\">\n",
       "      <th></th>\n",
       "      <th>PassengerId</th>\n",
       "      <th>Survived</th>\n",
       "      <th>Pclass</th>\n",
       "      <th>Name</th>\n",
       "      <th>Sex</th>\n",
       "      <th>Age</th>\n",
       "      <th>SibSp</th>\n",
       "      <th>Parch</th>\n",
       "      <th>Ticket</th>\n",
       "      <th>Fare</th>\n",
       "      <th>Cabin</th>\n",
       "      <th>Embarked</th>\n",
       "    </tr>\n",
       "  </thead>\n",
       "  <tbody>\n",
       "    <tr>\n",
       "      <td>0</td>\n",
       "      <td>1</td>\n",
       "      <td>0</td>\n",
       "      <td>3</td>\n",
       "      <td>Braund, Mr. Owen Harris</td>\n",
       "      <td>male</td>\n",
       "      <td>22.0</td>\n",
       "      <td>1</td>\n",
       "      <td>0</td>\n",
       "      <td>A/5 21171</td>\n",
       "      <td>7.2500</td>\n",
       "      <td>NaN</td>\n",
       "      <td>S</td>\n",
       "    </tr>\n",
       "    <tr>\n",
       "      <td>1</td>\n",
       "      <td>2</td>\n",
       "      <td>1</td>\n",
       "      <td>1</td>\n",
       "      <td>Cumings, Mrs. John Bradley (Florence Briggs Th...</td>\n",
       "      <td>female</td>\n",
       "      <td>38.0</td>\n",
       "      <td>1</td>\n",
       "      <td>0</td>\n",
       "      <td>PC 17599</td>\n",
       "      <td>71.2833</td>\n",
       "      <td>C85</td>\n",
       "      <td>C</td>\n",
       "    </tr>\n",
       "    <tr>\n",
       "      <td>2</td>\n",
       "      <td>3</td>\n",
       "      <td>1</td>\n",
       "      <td>3</td>\n",
       "      <td>Heikkinen, Miss. Laina</td>\n",
       "      <td>female</td>\n",
       "      <td>26.0</td>\n",
       "      <td>0</td>\n",
       "      <td>0</td>\n",
       "      <td>STON/O2. 3101282</td>\n",
       "      <td>7.9250</td>\n",
       "      <td>NaN</td>\n",
       "      <td>S</td>\n",
       "    </tr>\n",
       "  </tbody>\n",
       "</table>\n",
       "</div>"
      ],
      "text/plain": [
       "   PassengerId  Survived  Pclass  \\\n",
       "0            1         0       3   \n",
       "1            2         1       1   \n",
       "2            3         1       3   \n",
       "\n",
       "                                                Name     Sex   Age  SibSp  \\\n",
       "0                            Braund, Mr. Owen Harris    male  22.0      1   \n",
       "1  Cumings, Mrs. John Bradley (Florence Briggs Th...  female  38.0      1   \n",
       "2                             Heikkinen, Miss. Laina  female  26.0      0   \n",
       "\n",
       "   Parch            Ticket     Fare Cabin Embarked  \n",
       "0      0         A/5 21171   7.2500   NaN        S  \n",
       "1      0          PC 17599  71.2833   C85        C  \n",
       "2      0  STON/O2. 3101282   7.9250   NaN        S  "
      ]
     },
     "execution_count": 10,
     "metadata": {},
     "output_type": "execute_result"
    }
   ],
   "source": [
    "# Load in the train and test datasets\n",
    "train = pd.read_csv('/kaggle/input/titanic/train.csv')\n",
    "test = pd.read_csv('/kaggle/input/titanic/test.csv')\n",
    "\n",
    "# Store our passenger ID for easy access\n",
    "PassengerId = test['PassengerId']\n",
    "\n",
    "train.head(3)"
   ]
  },
  {
   "cell_type": "code",
   "execution_count": 11,
   "metadata": {
    "execution": {
     "iopub.execute_input": "2024-04-24T13:31:56.518807Z",
     "iopub.status.busy": "2024-04-24T13:31:56.518125Z",
     "iopub.status.idle": "2024-04-24T13:31:56.668494Z",
     "shell.execute_reply": "2024-04-24T13:31:56.667369Z",
     "shell.execute_reply.started": "2024-04-24T13:31:56.518734Z"
    },
    "id": "g2dvsncuXban"
   },
   "outputs": [],
   "source": [
    "full_data = [train, test]\n",
    "\n",
    "# Gives the length of the name\n",
    "train['Name_length'] = train['Name'].apply(len)\n",
    "test['Name_length'] = test['Name'].apply(len)\n",
    "# Feature that tells whether a passenger had a cabin on the Titanic\n",
    "train['Has_Cabin'] = train[\"Cabin\"].apply(lambda x: 0 if type(x) == float else 1)\n",
    "test['Has_Cabin'] = test[\"Cabin\"].apply(lambda x: 0 if type(x) == float else 1)\n",
    "\n",
    "# Create new feature FamilySize as a combination of SibSp and Parch\n",
    "for dataset in full_data:\n",
    "    dataset['FamilySize'] = dataset['SibSp'] + dataset['Parch'] + 1\n",
    "# Create new feature IsAlone from FamilySize\n",
    "for dataset in full_data:\n",
    "    dataset['IsAlone'] = 0\n",
    "    dataset.loc[dataset['FamilySize'] == 1, 'IsAlone'] = 1\n",
    "# Remove all NULLS in the Embarked column\n",
    "for dataset in full_data:\n",
    "    dataset['Embarked'] = dataset['Embarked'].fillna('S')\n",
    "# Remove all NULLS in the Fare column and create a new feature CategoricalFare\n",
    "for dataset in full_data:\n",
    "    dataset['Fare'] = dataset['Fare'].fillna(train['Fare'].median())\n",
    "train['CategoricalFare'] = pd.qcut(train['Fare'], 4)\n",
    "# Create a New feature CategoricalAge\n",
    "for dataset in full_data:\n",
    "    age_avg = dataset['Age'].mean()\n",
    "    age_std = dataset['Age'].std()\n",
    "    age_null_count = dataset['Age'].isnull().sum()\n",
    "    age_null_random_list = np.random.randint(age_avg - age_std, age_avg + age_std, size=age_null_count)\n",
    "    dataset['Age'][np.isnan(dataset['Age'])] = age_null_random_list\n",
    "    dataset['Age'] = dataset['Age'].astype(int)\n",
    "train['CategoricalAge'] = pd.cut(train['Age'], 5)\n",
    "# Define function to extract titles from passenger names\n",
    "def get_title(name):\n",
    "    title_search = re.search(' ([A-Za-z]+)\\.', name)\n",
    "    # If the title exists, extract and return it.\n",
    "    if title_search:\n",
    "        return title_search.group(1)\n",
    "    return \"\"\n",
    "# Create a new feature Title, containing the titles of passenger names\n",
    "for dataset in full_data:\n",
    "    dataset['Title'] = dataset['Name'].apply(get_title)\n",
    "# Group all non-common titles into one single grouping \"Rare\"\n",
    "for dataset in full_data:\n",
    "    dataset['Title'] = dataset['Title'].replace(['Lady', 'Countess','Capt', 'Col','Don', 'Dr', 'Major', 'Rev', 'Sir', 'Jonkheer', 'Dona'], 'Rare')\n",
    "\n",
    "    dataset['Title'] = dataset['Title'].replace('Mlle', 'Miss')\n",
    "    dataset['Title'] = dataset['Title'].replace('Ms', 'Miss')\n",
    "    dataset['Title'] = dataset['Title'].replace('Mme', 'Mrs')\n",
    "\n",
    "for dataset in full_data:\n",
    "    # Mapping Sex\n",
    "    dataset['Sex'] = dataset['Sex'].map( {'female': 0, 'male': 1} ).astype(int)\n",
    "\n",
    "    # Mapping titles\n",
    "    title_mapping = {\"Mr\": 1, \"Miss\": 2, \"Mrs\": 3, \"Master\": 4, \"Rare\": 5}\n",
    "    dataset['Title'] = dataset['Title'].map(title_mapping)\n",
    "    dataset['Title'] = dataset['Title'].fillna(0)\n",
    "\n",
    "    # Mapping Embarked\n",
    "    dataset['Embarked'] = dataset['Embarked'].map( {'S': 0, 'C': 1, 'Q': 2} ).astype(int)\n",
    "\n",
    "    # Mapping Fare\n",
    "    dataset.loc[ dataset['Fare'] <= 7.91, 'Fare'] = 0\n",
    "    dataset.loc[(dataset['Fare'] > 7.91) & (dataset['Fare'] <= 14.454), 'Fare'] = 1\n",
    "    dataset.loc[(dataset['Fare'] > 14.454) & (dataset['Fare'] <= 31), 'Fare']   = 2\n",
    "    dataset.loc[ dataset['Fare'] > 31, 'Fare'] = 3\n",
    "    dataset['Fare'] = dataset['Fare'].astype(int)\n",
    "\n",
    "    # Mapping Age\n",
    "    dataset.loc[ dataset['Age'] <= 16, 'Age'] \t\t\t\t\t       = 0\n",
    "    dataset.loc[(dataset['Age'] > 16) & (dataset['Age'] <= 32), 'Age'] = 1\n",
    "    dataset.loc[(dataset['Age'] > 32) & (dataset['Age'] <= 48), 'Age'] = 2\n",
    "    dataset.loc[(dataset['Age'] > 48) & (dataset['Age'] <= 64), 'Age'] = 3\n",
    "    dataset.loc[ dataset['Age'] > 64, 'Age'] = 4"
   ]
  },
  {
   "cell_type": "code",
   "execution_count": 12,
   "metadata": {
    "execution": {
     "iopub.execute_input": "2024-04-24T13:31:56.671973Z",
     "iopub.status.busy": "2024-04-24T13:31:56.671133Z",
     "iopub.status.idle": "2024-04-24T13:31:56.684725Z",
     "shell.execute_reply": "2024-04-24T13:31:56.683188Z",
     "shell.execute_reply.started": "2024-04-24T13:31:56.671878Z"
    },
    "id": "6BA6Gkj-Xba0"
   },
   "outputs": [],
   "source": [
    "# Feature selection\n",
    "drop_elements = ['PassengerId', 'Name', 'Ticket', 'Cabin', 'SibSp']\n",
    "train = train.drop(drop_elements, axis = 1)\n",
    "train = train.drop(['CategoricalAge', 'CategoricalFare'], axis = 1)\n",
    "test  = test.drop(drop_elements, axis = 1)"
   ]
  },
  {
   "cell_type": "code",
   "execution_count": 13,
   "metadata": {
    "execution": {
     "iopub.execute_input": "2024-04-24T13:31:56.689803Z",
     "iopub.status.busy": "2024-04-24T13:31:56.689099Z",
     "iopub.status.idle": "2024-04-24T13:31:56.708891Z",
     "shell.execute_reply": "2024-04-24T13:31:56.707903Z",
     "shell.execute_reply.started": "2024-04-24T13:31:56.689542Z"
    },
    "id": "I2DXDDnCXba8",
    "outputId": "c3223475-827e-4e1b-a029-844306793f13"
   },
   "outputs": [
    {
     "data": {
      "text/html": [
       "<div>\n",
       "<style scoped>\n",
       "    .dataframe tbody tr th:only-of-type {\n",
       "        vertical-align: middle;\n",
       "    }\n",
       "\n",
       "    .dataframe tbody tr th {\n",
       "        vertical-align: top;\n",
       "    }\n",
       "\n",
       "    .dataframe thead th {\n",
       "        text-align: right;\n",
       "    }\n",
       "</style>\n",
       "<table border=\"1\" class=\"dataframe\">\n",
       "  <thead>\n",
       "    <tr style=\"text-align: right;\">\n",
       "      <th></th>\n",
       "      <th>Survived</th>\n",
       "      <th>Pclass</th>\n",
       "      <th>Sex</th>\n",
       "      <th>Age</th>\n",
       "      <th>Parch</th>\n",
       "      <th>Fare</th>\n",
       "      <th>Embarked</th>\n",
       "      <th>Name_length</th>\n",
       "      <th>Has_Cabin</th>\n",
       "      <th>FamilySize</th>\n",
       "      <th>IsAlone</th>\n",
       "      <th>Title</th>\n",
       "    </tr>\n",
       "  </thead>\n",
       "  <tbody>\n",
       "    <tr>\n",
       "      <td>0</td>\n",
       "      <td>0</td>\n",
       "      <td>3</td>\n",
       "      <td>1</td>\n",
       "      <td>1</td>\n",
       "      <td>0</td>\n",
       "      <td>0</td>\n",
       "      <td>0</td>\n",
       "      <td>23</td>\n",
       "      <td>0</td>\n",
       "      <td>2</td>\n",
       "      <td>0</td>\n",
       "      <td>1</td>\n",
       "    </tr>\n",
       "    <tr>\n",
       "      <td>1</td>\n",
       "      <td>1</td>\n",
       "      <td>1</td>\n",
       "      <td>0</td>\n",
       "      <td>2</td>\n",
       "      <td>0</td>\n",
       "      <td>3</td>\n",
       "      <td>1</td>\n",
       "      <td>51</td>\n",
       "      <td>1</td>\n",
       "      <td>2</td>\n",
       "      <td>0</td>\n",
       "      <td>3</td>\n",
       "    </tr>\n",
       "    <tr>\n",
       "      <td>2</td>\n",
       "      <td>1</td>\n",
       "      <td>3</td>\n",
       "      <td>0</td>\n",
       "      <td>1</td>\n",
       "      <td>0</td>\n",
       "      <td>1</td>\n",
       "      <td>0</td>\n",
       "      <td>22</td>\n",
       "      <td>0</td>\n",
       "      <td>1</td>\n",
       "      <td>1</td>\n",
       "      <td>2</td>\n",
       "    </tr>\n",
       "  </tbody>\n",
       "</table>\n",
       "</div>"
      ],
      "text/plain": [
       "   Survived  Pclass  Sex  Age  Parch  Fare  Embarked  Name_length  Has_Cabin  \\\n",
       "0         0       3    1    1      0     0         0           23          0   \n",
       "1         1       1    0    2      0     3         1           51          1   \n",
       "2         1       3    0    1      0     1         0           22          0   \n",
       "\n",
       "   FamilySize  IsAlone  Title  \n",
       "0           2        0      1  \n",
       "1           2        0      3  \n",
       "2           1        1      2  "
      ]
     },
     "execution_count": 13,
     "metadata": {},
     "output_type": "execute_result"
    }
   ],
   "source": [
    "train.head(3)"
   ]
  },
  {
   "cell_type": "raw",
   "metadata": {},
   "source": []
  },
  {
   "cell_type": "code",
   "execution_count": 14,
   "metadata": {
    "execution": {
     "iopub.execute_input": "2024-04-24T13:31:56.712817Z",
     "iopub.status.busy": "2024-04-24T13:31:56.712081Z",
     "iopub.status.idle": "2024-04-24T13:31:57.750617Z",
     "shell.execute_reply": "2024-04-24T13:31:57.749457Z",
     "shell.execute_reply.started": "2024-04-24T13:31:56.712726Z"
    },
    "id": "Jtrbw694XbbG",
    "outputId": "4cc29f9e-1332-473b-8bb9-f7d32965360c"
   },
   "outputs": [
    {
     "data": {
      "text/plain": [
       "<matplotlib.axes._subplots.AxesSubplot at 0x7872c9ddbba8>"
      ]
     },
     "execution_count": 14,
     "metadata": {},
     "output_type": "execute_result"
    },
    {
     "data": {
      "image/png": "[encoded data removed]",
      "text/plain": [
       "<Figure size 1008x864 with 2 Axes>"
      ]
     },
     "metadata": {
      "needs_background": "light"
     },
     "output_type": "display_data"
    }
   ],
   "source": [
    "colormap = plt.cm.RdBu\n",
    "plt.figure(figsize=(14,12))\n",
    "plt.title('Pearson Correlation of Features', y=1.05, size=15)\n",
    "sns.heatmap(train.astype(float).corr(),linewidths=0.1,vmax=1.0,\n",
    "            square=True, cmap=colormap, linecolor='white', annot=True)"
   ]
  },
  {
   "cell_type": "code",
   "execution_count": 15,
   "metadata": {
    "execution": {
     "iopub.execute_input": "2024-04-24T13:31:57.752731Z",
     "iopub.status.busy": "2024-04-24T13:31:57.752325Z",
     "iopub.status.idle": "2024-04-24T13:32:12.080112Z",
     "shell.execute_reply": "2024-04-24T13:32:12.079084Z",
     "shell.execute_reply.started": "2024-04-24T13:31:57.752657Z"
    },
    "id": "cLcwBZRXXbbR",
    "outputId": "ea2c24a0-1b63-4426-a533-57adb83eb9be"
   },
   "outputs": [
    {
     "data": {
      "text/plain": [
       "<seaborn.axisgrid.PairGrid at 0x7872c799b320>"
      ]
     },
     "execution_count": 15,
     "metadata": {},
     "output_type": "execute_result"
    },
    {
     "data": {
      "image/png": "[encoded data removed]",
      "text/plain": [
       "<Figure size 829.475x777.6 with 90 Axes>"
      ]
     },
     "metadata": {
      "needs_background": "light"
     },
     "output_type": "display_data"
    }
   ],
   "source": [
    "g = sns.pairplot(train[[u'Survived', u'Pclass', u'Sex', u'Age', u'Parch', u'Fare',\n",
    "                        u'Embarked', u'FamilySize', u'Title']],\n",
    "                 hue='Survived', palette = 'seismic', size=1.2, plot_kws=dict(s=10))\n",
    "g.set(xticklabels=[])"
   ]
  },
  {
   "cell_type": "markdown",
   "metadata": {
    "id": "betqXe7KXbbb"
   },
   "source": [
    "Итак, у нас получились два датасета с новыми признаками. Теперь приступим к построению модели.\n",
    "\n",
    "### Построение модели\n",
    "\n",
    "### 1.\n",
    "\n",
    "Воспользуйтесь вашим алгоритмом стекинга из предыдущего домашнего задания. В качестве базовых алгоритмов используйте RandomForestClassifier, SVC, GradientBoostingClassifier и LogisticRegression; в качестве мета-алгоритма - XGBoost.\n",
    "\n",
    "Разделите данные train на тренировочную и валидационную выборки с random_state=17 и параметром разбиения test_size=.3 (в качестве целевой переменной возьмите столбец Survived, а в качестве признаков - все остальные столбцы).\n",
    "\n",
    "Ниже приведены параметры для каждого из базовых алгоритмов, которые необходимо настроить на 5-кратной кросс-валидации с помощью GridSearchCV:"
   ]
  },
  {
   "cell_type": "code",
   "execution_count": 16,
   "metadata": {
    "execution": {
     "iopub.execute_input": "2024-04-24T13:32:12.081956Z",
     "iopub.status.busy": "2024-04-24T13:32:12.081591Z",
     "iopub.status.idle": "2024-04-24T13:32:13.164053Z",
     "shell.execute_reply": "2024-04-24T13:32:13.162692Z",
     "shell.execute_reply.started": "2024-04-24T13:32:12.081875Z"
    },
    "id": "_u1wEHlnXbbe"
   },
   "outputs": [],
   "source": [
    "from sklearn.model_selection import (GridSearchCV,\n",
    "                                     train_test_split,\n",
    "                                     StratifiedKFold)\n",
    "\n",
    "from sklearn.ensemble import GradientBoostingClassifier, RandomForestClassifier\n",
    "from sklearn.svm import SVC\n",
    "from sklearn.linear_model import LogisticRegression\n",
    "\n",
    "from xgboost import XGBClassifier\n",
    "\n",
    "# параметры базовых алгоритмов\n",
    "gbc_params = {'learning_rate': np.arange(0.1, 0.6, 0.1)} # GradientBoostingClassifier\n",
    "\n",
    "rfc_params = {'n_estimators': range(10, 100, 10), # RandomForestClassifier\n",
    "              'min_samples_leaf': range(1, 5)}\n",
    "\n",
    "svc_params = {'kernel': ['linear', 'rbf'], # SVC\n",
    "              'C': np.arange(0.1, 1, 0.2)}\n",
    "\n",
    "lr_params = {'C': np.arange(0.5, 1, 0.1)}\n",
    "\n",
    "skf = StratifiedKFold(n_splits=5, random_state=17, shuffle=True)\n",
    "\n",
    "x_train, x_test, y_train, y_test = train_test_split(train.drop(\"Survived\", axis=1), train.Survived, test_size=.3, random_state=17)"
   ]
  },
  {
   "cell_type": "markdown",
   "metadata": {
    "id": "P-LUQKa9Xbbk"
   },
   "source": [
    "### 2.\n",
    "1. Определите объект GridSearchCV для всех приведенных параметров каждого алгоритма (в гиперпараметрах алгоритма при его определении, если возможно, укажите random_state=17). Параметр cv устанавливайте равным skf.\n",
    "\n",
    "2. Обучите каждый из объектов из 1-го пункта на получившейся при разбиении тренировочной выборке. Выведите лучшее сочетание параметров для каждого из алгоритмов.\n",
    "\n",
    "3. Для каждого обученного алгоритма получите предсказания на валидационных данных и выведите метрику качества, которая соответствует метрике оценки соревнования."
   ]
  },
  {
   "cell_type": "code",
   "execution_count": 17,
   "metadata": {
    "execution": {
     "iopub.execute_input": "2024-04-24T13:32:13.166260Z",
     "iopub.status.busy": "2024-04-24T13:32:13.165698Z",
     "iopub.status.idle": "2024-04-24T13:32:28.039129Z",
     "shell.execute_reply": "2024-04-24T13:32:28.038125Z",
     "shell.execute_reply.started": "2024-04-24T13:32:13.166042Z"
    },
    "id": "so002-PDXbbm"
   },
   "outputs": [
    {
     "name": "stdout",
     "output_type": "stream",
     "text": [
      "gbc best params:\n",
      "{'learning_rate': 0.1}\n",
      "rfc best params:\n",
      "{'min_samples_leaf': 2, 'n_estimators': 30}\n",
      "svc best params:\n",
      "{'C': 0.9000000000000001, 'kernel': 'rbf'}\n",
      "lr best params:\n",
      "{'C': 0.5}\n"
     ]
    }
   ],
   "source": [
    "tree_params = {'max_depth': range(1, 6),\n",
    "               'max_features': range(1, 10),\n",
    "              }\n",
    "gbc = GradientBoostingClassifier(random_state=17)\n",
    "gbc_grid = GridSearchCV(gbc, gbc_params, cv=skf)\n",
    "\n",
    "rfc = RandomForestClassifier(random_state=17)\n",
    "rfc_grid = GridSearchCV(rfc, rfc_params, cv=skf)\n",
    "\n",
    "svc = SVC(random_state=17)\n",
    "svc_grid = GridSearchCV(svc, svc_params, cv=skf)\n",
    "\n",
    "lr = LogisticRegression(random_state=17)\n",
    "lr_grid = GridSearchCV(lr, lr_params, cv=skf)\n",
    "\n",
    "models = [(\"gbc\", gbc_grid), (\"rfc\", rfc_grid), (\"svc\", svc_grid), (\"lr\", lr_grid)]\n",
    "for name, model in models:    \n",
    "    model.fit(x_train, y_train)\n",
    "    print(f\"{name} best params:\\n{model.best_params_}\")"
   ]
  },
  {
   "cell_type": "code",
   "execution_count": 18,
   "metadata": {
    "execution": {
     "iopub.execute_input": "2024-04-24T13:32:28.040688Z",
     "iopub.status.busy": "2024-04-24T13:32:28.040358Z",
     "iopub.status.idle": "2024-04-24T13:32:28.046150Z",
     "shell.execute_reply": "2024-04-24T13:32:28.044733Z",
     "shell.execute_reply.started": "2024-04-24T13:32:28.040630Z"
    }
   },
   "outputs": [],
   "source": [
    "from sklearn.metrics import accuracy_score"
   ]
  },
  {
   "cell_type": "code",
   "execution_count": 19,
   "metadata": {
    "execution": {
     "iopub.execute_input": "2024-04-24T13:32:28.048414Z",
     "iopub.status.busy": "2024-04-24T13:32:28.048010Z",
     "iopub.status.idle": "2024-04-24T13:32:28.079468Z",
     "shell.execute_reply": "2024-04-24T13:32:28.076000Z",
     "shell.execute_reply.started": "2024-04-24T13:32:28.048340Z"
    }
   },
   "outputs": [
    {
     "name": "stdout",
     "output_type": "stream",
     "text": [
      "gbc accuracy: 0.7611940298507462\n",
      "rfc accuracy: 0.7761194029850746\n",
      "svc accuracy: 0.7723880597014925\n",
      "lr accuracy: 0.7947761194029851\n"
     ]
    }
   ],
   "source": [
    "for name, model in models:\n",
    "    y_predict = model.predict(x_test)\n",
    "    print(f\"{name} accuracy: {accuracy_score(y_test, y_predict)}\")"
   ]
  },
  {
   "cell_type": "markdown",
   "metadata": {
    "id": "IrcXh11rXbbr"
   },
   "source": [
    "### 3.\n",
    "С помощью GridSearchCV и указанных ниже параметров настройте мета-алгоритм на мета-признаках (используйте 5-кратную валидацию и random_state=17 при определении алгоритма). Матрицу метапризнаков получите из предсказаний, полученных в предыдущем пункте на валидационных данных базовыми алгоритмами. Выведите лучшие параметры."
   ]
  },
  {
   "cell_type": "code",
   "execution_count": 29,
   "metadata": {
    "execution": {
     "iopub.execute_input": "2024-04-24T13:40:22.780028Z",
     "iopub.status.busy": "2024-04-24T13:40:22.779564Z",
     "iopub.status.idle": "2024-04-24T13:40:22.786347Z",
     "shell.execute_reply": "2024-04-24T13:40:22.784837Z",
     "shell.execute_reply.started": "2024-04-24T13:40:22.779957Z"
    },
    "id": "klDpMpPAXbbu"
   },
   "outputs": [],
   "source": [
    "xgb_params = {'n_estimators': range(10, 100, 10),\n",
    "              'eta': np.arange(0.1, 1., .2),\n",
    "              'min_child_weight': range(1, 10, 2),\n",
    "              'subsample': np.arange(0.1, 1., 0.2)}"
   ]
  },
  {
   "cell_type": "code",
   "execution_count": 21,
   "metadata": {
    "execution": {
     "iopub.execute_input": "2024-04-24T13:32:28.089185Z",
     "iopub.status.busy": "2024-04-24T13:32:28.088833Z",
     "iopub.status.idle": "2024-04-24T13:32:28.118760Z",
     "shell.execute_reply": "2024-04-24T13:32:28.117566Z",
     "shell.execute_reply.started": "2024-04-24T13:32:28.089125Z"
    },
    "id": "Aw3nUCsCXbb2"
   },
   "outputs": [
    {
     "data": {
      "text/plain": [
       "array([[0., 0., 0., 0.],\n",
       "       [1., 1., 1., 1.],\n",
       "       [0., 0., 0., 0.],\n",
       "       [0., 0., 0., 0.],\n",
       "       [1., 1., 1., 1.],\n",
       "       [0., 0., 0., 0.],\n",
       "       [0., 0., 0., 0.],\n",
       "       [0., 0., 0., 0.],\n",
       "       [0., 0., 0., 0.],\n",
       "       [0., 0., 1., 1.]])"
      ]
     },
     "execution_count": 21,
     "metadata": {},
     "output_type": "execute_result"
    }
   ],
   "source": [
    "meta_mtrx = np.empty((y_test.shape[0], len(models)))\n",
    "for n, (name, model) in enumerate(models):\n",
    "    y_predict = model.predict(x_test)\n",
    "    meta_mtrx[:,n] = y_predict\n",
    "meta_mtrx[:10]"
   ]
  },
  {
   "cell_type": "code",
   "execution_count": 22,
   "metadata": {
    "execution": {
     "iopub.execute_input": "2024-04-24T13:32:28.120782Z",
     "iopub.status.busy": "2024-04-24T13:32:28.120391Z",
     "iopub.status.idle": "2024-04-24T13:32:28.139200Z",
     "shell.execute_reply": "2024-04-24T13:32:28.138367Z",
     "shell.execute_reply.started": "2024-04-24T13:32:28.120712Z"
    }
   },
   "outputs": [
    {
     "data": {
      "text/html": [
       "<div>\n",
       "<style scoped>\n",
       "    .dataframe tbody tr th:only-of-type {\n",
       "        vertical-align: middle;\n",
       "    }\n",
       "\n",
       "    .dataframe tbody tr th {\n",
       "        vertical-align: top;\n",
       "    }\n",
       "\n",
       "    .dataframe thead th {\n",
       "        text-align: right;\n",
       "    }\n",
       "</style>\n",
       "<table border=\"1\" class=\"dataframe\">\n",
       "  <thead>\n",
       "    <tr style=\"text-align: right;\">\n",
       "      <th></th>\n",
       "      <th>Pclass</th>\n",
       "      <th>Sex</th>\n",
       "      <th>Age</th>\n",
       "      <th>Parch</th>\n",
       "      <th>Fare</th>\n",
       "      <th>Embarked</th>\n",
       "      <th>Name_length</th>\n",
       "      <th>Has_Cabin</th>\n",
       "      <th>FamilySize</th>\n",
       "      <th>IsAlone</th>\n",
       "      <th>Title</th>\n",
       "    </tr>\n",
       "  </thead>\n",
       "  <tbody>\n",
       "    <tr>\n",
       "      <td>0</td>\n",
       "      <td>3</td>\n",
       "      <td>1</td>\n",
       "      <td>2</td>\n",
       "      <td>0</td>\n",
       "      <td>0</td>\n",
       "      <td>2</td>\n",
       "      <td>16</td>\n",
       "      <td>0</td>\n",
       "      <td>1</td>\n",
       "      <td>1</td>\n",
       "      <td>1</td>\n",
       "    </tr>\n",
       "    <tr>\n",
       "      <td>1</td>\n",
       "      <td>3</td>\n",
       "      <td>0</td>\n",
       "      <td>2</td>\n",
       "      <td>0</td>\n",
       "      <td>0</td>\n",
       "      <td>0</td>\n",
       "      <td>32</td>\n",
       "      <td>0</td>\n",
       "      <td>2</td>\n",
       "      <td>0</td>\n",
       "      <td>3</td>\n",
       "    </tr>\n",
       "    <tr>\n",
       "      <td>2</td>\n",
       "      <td>2</td>\n",
       "      <td>1</td>\n",
       "      <td>3</td>\n",
       "      <td>0</td>\n",
       "      <td>1</td>\n",
       "      <td>2</td>\n",
       "      <td>25</td>\n",
       "      <td>0</td>\n",
       "      <td>1</td>\n",
       "      <td>1</td>\n",
       "      <td>1</td>\n",
       "    </tr>\n",
       "    <tr>\n",
       "      <td>3</td>\n",
       "      <td>3</td>\n",
       "      <td>1</td>\n",
       "      <td>1</td>\n",
       "      <td>0</td>\n",
       "      <td>1</td>\n",
       "      <td>0</td>\n",
       "      <td>16</td>\n",
       "      <td>0</td>\n",
       "      <td>1</td>\n",
       "      <td>1</td>\n",
       "      <td>1</td>\n",
       "    </tr>\n",
       "    <tr>\n",
       "      <td>4</td>\n",
       "      <td>3</td>\n",
       "      <td>0</td>\n",
       "      <td>1</td>\n",
       "      <td>1</td>\n",
       "      <td>1</td>\n",
       "      <td>0</td>\n",
       "      <td>44</td>\n",
       "      <td>0</td>\n",
       "      <td>3</td>\n",
       "      <td>0</td>\n",
       "      <td>3</td>\n",
       "    </tr>\n",
       "  </tbody>\n",
       "</table>\n",
       "</div>"
      ],
      "text/plain": [
       "   Pclass  Sex  Age  Parch  Fare  Embarked  Name_length  Has_Cabin  \\\n",
       "0       3    1    2      0     0         2           16          0   \n",
       "1       3    0    2      0     0         0           32          0   \n",
       "2       2    1    3      0     1         2           25          0   \n",
       "3       3    1    1      0     1         0           16          0   \n",
       "4       3    0    1      1     1         0           44          0   \n",
       "\n",
       "   FamilySize  IsAlone  Title  \n",
       "0           1        1      1  \n",
       "1           2        0      3  \n",
       "2           1        1      1  \n",
       "3           1        1      1  \n",
       "4           3        0      3  "
      ]
     },
     "execution_count": 22,
     "metadata": {},
     "output_type": "execute_result"
    }
   ],
   "source": [
    "test.head()"
   ]
  },
  {
   "cell_type": "code",
   "execution_count": 25,
   "metadata": {
    "collapsed": true,
    "execution": {
     "iopub.execute_input": "2024-04-24T13:37:17.604295Z",
     "iopub.status.busy": "2024-04-24T13:37:17.603886Z",
     "iopub.status.idle": "2024-04-24T13:37:17.624328Z",
     "shell.execute_reply": "2024-04-24T13:37:17.623244Z",
     "shell.execute_reply.started": "2024-04-24T13:37:17.604233Z"
    },
    "jupyter": {
     "outputs_hidden": true
    }
   },
   "outputs": [
    {
     "data": {
      "text/plain": [
       "[('gbc',\n",
       "  GridSearchCV(cv=StratifiedKFold(n_splits=5, random_state=17, shuffle=True),\n",
       "               error_score='raise-deprecating',\n",
       "               estimator=GradientBoostingClassifier(criterion='friedman_mse',\n",
       "                                                    init=None, learning_rate=0.1,\n",
       "                                                    loss='deviance', max_depth=3,\n",
       "                                                    max_features=None,\n",
       "                                                    max_leaf_nodes=None,\n",
       "                                                    min_impurity_decrease=0.0,\n",
       "                                                    min_impurity_split=None,\n",
       "                                                    min_samples_leaf=1,\n",
       "                                                    min_samples_split=2,\n",
       "                                                    min_weight_fraction_leaf=0.0,\n",
       "                                                    n_estimators=100,\n",
       "                                                    n_iter_no_change=None,\n",
       "                                                    presort='auto',\n",
       "                                                    random_state=17,\n",
       "                                                    subsample=1.0, tol=0.0001,\n",
       "                                                    validation_fraction=0.1,\n",
       "                                                    verbose=0, warm_start=False),\n",
       "               iid='warn', n_jobs=None,\n",
       "               param_grid={'learning_rate': array([0.1, 0.2, 0.3, 0.4, 0.5])},\n",
       "               pre_dispatch='2*n_jobs', refit=True, return_train_score=False,\n",
       "               scoring=None, verbose=0)),\n",
       " ('rfc',\n",
       "  GridSearchCV(cv=StratifiedKFold(n_splits=5, random_state=17, shuffle=True),\n",
       "               error_score='raise-deprecating',\n",
       "               estimator=RandomForestClassifier(bootstrap=True, class_weight=None,\n",
       "                                                criterion='gini', max_depth=None,\n",
       "                                                max_features='auto',\n",
       "                                                max_leaf_nodes=None,\n",
       "                                                min_impurity_decrease=0.0,\n",
       "                                                min_impurity_split=None,\n",
       "                                                min_samples_leaf=1,\n",
       "                                                min_samples_split=2,\n",
       "                                                min_weight_fraction_leaf=0.0,\n",
       "                                                n_estimators='warn', n_jobs=None,\n",
       "                                                oob_score=False, random_state=17,\n",
       "                                                verbose=0, warm_start=False),\n",
       "               iid='warn', n_jobs=None,\n",
       "               param_grid={'min_samples_leaf': range(1, 5),\n",
       "                           'n_estimators': range(10, 100, 10)},\n",
       "               pre_dispatch='2*n_jobs', refit=True, return_train_score=False,\n",
       "               scoring=None, verbose=0)),\n",
       " ('svc',\n",
       "  GridSearchCV(cv=StratifiedKFold(n_splits=5, random_state=17, shuffle=True),\n",
       "               error_score='raise-deprecating',\n",
       "               estimator=SVC(C=1.0, cache_size=200, class_weight=None, coef0=0.0,\n",
       "                             decision_function_shape='ovr', degree=3,\n",
       "                             gamma='auto_deprecated', kernel='rbf', max_iter=-1,\n",
       "                             probability=False, random_state=17, shrinking=True,\n",
       "                             tol=0.001, verbose=False),\n",
       "               iid='warn', n_jobs=None,\n",
       "               param_grid={'C': array([0.1, 0.3, 0.5, 0.7, 0.9]),\n",
       "                           'kernel': ['linear', 'rbf']},\n",
       "               pre_dispatch='2*n_jobs', refit=True, return_train_score=False,\n",
       "               scoring=None, verbose=0)),\n",
       " ('lr',\n",
       "  GridSearchCV(cv=StratifiedKFold(n_splits=5, random_state=17, shuffle=True),\n",
       "               error_score='raise-deprecating',\n",
       "               estimator=LogisticRegression(C=1.0, class_weight=None, dual=False,\n",
       "                                            fit_intercept=True,\n",
       "                                            intercept_scaling=1, l1_ratio=None,\n",
       "                                            max_iter=100, multi_class='warn',\n",
       "                                            n_jobs=None, penalty='l2',\n",
       "                                            random_state=17, solver='warn',\n",
       "                                            tol=0.0001, verbose=0,\n",
       "                                            warm_start=False),\n",
       "               iid='warn', n_jobs=None,\n",
       "               param_grid={'C': array([0.5, 0.6, 0.7, 0.8, 0.9])},\n",
       "               pre_dispatch='2*n_jobs', refit=True, return_train_score=False,\n",
       "               scoring=None, verbose=0))]"
      ]
     },
     "execution_count": 25,
     "metadata": {},
     "output_type": "execute_result"
    }
   ],
   "source": [
    "models"
   ]
  },
  {
   "cell_type": "code",
   "execution_count": null,
   "metadata": {},
   "outputs": [],
   "source": []
  },
  {
   "cell_type": "code",
   "execution_count": 30,
   "metadata": {
    "execution": {
     "iopub.execute_input": "2024-04-24T13:40:29.539731Z",
     "iopub.status.busy": "2024-04-24T13:40:29.539143Z",
     "iopub.status.idle": "2024-04-24T13:41:43.851809Z",
     "shell.execute_reply": "2024-04-24T13:41:43.850790Z",
     "shell.execute_reply.started": "2024-04-24T13:40:29.539615Z"
    }
   },
   "outputs": [
    {
     "name": "stdout",
     "output_type": "stream",
     "text": [
      "Blending XGBoost start fitting ...\n",
      "Blending XGBoost finished fitting ...\n",
      "Model gbc started ...\n",
      "Model gbc finished!\n",
      "Model rfc started ...\n",
      "Model rfc finished!\n",
      "Model svc started ...\n",
      "Model svc finished!\n",
      "Model lr started ...\n",
      "Model lr finished!\n",
      "Blending XGBoost start predicting ...\n",
      "Blending XGBoost best params:\n",
      "{'eta': 0.1, 'min_child_weight': 1, 'n_estimators': 10, 'subsample': 0.9000000000000001}\n"
     ]
    },
    {
     "name": "stderr",
     "output_type": "stream",
     "text": [
      "/opt/conda/lib/python3.6/site-packages/sklearn/model_selection/_search.py:814: DeprecationWarning: The default of the `iid` parameter will change from True to False in version 0.22 and will be removed in 0.24. This will change numeric results when test-set sizes are unequal.\n",
      "  DeprecationWarning)\n"
     ]
    }
   ],
   "source": [
    "xgb = XGBClassifier(random_state=17)\n",
    "xgb_grid = GridSearchCV(xgb, xgb_params, cv=skf)\n",
    "print(f\"Blending XGBoost start fitting ...\")\n",
    "xgb_grid.fit(meta_mtrx, y_test)\n",
    "print(f\"Blending XGBoost finished fitting ...\")\n",
    "\n",
    "data_test = test\n",
    "\n",
    "meta_mtrx_test = np.empty((data_test.shape[0], len(models)))\n",
    "for n, (name, model) in enumerate(models):\n",
    "    print(f\"Model {name} started ...\")\n",
    "    meta_mtrx_test[:,n] = model.predict(data_test)\n",
    "    print(f\"Model {name} finished!\")\n",
    "print(f\"Blending XGBoost start predicting ...\")\n",
    "meta_predict = xgb_grid.predict(meta_mtrx_test)\n",
    "print(f\"Blending XGBoost best params:\\n{xgb_grid.best_params_}\")\n"
   ]
  },
  {
   "cell_type": "markdown",
   "metadata": {
    "id": "ZdPk3Y6TXbb8"
   },
   "source": [
    "### 4.\n",
    "На основе алгоритма из предыдущего домашнего задания постройте стекинг (используйте 5-кратную кросс-валидацию) для всех моделей с наилучшими подобранными параметрами. В качестве тренировочных данных используйте весь датасет train.csv, а в качестве тестовых - весь датасет test.csv. Сделайте прогноз мета-алгоритма для test.csv."
   ]
  },
  {
   "cell_type": "code",
   "execution_count": 33,
   "metadata": {
    "execution": {
     "iopub.execute_input": "2024-04-24T13:43:53.575390Z",
     "iopub.status.busy": "2024-04-24T13:43:53.574896Z",
     "iopub.status.idle": "2024-04-24T13:43:53.593264Z",
     "shell.execute_reply": "2024-04-24T13:43:53.591867Z",
     "shell.execute_reply.started": "2024-04-24T13:43:53.575322Z"
    },
    "id": "X4yLqrjMXbb_"
   },
   "outputs": [],
   "source": [
    "def train_test_for_stacking(data, targets, folds_count, test_fold_num):\n",
    "    part_size = data.shape[0] // folds_count\n",
    "    if test_fold_num == folds_count - 1:\n",
    "        return (\n",
    "            data[:part_size*test_fold_num],\n",
    "            data[part_size*test_fold_num:],\n",
    "            targets[:part_size*test_fold_num],\n",
    "            targets[part_size*test_fold_num:],\n",
    "        )\n",
    "    return (\n",
    "        np.append(data[:part_size*test_fold_num], data[part_size*(test_fold_num + 1):]).reshape(-1, data.shape[1]),\n",
    "        data[part_size*test_fold_num:part_size*(test_fold_num + 1)],\n",
    "        np.append(targets[:part_size*test_fold_num], targets[part_size*(test_fold_num + 1):]).reshape(-1, 1),\n",
    "        targets[part_size*test_fold_num:part_size*(test_fold_num + 1)],\n",
    "    )\n",
    "    \n",
    "\n",
    "def stacking(models, meta_alg, data_train, targets_train, data_test, targets_test=None, random_state=None, folds_num=3):\n",
    "    if folds_num <= 1:\n",
    "        raise ValueError(\"folds_num must be greater than 1\")\n",
    "    meta_mtrx_parts = []\n",
    "    for fold_ind in range(folds_num):\n",
    "        train, valid, train_true, valid_true = train_test_for_stacking(data_train, targets_train, folds_num, fold_ind)\n",
    "        \n",
    "        meta_mtrx_part = np.empty((valid.shape[0], len(models)))\n",
    "\n",
    "        for n, model in enumerate(models):\n",
    "            print(f\"Model {n} started fitting...\")\n",
    "            model_fitted = model.fit(train, train_true)\n",
    "            print(f\"Model {n} started predicting...\")\n",
    "            meta_mtrx_part[:, n] = model_fitted.predict(valid)\n",
    "\n",
    "        meta_mtrx_parts.append(meta_mtrx_part)\n",
    "\n",
    "    meta_mtrx = np.vstack(meta_mtrx_parts)\n",
    "    \n",
    "    print(\"Meta alg started fitting...\")\n",
    "    meta_model = meta_alg.fit(meta_mtrx, targets_train)\n",
    "\n",
    "    meta_mtrx_test = np.empty((data_test.shape[0], len(models)))\n",
    "    \n",
    "    for n, model in enumerate(models):\n",
    "        meta_mtrx_test[:,n] = model.predict(data_test)\n",
    "    print(\"Meta alg started predicting...\")\n",
    "    meta_predict = meta_alg.predict(meta_mtrx_test)\n",
    "\n",
    "    if targets_test is not None:\n",
    "        print(f\"Stacking AUC: {roc_auc_score(targets_test, meta_predict)}\")\n",
    "    return meta_predict"
   ]
  },
  {
   "cell_type": "code",
   "execution_count": 34,
   "metadata": {
    "execution": {
     "iopub.execute_input": "2024-04-24T13:43:54.652359Z",
     "iopub.status.busy": "2024-04-24T13:43:54.651929Z",
     "iopub.status.idle": "2024-04-24T13:46:49.343143Z",
     "shell.execute_reply": "2024-04-24T13:46:49.341840Z",
     "shell.execute_reply.started": "2024-04-24T13:43:54.652303Z"
    }
   },
   "outputs": [
    {
     "name": "stdout",
     "output_type": "stream",
     "text": [
      "Model 0 started fitting...\n",
      "Model 0 started predicting...\n",
      "Model 1 started fitting...\n",
      "Model 1 started predicting...\n",
      "Model 2 started fitting...\n",
      "Model 2 started predicting...\n",
      "Model 3 started fitting...\n",
      "Model 3 started predicting...\n",
      "Model 0 started fitting...\n",
      "Model 0 started predicting...\n",
      "Model 1 started fitting...\n",
      "Model 1 started predicting...\n",
      "Model 2 started fitting...\n",
      "Model 2 started predicting...\n",
      "Model 3 started fitting...\n",
      "Model 3 started predicting...\n",
      "Model 0 started fitting...\n",
      "Model 0 started predicting...\n",
      "Model 1 started fitting...\n",
      "Model 1 started predicting...\n",
      "Model 2 started fitting...\n",
      "Model 2 started predicting...\n",
      "Model 3 started fitting...\n",
      "Model 3 started predicting...\n",
      "Meta alg started fitting...\n",
      "Meta alg started predicting...\n"
     ]
    },
    {
     "name": "stderr",
     "output_type": "stream",
     "text": [
      "/opt/conda/lib/python3.6/site-packages/sklearn/model_selection/_search.py:814: DeprecationWarning: The default of the `iid` parameter will change from True to False in version 0.22 and will be removed in 0.24. This will change numeric results when test-set sizes are unequal.\n",
      "  DeprecationWarning)\n"
     ]
    }
   ],
   "source": [
    "predicted = stacking([m for _, m in models], xgb_grid, train.drop(\"Survived\", axis=1), train.Survived, test)"
   ]
  },
  {
   "cell_type": "markdown",
   "metadata": {
    "id": "9lhat2YqXbcD"
   },
   "source": [
    "### 5.\n",
    "С помощью нижеприведенной функции сформируйте файл посылки для соревнования и отправьте на Kaggle."
   ]
  },
  {
   "cell_type": "code",
   "execution_count": 35,
   "metadata": {
    "execution": {
     "iopub.execute_input": "2024-04-24T13:47:00.213669Z",
     "iopub.status.busy": "2024-04-24T13:47:00.213234Z",
     "iopub.status.idle": "2024-04-24T13:47:00.221326Z",
     "shell.execute_reply": "2024-04-24T13:47:00.219671Z",
     "shell.execute_reply.started": "2024-04-24T13:47:00.213606Z"
    },
    "id": "uOND9iBIXbcF"
   },
   "outputs": [],
   "source": [
    "def write_to_submission_file(predictions, PassengerID, out_file='Submission.csv', columns=['PassengerID', 'Survived']):\n",
    "    predicted_df = pd.DataFrame(np.array([PassengerId, predictions]).T, columns=columns)\n",
    "    predicted_df.to_csv(out_file, index=False)"
   ]
  },
  {
   "cell_type": "code",
   "execution_count": 37,
   "metadata": {
    "execution": {
     "iopub.execute_input": "2024-04-24T13:47:17.010194Z",
     "iopub.status.busy": "2024-04-24T13:47:17.009761Z",
     "iopub.status.idle": "2024-04-24T13:47:17.031488Z",
     "shell.execute_reply": "2024-04-24T13:47:17.030315Z",
     "shell.execute_reply.started": "2024-04-24T13:47:17.010140Z"
    }
   },
   "outputs": [
    {
     "data": {
      "text/html": [
       "<div>\n",
       "<style scoped>\n",
       "    .dataframe tbody tr th:only-of-type {\n",
       "        vertical-align: middle;\n",
       "    }\n",
       "\n",
       "    .dataframe tbody tr th {\n",
       "        vertical-align: top;\n",
       "    }\n",
       "\n",
       "    .dataframe thead th {\n",
       "        text-align: right;\n",
       "    }\n",
       "</style>\n",
       "<table border=\"1\" class=\"dataframe\">\n",
       "  <thead>\n",
       "    <tr style=\"text-align: right;\">\n",
       "      <th></th>\n",
       "      <th>Pclass</th>\n",
       "      <th>Sex</th>\n",
       "      <th>Age</th>\n",
       "      <th>Parch</th>\n",
       "      <th>Fare</th>\n",
       "      <th>Embarked</th>\n",
       "      <th>Name_length</th>\n",
       "      <th>Has_Cabin</th>\n",
       "      <th>FamilySize</th>\n",
       "      <th>IsAlone</th>\n",
       "      <th>Title</th>\n",
       "    </tr>\n",
       "  </thead>\n",
       "  <tbody>\n",
       "    <tr>\n",
       "      <td>0</td>\n",
       "      <td>3</td>\n",
       "      <td>1</td>\n",
       "      <td>2</td>\n",
       "      <td>0</td>\n",
       "      <td>0</td>\n",
       "      <td>2</td>\n",
       "      <td>16</td>\n",
       "      <td>0</td>\n",
       "      <td>1</td>\n",
       "      <td>1</td>\n",
       "      <td>1</td>\n",
       "    </tr>\n",
       "    <tr>\n",
       "      <td>1</td>\n",
       "      <td>3</td>\n",
       "      <td>0</td>\n",
       "      <td>2</td>\n",
       "      <td>0</td>\n",
       "      <td>0</td>\n",
       "      <td>0</td>\n",
       "      <td>32</td>\n",
       "      <td>0</td>\n",
       "      <td>2</td>\n",
       "      <td>0</td>\n",
       "      <td>3</td>\n",
       "    </tr>\n",
       "    <tr>\n",
       "      <td>2</td>\n",
       "      <td>2</td>\n",
       "      <td>1</td>\n",
       "      <td>3</td>\n",
       "      <td>0</td>\n",
       "      <td>1</td>\n",
       "      <td>2</td>\n",
       "      <td>25</td>\n",
       "      <td>0</td>\n",
       "      <td>1</td>\n",
       "      <td>1</td>\n",
       "      <td>1</td>\n",
       "    </tr>\n",
       "    <tr>\n",
       "      <td>3</td>\n",
       "      <td>3</td>\n",
       "      <td>1</td>\n",
       "      <td>1</td>\n",
       "      <td>0</td>\n",
       "      <td>1</td>\n",
       "      <td>0</td>\n",
       "      <td>16</td>\n",
       "      <td>0</td>\n",
       "      <td>1</td>\n",
       "      <td>1</td>\n",
       "      <td>1</td>\n",
       "    </tr>\n",
       "    <tr>\n",
       "      <td>4</td>\n",
       "      <td>3</td>\n",
       "      <td>0</td>\n",
       "      <td>1</td>\n",
       "      <td>1</td>\n",
       "      <td>1</td>\n",
       "      <td>0</td>\n",
       "      <td>44</td>\n",
       "      <td>0</td>\n",
       "      <td>3</td>\n",
       "      <td>0</td>\n",
       "      <td>3</td>\n",
       "    </tr>\n",
       "  </tbody>\n",
       "</table>\n",
       "</div>"
      ],
      "text/plain": [
       "   Pclass  Sex  Age  Parch  Fare  Embarked  Name_length  Has_Cabin  \\\n",
       "0       3    1    2      0     0         2           16          0   \n",
       "1       3    0    2      0     0         0           32          0   \n",
       "2       2    1    3      0     1         2           25          0   \n",
       "3       3    1    1      0     1         0           16          0   \n",
       "4       3    0    1      1     1         0           44          0   \n",
       "\n",
       "   FamilySize  IsAlone  Title  \n",
       "0           1        1      1  \n",
       "1           2        0      3  \n",
       "2           1        1      1  \n",
       "3           1        1      1  \n",
       "4           3        0      3  "
      ]
     },
     "execution_count": 37,
     "metadata": {},
     "output_type": "execute_result"
    }
   ],
   "source": [
    "test.head()"
   ]
  },
  {
   "cell_type": "code",
   "execution_count": 38,
   "metadata": {
    "execution": {
     "iopub.execute_input": "2024-04-24T13:48:05.215709Z",
     "iopub.status.busy": "2024-04-24T13:48:05.215302Z",
     "iopub.status.idle": "2024-04-24T13:48:07.470810Z",
     "shell.execute_reply": "2024-04-24T13:48:07.469793Z",
     "shell.execute_reply.started": "2024-04-24T13:48:05.215649Z"
    },
    "id": "TXFbXmqZXbcJ"
   },
   "outputs": [],
   "source": [
    "write_to_submission_file(predicted, list(range(test.shape[0])))"
   ]
  },
  {
   "cell_type": "markdown",
   "metadata": {
    "id": "8lLSV_sHXbcN"
   },
   "source": [
    "### 6.\n",
    "Каков результат score, полученного на соревновании?"
   ]
  },
  {
   "cell_type": "markdown",
   "metadata": {
    "id": "4VEP0qzXXbcO"
   },
   "source": [
    "Ваш ответ:"
   ]
  }
 ],
 "metadata": {
  "colab": {
   "provenance": []
  },
  "kaggle": {
   "accelerator": "none",
   "dataSources": [
    {
     "databundleVersionId": 26502,
     "sourceId": 3136,
     "sourceType": "competition"
    },
    {
     "datasetId": 4870067,
     "sourceId": 8216384,
     "sourceType": "datasetVersion"
    }
   ],
   "dockerImageVersionId": 29507,
   "isGpuEnabled": false,
   "isInternetEnabled": false,
   "language": "python",
   "sourceType": "notebook"
  },
  "kernelspec": {
   "display_name": "Python 3 (ipykernel)",
   "language": "python",
   "name": "python3"
  },
  "language_info": {
   "codemirror_mode": {
    "name": "ipython",
    "version": 3
   },
   "file_extension": ".py",
   "mimetype": "text/x-python",
   "name": "python",
   "nbconvert_exporter": "python",
   "pygments_lexer": "ipython3",
   "version": "3.12.2"
  }
 },
 "nbformat": 4,
 "nbformat_minor": 4
}
