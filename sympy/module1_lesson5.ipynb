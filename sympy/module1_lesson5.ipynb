{
 "cells": [
  {
   "cell_type": "code",
   "execution_count": 1,
   "id": "e94da419-fa39-4d73-abe2-8c1f9bc99688",
   "metadata": {},
   "outputs": [],
   "source": [
    "from sympy import *"
   ]
  },
  {
   "cell_type": "code",
   "execution_count": 2,
   "id": "d237e8a8-4743-4656-bdff-82e9670400f1",
   "metadata": {},
   "outputs": [],
   "source": [
    "init_printing(use_unicode=False, wrap_line=False, no_global=True)\n"
   ]
  },
  {
   "cell_type": "code",
   "execution_count": 3,
   "id": "d9170c26-d8ac-4bec-8d64-17aadb41f9a4",
   "metadata": {},
   "outputs": [],
   "source": [
    "x = Symbol('x')"
   ]
  },
  {
   "cell_type": "code",
   "execution_count": 4,
   "id": "6a311bee-a9c0-47d0-b855-d748e1f682f3",
   "metadata": {},
   "outputs": [
    {
     "data": {
      "text/latex": [
       "$\\displaystyle \\frac{x^{2}}{2}$"
      ],
      "text/plain": [
       " 2\n",
       "x \n",
       "--\n",
       "2 "
      ]
     },
     "execution_count": 4,
     "metadata": {},
     "output_type": "execute_result"
    }
   ],
   "source": [
    "x**2/2"
   ]
  },
  {
   "cell_type": "code",
   "execution_count": 5,
   "id": "6d98b02e-de41-46ef-9b06-10f7ff9acf02",
   "metadata": {},
   "outputs": [],
   "source": [
    "y = Symbol('y')\n"
   ]
  },
  {
   "cell_type": "code",
   "execution_count": 6,
   "id": "759d6f96-4151-42a3-abf3-cd2802891f5b",
   "metadata": {},
   "outputs": [],
   "source": [
    "expression = (x**2-y**2)/(x**2+2*x*y+y**2)"
   ]
  },
  {
   "cell_type": "code",
   "execution_count": 7,
   "id": "920f73a8-56c6-44a2-b18a-c8693cc8dfee",
   "metadata": {},
   "outputs": [
    {
     "data": {
      "text/latex": [
       "$\\displaystyle \\frac{x^{2} - y^{2}}{x^{2} + 2 x y + y^{2}}$"
      ],
      "text/plain": [
       "     2    2    \n",
       "    x  - y     \n",
       "---------------\n",
       " 2            2\n",
       "x  + 2*x*y + y "
      ]
     },
     "execution_count": 7,
     "metadata": {},
     "output_type": "execute_result"
    }
   ],
   "source": [
    "expression\n"
   ]
  },
  {
   "cell_type": "code",
   "execution_count": 8,
   "id": "cfce6632-49ef-4402-969d-b4c299f09542",
   "metadata": {},
   "outputs": [
    {
     "data": {
      "text/latex": [
       "$\\displaystyle \\frac{x - y}{x + y}$"
      ],
      "text/plain": [
       "x - y\n",
       "-----\n",
       "x + y"
      ]
     },
     "execution_count": 8,
     "metadata": {},
     "output_type": "execute_result"
    }
   ],
   "source": [
    "simplify(expression)\n"
   ]
  },
  {
   "cell_type": "code",
   "execution_count": 9,
   "id": "a120f201-dcdb-4c5b-a4de-2001b539ffc1",
   "metadata": {},
   "outputs": [],
   "source": [
    "m = Symbol('m')"
   ]
  },
  {
   "cell_type": "code",
   "execution_count": 10,
   "id": "6c67ff12-fd63-4c78-a5e1-501b3e102964",
   "metadata": {},
   "outputs": [
    {
     "data": {
      "text/latex": [
       "$\\displaystyle m$"
      ],
      "text/plain": [
       "m"
      ]
     },
     "execution_count": 10,
     "metadata": {},
     "output_type": "execute_result"
    }
   ],
   "source": [
    "m"
   ]
  },
  {
   "cell_type": "code",
   "execution_count": 11,
   "id": "10b7c0d6-8c6c-4d32-9cfd-7a0d35844586",
   "metadata": {},
   "outputs": [],
   "source": [
    "expression_2 = ((10*m**2)/(3+2*m)-5*m)/((30*m**2-15*m)/(8*m*m**2+27))"
   ]
  },
  {
   "cell_type": "code",
   "execution_count": 12,
   "id": "758b7975-e7fe-4991-aca7-08fa802f8214",
   "metadata": {},
   "outputs": [
    {
     "data": {
      "text/latex": [
       "$\\displaystyle \\frac{\\left(8 m^{3} + 27\\right) \\left(\\frac{10 m^{2}}{2 m + 3} - 5 m\\right)}{30 m^{2} - 15 m}$"
      ],
      "text/plain": [
       "            /     2       \\\n",
       "/   3     \\ | 10*m        |\n",
       "\\8*m  + 27/*|------- - 5*m|\n",
       "            \\2*m + 3      /\n",
       "---------------------------\n",
       "            2              \n",
       "        30*m  - 15*m       "
      ]
     },
     "execution_count": 12,
     "metadata": {},
     "output_type": "execute_result"
    }
   ],
   "source": [
    "expression_2\n"
   ]
  },
  {
   "cell_type": "code",
   "execution_count": 13,
   "id": "93c154f9-ebe8-4f59-88da-9838f081c718",
   "metadata": {},
   "outputs": [
    {
     "data": {
      "text/latex": [
       "$\\displaystyle \\frac{- 4 m^{2} + 6 m - 9}{2 m - 1}$"
      ],
      "text/plain": [
       "     2          \n",
       "- 4*m  + 6*m - 9\n",
       "----------------\n",
       "    2*m - 1     "
      ]
     },
     "execution_count": 13,
     "metadata": {},
     "output_type": "execute_result"
    }
   ],
   "source": [
    "simplify(expression_2)"
   ]
  },
  {
   "cell_type": "code",
   "execution_count": 14,
   "id": "9583ecaf-b29e-4e1c-b267-ad86b13eaec9",
   "metadata": {},
   "outputs": [],
   "source": [
    "expression = (2*x+3*y)**2-3*x*(4/3*x+4*y)"
   ]
  },
  {
   "cell_type": "code",
   "execution_count": 15,
   "id": "7529d900-3fe9-42e1-a95f-f1fc63c33778",
   "metadata": {},
   "outputs": [
    {
     "data": {
      "text/latex": [
       "$\\displaystyle - 3 x \\left(1.33333333333333 x + 4 y\\right) + \\left(2 x + 3 y\\right)^{2}$"
      ],
      "text/plain": [
       "                                             2\n",
       "-3*x*(1.33333333333333*x + 4*y) + (2*x + 3*y) "
      ]
     },
     "execution_count": 15,
     "metadata": {},
     "output_type": "execute_result"
    }
   ],
   "source": [
    "expression\n"
   ]
  },
  {
   "cell_type": "code",
   "execution_count": 16,
   "id": "b2cc6e62-f80c-4389-98ca-e436f33ade51",
   "metadata": {},
   "outputs": [
    {
     "data": {
      "text/latex": [
       "$\\displaystyle 9 y^{2}$"
      ],
      "text/plain": [
       "   2\n",
       "9*y "
      ]
     },
     "execution_count": 16,
     "metadata": {},
     "output_type": "execute_result"
    }
   ],
   "source": [
    "simplify(expression)"
   ]
  },
  {
   "cell_type": "code",
   "execution_count": 20,
   "id": "198eed10-0838-486f-b7c7-c2b7db33d5ab",
   "metadata": {},
   "outputs": [],
   "source": [
    "expression = 28*a*b + (2*a-7*b)**2"
   ]
  },
  {
   "cell_type": "code",
   "execution_count": 19,
   "id": "4218005d-e384-42c1-9aba-61ffb5d1957b",
   "metadata": {},
   "outputs": [],
   "source": [
    "a = Symbol('a')\n",
    "b = Symbol('b')"
   ]
  },
  {
   "cell_type": "code",
   "execution_count": 21,
   "id": "1adb0e4b-559d-4966-a547-78869bd9b164",
   "metadata": {},
   "outputs": [
    {
     "data": {
      "text/latex": [
       "$\\displaystyle 28 a b + \\left(2 a - 7 b\\right)^{2}$"
      ],
      "text/plain": [
       "                    2\n",
       "28*a*b + (2*a - 7*b) "
      ]
     },
     "execution_count": 21,
     "metadata": {},
     "output_type": "execute_result"
    }
   ],
   "source": [
    "expression\n"
   ]
  },
  {
   "cell_type": "code",
   "execution_count": 22,
   "id": "eea7df45-6618-45d8-846a-c3d5f0d232df",
   "metadata": {},
   "outputs": [
    {
     "data": {
      "text/latex": [
       "$\\displaystyle 4 a^{2} + 49 b^{2}$"
      ],
      "text/plain": [
       "   2       2\n",
       "4*a  + 49*b "
      ]
     },
     "execution_count": 22,
     "metadata": {},
     "output_type": "execute_result"
    }
   ],
   "source": [
    "simplify(expression)"
   ]
  },
  {
   "cell_type": "code",
   "execution_count": 23,
   "id": "5bcf4e21-16f1-4081-9f55-0579f20eb125",
   "metadata": {},
   "outputs": [],
   "source": [
    "expression = (a/2+a/5)*(1/a**2)"
   ]
  },
  {
   "cell_type": "code",
   "execution_count": 24,
   "id": "88b924e3-14b0-4375-b54d-f9bd799b50a0",
   "metadata": {},
   "outputs": [
    {
     "data": {
      "text/latex": [
       "$\\displaystyle \\frac{7}{10 a}$"
      ],
      "text/plain": [
       " 7  \n",
       "----\n",
       "10*a"
      ]
     },
     "execution_count": 24,
     "metadata": {},
     "output_type": "execute_result"
    }
   ],
   "source": [
    "expression\n"
   ]
  },
  {
   "cell_type": "code",
   "execution_count": 25,
   "id": "38d5f667-0304-4197-af0d-b24a429d33f6",
   "metadata": {},
   "outputs": [],
   "source": [
    "expression = (x-(6*x/(x+2)))/((x-4)/(x+2))"
   ]
  },
  {
   "cell_type": "code",
   "execution_count": 26,
   "id": "540d2ad2-5440-4165-a5b9-e355ffd0268b",
   "metadata": {},
   "outputs": [
    {
     "data": {
      "text/latex": [
       "$\\displaystyle \\frac{\\left(x + 2\\right) \\left(x - \\frac{6 x}{x + 2}\\right)}{x - 4}$"
      ],
      "text/plain": [
       "        /     6*x \\\n",
       "(x + 2)*|x - -----|\n",
       "        \\    x + 2/\n",
       "-------------------\n",
       "       x - 4       "
      ]
     },
     "execution_count": 26,
     "metadata": {},
     "output_type": "execute_result"
    }
   ],
   "source": [
    "expression"
   ]
  },
  {
   "cell_type": "code",
   "execution_count": 27,
   "id": "d4b01827-33cc-4fb6-a445-cd0f57d22727",
   "metadata": {},
   "outputs": [
    {
     "data": {
      "text/latex": [
       "$\\displaystyle x$"
      ],
      "text/plain": [
       "x"
      ]
     },
     "execution_count": 27,
     "metadata": {},
     "output_type": "execute_result"
    }
   ],
   "source": [
    "simplify(expression)"
   ]
  },
  {
   "cell_type": "code",
   "execution_count": 28,
   "id": "87745e40-27dc-4306-ab3d-1389b3555d9f",
   "metadata": {},
   "outputs": [],
   "source": [
    "expression = (4/a**2+9/b**2)*(a*b)**2"
   ]
  },
  {
   "cell_type": "code",
   "execution_count": 29,
   "id": "c5ef8ae0-8b78-47a5-a63e-1eb8603d9aee",
   "metadata": {},
   "outputs": [
    {
     "data": {
      "text/latex": [
       "$\\displaystyle a^{2} b^{2} \\cdot \\left(\\frac{9}{b^{2}} + \\frac{4}{a^{2}}\\right)$"
      ],
      "text/plain": [
       " 2  2 /9    4 \\\n",
       "a *b *|-- + --|\n",
       "      | 2    2|\n",
       "      \\b    a /"
      ]
     },
     "execution_count": 29,
     "metadata": {},
     "output_type": "execute_result"
    }
   ],
   "source": [
    "expression"
   ]
  },
  {
   "cell_type": "code",
   "execution_count": 30,
   "id": "95aec414-015b-4812-97ce-15042cc8f62b",
   "metadata": {},
   "outputs": [
    {
     "data": {
      "text/latex": [
       "$\\displaystyle 9 a^{2} + 4 b^{2}$"
      ],
      "text/plain": [
       "   2      2\n",
       "9*a  + 4*b "
      ]
     },
     "execution_count": 30,
     "metadata": {},
     "output_type": "execute_result"
    }
   ],
   "source": [
    "simplify(expression)"
   ]
  },
  {
   "cell_type": "code",
   "execution_count": 31,
   "id": "43b40ab0-2f96-456b-90a1-4835710cfa3f",
   "metadata": {},
   "outputs": [],
   "source": [
    "c = Symbol('c')\n",
    "k = Symbol('k')"
   ]
  },
  {
   "cell_type": "code",
   "execution_count": 32,
   "id": "a5e6ac33-80f2-4f1a-bf98-ddd38f6d4e5e",
   "metadata": {},
   "outputs": [],
   "source": [
    "expression = (5/(c*k**2))*(k**3*c)-(10*k+1)/2"
   ]
  },
  {
   "cell_type": "code",
   "execution_count": 33,
   "id": "489aae46-99ac-44bf-8f22-336a5ecbc0bf",
   "metadata": {},
   "outputs": [
    {
     "data": {
      "text/latex": [
       "$\\displaystyle - \\frac{1}{2}$"
      ],
      "text/plain": [
       "-1/2"
      ]
     },
     "execution_count": 33,
     "metadata": {},
     "output_type": "execute_result"
    }
   ],
   "source": [
    "expression"
   ]
  },
  {
   "cell_type": "code",
   "execution_count": 34,
   "id": "ece9092d-58d5-492f-9cc1-40ee6b902040",
   "metadata": {},
   "outputs": [],
   "source": [
    "expression = (3*x**2+4*x)/(x**2-2*x)-(2*x+7)/x-(x+8)/(x-2)"
   ]
  },
  {
   "cell_type": "code",
   "execution_count": 35,
   "id": "ea1f42fd-2e96-4f32-8921-218c2d3bd286",
   "metadata": {},
   "outputs": [
    {
     "data": {
      "text/latex": [
       "$\\displaystyle \\frac{3 x^{2} + 4 x}{x^{2} - 2 x} - \\frac{x + 8}{x - 2} - \\frac{2 x + 7}{x}$"
      ],
      "text/plain": [
       "   2                        \n",
       "3*x  + 4*x   x + 8   2*x + 7\n",
       "---------- - ----- - -------\n",
       "  2          x - 2      x   \n",
       " x  - 2*x                   "
      ]
     },
     "execution_count": 35,
     "metadata": {},
     "output_type": "execute_result"
    }
   ],
   "source": [
    "expression"
   ]
  },
  {
   "cell_type": "code",
   "execution_count": 36,
   "id": "79794287-879e-4a92-859d-1d940a8c83d0",
   "metadata": {},
   "outputs": [
    {
     "data": {
      "text/latex": [
       "$\\displaystyle - \\frac{7}{x}$"
      ],
      "text/plain": [
       "-7 \n",
       "---\n",
       " x "
      ]
     },
     "execution_count": 36,
     "metadata": {},
     "output_type": "execute_result"
    }
   ],
   "source": [
    "simplify(expression)"
   ]
  },
  {
   "cell_type": "code",
   "execution_count": null,
   "id": "a075f8df-443d-49de-b12f-fe58efb83fa3",
   "metadata": {},
   "outputs": [],
   "source": []
  }
 ],
 "metadata": {
  "kernelspec": {
   "display_name": "Python 3 (ipykernel)",
   "language": "python",
   "name": "python3"
  },
  "language_info": {
   "codemirror_mode": {
    "name": "ipython",
    "version": 3
   },
   "file_extension": ".py",
   "mimetype": "text/x-python",
   "name": "python",
   "nbconvert_exporter": "python",
   "pygments_lexer": "ipython3",
   "version": "3.10.8"
  }
 },
 "nbformat": 4,
 "nbformat_minor": 5
}
