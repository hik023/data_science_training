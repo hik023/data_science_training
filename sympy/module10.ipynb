{
 "cells": [
  {
   "cell_type": "code",
   "execution_count": 2,
   "id": "eaa3eb8b-0f7b-49ae-9a06-8f904c94a265",
   "metadata": {},
   "outputs": [],
   "source": [
    "from sympy import *"
   ]
  },
  {
   "cell_type": "code",
   "execution_count": 3,
   "id": "3ad0e0ef-d567-4ba0-ae23-3c3edb639017",
   "metadata": {},
   "outputs": [
    {
     "data": {
      "text/latex": [
       "$\\displaystyle \\left[\\begin{matrix}4.1 & 3.9\\\\4.7 & 4.2\\end{matrix}\\right]$"
      ],
      "text/plain": [
       "Matrix([\n",
       "[4.1, 3.9],\n",
       "[4.7, 4.2]])"
      ]
     },
     "execution_count": 3,
     "metadata": {},
     "output_type": "execute_result"
    }
   ],
   "source": [
    "X = Matrix([[4.1, 3.9],[4.7, 4.2]])\n",
    "X"
   ]
  },
  {
   "cell_type": "code",
   "execution_count": 4,
   "id": "680a8ae6-0d5c-43e7-8ecf-b7035f4b6d6a",
   "metadata": {},
   "outputs": [
    {
     "data": {
      "text/latex": [
       "$\\displaystyle \\left[\\begin{matrix}4.1 & 3.9 & 4.0\\\\4.7 & 4.2 & 4.3\\end{matrix}\\right]$"
      ],
      "text/plain": [
       "Matrix([\n",
       "[4.1, 3.9, 4.0],\n",
       "[4.7, 4.2, 4.3]])"
      ]
     },
     "execution_count": 4,
     "metadata": {},
     "output_type": "execute_result"
    }
   ],
   "source": [
    "X_expanded = Matrix([[4.1, 3.9, 4.0],[4.7, 4.2, 4.3]])\n",
    "X_expanded"
   ]
  },
  {
   "cell_type": "code",
   "execution_count": 6,
   "id": "657c3401-6bbf-44c7-9284-f1b2f7092e5e",
   "metadata": {},
   "outputs": [],
   "source": [
    "a1, a2 = symbols(\"a1, a2\")"
   ]
  },
  {
   "cell_type": "code",
   "execution_count": 7,
   "id": "4f31fa16-93bc-4b61-93b6-6b6356237111",
   "metadata": {},
   "outputs": [
    {
     "data": {
      "text/latex": [
       "$\\displaystyle \\left\\{\\left( -0.0270270270270284, \\  1.05405405405406\\right)\\right\\}$"
      ],
      "text/plain": [
       "{(-0.0270270270270284, 1.05405405405406)}"
      ]
     },
     "execution_count": 7,
     "metadata": {},
     "output_type": "execute_result"
    }
   ],
   "source": [
    "linsolve(X_expanded, [a1, a2])"
   ]
  },
  {
   "cell_type": "code",
   "execution_count": 8,
   "id": "8c9ec116-9053-4f21-a631-98cee8d960dd",
   "metadata": {},
   "outputs": [
    {
     "data": {
      "text/latex": [
       "$\\displaystyle \\left[\\begin{matrix}a_{1}\\\\a_{2}\\end{matrix}\\right]$"
      ],
      "text/plain": [
       "Matrix([\n",
       "[a1],\n",
       "[a2]])"
      ]
     },
     "execution_count": 8,
     "metadata": {},
     "output_type": "execute_result"
    }
   ],
   "source": [
    "a = Matrix([a1, a2])\n",
    "a"
   ]
  },
  {
   "cell_type": "code",
   "execution_count": 9,
   "id": "994196bc-f2de-40c5-a209-50af8b6a2ece",
   "metadata": {},
   "outputs": [
    {
     "data": {
      "text/latex": [
       "$\\displaystyle \\left[\\begin{matrix}4.1 a_{1} + 3.9 a_{2}\\\\4.7 a_{1} + 4.2 a_{2}\\end{matrix}\\right]$"
      ],
      "text/plain": [
       "Matrix([\n",
       "[4.1*a1 + 3.9*a2],\n",
       "[4.7*a1 + 4.2*a2]])"
      ]
     },
     "execution_count": 9,
     "metadata": {},
     "output_type": "execute_result"
    }
   ],
   "source": [
    "X*a"
   ]
  },
  {
   "cell_type": "code",
   "execution_count": 10,
   "id": "a87c1d5c-1c6f-4dcb-8777-6e258504c64b",
   "metadata": {},
   "outputs": [
    {
     "data": {
      "text/latex": [
       "$\\displaystyle \\left[\\begin{matrix}4\\\\4.3\\end{matrix}\\right]$"
      ],
      "text/plain": [
       "Matrix([\n",
       "[  4],\n",
       "[4.3]])"
      ]
     },
     "execution_count": 10,
     "metadata": {},
     "output_type": "execute_result"
    }
   ],
   "source": [
    "b = Matrix([4, 4.3])\n",
    "b"
   ]
  },
  {
   "cell_type": "code",
   "execution_count": 11,
   "id": "6e5d077f-ad06-4012-adb5-47e1d983e95a",
   "metadata": {},
   "outputs": [
    {
     "data": {
      "text/latex": [
       "$\\displaystyle \\left[\\begin{matrix}4.1 a_{1} + 3.9 a_{2} - 4\\\\4.7 a_{1} + 4.2 a_{2} - 4.3\\end{matrix}\\right]$"
      ],
      "text/plain": [
       "Matrix([\n",
       "[  4.1*a1 + 3.9*a2 - 4],\n",
       "[4.7*a1 + 4.2*a2 - 4.3]])"
      ]
     },
     "execution_count": 11,
     "metadata": {},
     "output_type": "execute_result"
    }
   ],
   "source": [
    "X*a-b"
   ]
  },
  {
   "cell_type": "code",
   "execution_count": 15,
   "id": "5a72b142-b094-427f-b9be-2440ef5777f5",
   "metadata": {},
   "outputs": [
    {
     "data": {
      "text/latex": [
       "$\\displaystyle \\left[\\begin{matrix}2 & 5\\\\7 & -3\\end{matrix}\\right]$"
      ],
      "text/plain": [
       "Matrix([\n",
       "[2,  5],\n",
       "[7, -3]])"
      ]
     },
     "execution_count": 15,
     "metadata": {},
     "output_type": "execute_result"
    }
   ],
   "source": [
    "X = Matrix([[2,5],[7, -3]])\n",
    "X"
   ]
  },
  {
   "cell_type": "code",
   "execution_count": 16,
   "id": "75a6d0de-0265-490d-8a87-a3f3ef5c44bb",
   "metadata": {},
   "outputs": [
    {
     "data": {
      "text/latex": [
       "$\\displaystyle \\left[\\begin{matrix}2\\\\3\\end{matrix}\\right]$"
      ],
      "text/plain": [
       "Matrix([\n",
       "[2],\n",
       "[3]])"
      ]
     },
     "execution_count": 16,
     "metadata": {},
     "output_type": "execute_result"
    }
   ],
   "source": [
    "y = Matrix([2, 3])\n",
    "y"
   ]
  },
  {
   "cell_type": "code",
   "execution_count": 17,
   "id": "c1de53b7-6f63-41f9-b546-ba1087aeb7a7",
   "metadata": {},
   "outputs": [
    {
     "data": {
      "text/latex": [
       "$\\displaystyle \\left[\\begin{matrix}19\\\\5\\end{matrix}\\right]$"
      ],
      "text/plain": [
       "Matrix([\n",
       "[19],\n",
       "[ 5]])"
      ]
     },
     "execution_count": 17,
     "metadata": {},
     "output_type": "execute_result"
    }
   ],
   "source": [
    "X*y"
   ]
  },
  {
   "cell_type": "markdown",
   "id": "9553bdfa-018f-4f69-b099-0ab78bb3bcc5",
   "metadata": {},
   "source": [
    "---\n"
   ]
  },
  {
   "cell_type": "code",
   "execution_count": 18,
   "id": "7efc78e1-7716-4da6-8c30-b25aa5e7cb8e",
   "metadata": {},
   "outputs": [],
   "source": [
    "import numpy as np"
   ]
  },
  {
   "cell_type": "code",
   "execution_count": 19,
   "id": "fb15ce60-854f-46de-924a-cac568c43874",
   "metadata": {},
   "outputs": [],
   "source": [
    "MSE = 1/4*((4.1*a1 + 3.9*a2 - 4.0)**2 + \\\n",
    "           (4.7*a1 + 4.2*a2 - 4.3)**2 + \\\n",
    "           (3.1*a1 + 2.9*a2 - 3.0)**2 + \\\n",
    "           (4.9*a1 + 5.0*a2 - 4.9)**2)"
   ]
  },
  {
   "cell_type": "code",
   "execution_count": 20,
   "id": "f9698246-e3d5-4b15-b43a-f17fff0f7f92",
   "metadata": {},
   "outputs": [
    {
     "data": {
      "text/latex": [
       "$\\displaystyle 16.875$"
      ],
      "text/plain": [
       "16.8750000000000"
      ]
     },
     "execution_count": 20,
     "metadata": {},
     "output_type": "execute_result"
    }
   ],
   "source": [
    "MSE.subs({a1: 0, a2: 0})"
   ]
  },
  {
   "cell_type": "code",
   "execution_count": 23,
   "id": "31e3b082-47e7-47b8-a821-53a697951915",
   "metadata": {},
   "outputs": [
    {
     "data": {
      "text/latex": [
       "$\\displaystyle 36.26 a_{1} + 34.61 a_{2} - 34.96$"
      ],
      "text/plain": [
       "36.26*a1 + 34.61*a2 - 34.96"
      ]
     },
     "execution_count": 23,
     "metadata": {},
     "output_type": "execute_result"
    }
   ],
   "source": [
    "dMSEa1 = diff(MSE, a1)\n",
    "dMSEa1"
   ]
  },
  {
   "cell_type": "code",
   "execution_count": 24,
   "id": "2e50d010-4244-4746-8b77-abdf8c048d4e",
   "metadata": {},
   "outputs": [
    {
     "data": {
      "text/latex": [
       "$\\displaystyle 34.61 a_{1} + 33.13 a_{2} - 33.43$"
      ],
      "text/plain": [
       "34.61*a1 + 33.13*a2 - 33.43"
      ]
     },
     "execution_count": 24,
     "metadata": {},
     "output_type": "execute_result"
    }
   ],
   "source": [
    "dMSEa2 = diff(MSE, a2)\n",
    "dMSEa2"
   ]
  },
  {
   "cell_type": "code",
   "execution_count": 27,
   "id": "f857464c-8eee-42fc-aecc-320331158b26",
   "metadata": {},
   "outputs": [],
   "source": [
    "def gradient_np(n):\n",
    "    point = np.array([0, 0])\n",
    "    for i in range(0, n):\n",
    "        grad = np.array([dMSEa1.subs({a1: point[0], a2: point[1]}), dMSEa2.subs({a1: point[0], a2: point[1]})])\n",
    "        point = point + 0.001*-1*grad\n",
    "    print(f\"#{i+1} MSE({point[0]},{point[1]})=\",MSE.subs({a1: point[0], a2: point[1]}))   \n",
    "        "
   ]
  },
  {
   "cell_type": "code",
   "execution_count": 28,
   "id": "28e3c6e8-09a0-4b98-ac62-903f4cc78a3b",
   "metadata": {},
   "outputs": [
    {
     "name": "stdout",
     "output_type": "stream",
     "text": [
      "#1000 MSE(0.496928336748724,0.489701163695613)= 0.00328238641112706\n"
     ]
    }
   ],
   "source": [
    "gradient_np(1000)"
   ]
  },
  {
   "cell_type": "code",
   "execution_count": 29,
   "id": "738dbdc8-800c-4fa2-9823-61175b533bdc",
   "metadata": {},
   "outputs": [
    {
     "data": {
      "text/latex": [
       "$\\displaystyle 0.5 x_{1} + 0.5 x_{2}$"
      ],
      "text/plain": [
       "0.5*x1 + 0.5*x2"
      ]
     },
     "execution_count": 29,
     "metadata": {},
     "output_type": "execute_result"
    }
   ],
   "source": [
    "x1, x2 = symbols(\"x1, x2\")\n",
    "f = 0.5*x1 + 0.5*x2\n",
    "f"
   ]
  },
  {
   "cell_type": "code",
   "execution_count": 30,
   "id": "a2fbdfb2-212a-4ffb-a8d5-b84c1752a090",
   "metadata": {},
   "outputs": [
    {
     "data": {
      "text/latex": [
       "$\\displaystyle 4.0$"
      ],
      "text/plain": [
       "4.00000000000000"
      ]
     },
     "execution_count": 30,
     "metadata": {},
     "output_type": "execute_result"
    }
   ],
   "source": [
    "f.subs({x1: 4.1, x2: 3.9})"
   ]
  },
  {
   "cell_type": "code",
   "execution_count": 31,
   "id": "1b44a4c4-61f9-4c54-b3fa-afaaee04034c",
   "metadata": {},
   "outputs": [
    {
     "data": {
      "text/latex": [
       "$\\displaystyle 4.45$"
      ],
      "text/plain": [
       "4.45000000000000"
      ]
     },
     "execution_count": 31,
     "metadata": {},
     "output_type": "execute_result"
    }
   ],
   "source": [
    "f.subs({x1: 4.7, x2: 4.2})"
   ]
  },
  {
   "cell_type": "code",
   "execution_count": 32,
   "id": "1771518f-6647-403a-874e-97c0638218b5",
   "metadata": {},
   "outputs": [
    {
     "data": {
      "text/latex": [
       "$\\displaystyle 0.00625000000000002$"
      ],
      "text/plain": [
       "0.00625000000000002"
      ]
     },
     "execution_count": 32,
     "metadata": {},
     "output_type": "execute_result"
    }
   ],
   "source": [
    "MSE.subs({a1: 0.5, a2: 0.5})"
   ]
  },
  {
   "cell_type": "code",
   "execution_count": 33,
   "id": "84b1d1ad-7799-4c1d-af5c-94ce2e0170ba",
   "metadata": {},
   "outputs": [
    {
     "data": {
      "text/latex": [
       "$\\displaystyle 3.0$"
      ],
      "text/plain": [
       "3.00000000000000"
      ]
     },
     "execution_count": 33,
     "metadata": {},
     "output_type": "execute_result"
    }
   ],
   "source": [
    "f.subs({x1: 3.1, x2: 2.9})"
   ]
  },
  {
   "cell_type": "code",
   "execution_count": 34,
   "id": "a0f3ebc4-a86b-4c57-93cb-5c87615ef050",
   "metadata": {},
   "outputs": [
    {
     "data": {
      "text/latex": [
       "$\\displaystyle 4.95$"
      ],
      "text/plain": [
       "4.95000000000000"
      ]
     },
     "execution_count": 34,
     "metadata": {},
     "output_type": "execute_result"
    }
   ],
   "source": [
    "f.subs({x1: 4.9, x2: 5})"
   ]
  },
  {
   "cell_type": "markdown",
   "id": "deb21398-bdf9-4a49-9695-bd3af2237395",
   "metadata": {},
   "source": [
    "---\n",
    "# Homework\n",
    "---"
   ]
  },
  {
   "cell_type": "markdown",
   "id": "c51d59ce-3f72-45f2-9989-48aff02e252f",
   "metadata": {},
   "source": [
    "### 1. Решите СЛАУ вручную и проверьте себя с помощью sympy."
   ]
  },
  {
   "attachments": {
    "8ab1241a-291d-4d5e-a5cf-06a33b2c916d.png": {
     "image/png": "[encoded data removed]"
    }
   },
   "cell_type": "markdown",
   "id": "cc4445e6-9a52-4d6d-8393-8aa95bd83938",
   "metadata": {},
   "source": [
    "![изображение.png](attachment:8ab1241a-291d-4d5e-a5cf-06a33b2c916d.png)"
   ]
  },
  {
   "cell_type": "code",
   "execution_count": 36,
   "id": "12967386-455a-43a4-b26e-febea8bc9f43",
   "metadata": {},
   "outputs": [
    {
     "data": {
      "text/latex": [
       "$\\displaystyle \\left[\\begin{matrix}-1 & 7 & -34\\\\8 & 8 & -48\\end{matrix}\\right]$"
      ],
      "text/plain": [
       "Matrix([\n",
       "[-1, 7, -34],\n",
       "[ 8, 8, -48]])"
      ]
     },
     "execution_count": 36,
     "metadata": {},
     "output_type": "execute_result"
    }
   ],
   "source": [
    "X = Matrix([[-1, 7, -34],[8, 8, -48]])\n",
    "X"
   ]
  },
  {
   "cell_type": "code",
   "execution_count": 37,
   "id": "7dadccdd-231c-43ca-b205-9fd970ef8b60",
   "metadata": {},
   "outputs": [
    {
     "data": {
      "text/latex": [
       "$\\displaystyle \\left\\{\\left( -1, \\  -5\\right)\\right\\}$"
      ],
      "text/plain": [
       "{(-1, -5)}"
      ]
     },
     "execution_count": 37,
     "metadata": {},
     "output_type": "execute_result"
    }
   ],
   "source": [
    "linsolve(X, [a1, a2])"
   ]
  },
  {
   "attachments": {
    "01c706bd-521a-4f00-bd35-38208c7ae0cc.png": {
     "image/png": "[encoded data removed]"
    }
   },
   "cell_type": "markdown",
   "id": "bf463d3f-e536-449e-901d-2a707e56967d",
   "metadata": {},
   "source": [
    "![изображение.png](attachment:01c706bd-521a-4f00-bd35-38208c7ae0cc.png)"
   ]
  },
  {
   "cell_type": "code",
   "execution_count": 39,
   "id": "a15aa5ed-3685-47e0-91a6-3672583c7f3e",
   "metadata": {},
   "outputs": [
    {
     "data": {
      "text/latex": [
       "$\\displaystyle \\left[\\begin{matrix}4 & -7 & -4\\\\3 & -4 & -3\\end{matrix}\\right]$"
      ],
      "text/plain": [
       "Matrix([\n",
       "[4, -7, -4],\n",
       "[3, -4, -3]])"
      ]
     },
     "execution_count": 39,
     "metadata": {},
     "output_type": "execute_result"
    }
   ],
   "source": [
    "X = Matrix([[4, -7, -4],[3, -4, -3]])\n",
    "X"
   ]
  },
  {
   "cell_type": "code",
   "execution_count": 40,
   "id": "44e92df5-22a6-4499-b7ff-f9c1505d29a3",
   "metadata": {},
   "outputs": [
    {
     "data": {
      "text/latex": [
       "$\\displaystyle \\left\\{\\left( -1, \\  0\\right)\\right\\}$"
      ],
      "text/plain": [
       "{(-1, 0)}"
      ]
     },
     "execution_count": 40,
     "metadata": {},
     "output_type": "execute_result"
    }
   ],
   "source": [
    "linsolve(X, [a1, a2])"
   ]
  },
  {
   "attachments": {
    "44548179-1d61-43e4-b4c8-fd6e6716caf6.png": {
     "image/png": "[encoded data removed]"
    }
   },
   "cell_type": "markdown",
   "id": "24a5c502-706c-4ab6-8eb3-7edd801ea2bd",
   "metadata": {},
   "source": [
    "![изображение.png](attachment:44548179-1d61-43e4-b4c8-fd6e6716caf6.png)"
   ]
  },
  {
   "cell_type": "code",
   "execution_count": 41,
   "id": "057c6571-e206-45e4-9f7d-d2d4a1613bd6",
   "metadata": {},
   "outputs": [
    {
     "data": {
      "text/latex": [
       "$\\displaystyle \\left[\\begin{matrix}8 & -4 & 64\\\\-3 & 3 & -21\\end{matrix}\\right]$"
      ],
      "text/plain": [
       "Matrix([\n",
       "[ 8, -4,  64],\n",
       "[-3,  3, -21]])"
      ]
     },
     "execution_count": 41,
     "metadata": {},
     "output_type": "execute_result"
    }
   ],
   "source": [
    "X = Matrix([[8, -4, 64],[-3, 3, -21]])\n",
    "X"
   ]
  },
  {
   "cell_type": "code",
   "execution_count": 43,
   "id": "5baaf55d-48eb-4bbb-bb15-b2b0bf825ab9",
   "metadata": {},
   "outputs": [
    {
     "data": {
      "text/latex": [
       "$\\displaystyle \\left\\{\\left( 9, \\  2\\right)\\right\\}$"
      ],
      "text/plain": [
       "{(9, 2)}"
      ]
     },
     "execution_count": 43,
     "metadata": {},
     "output_type": "execute_result"
    }
   ],
   "source": [
    "linsolve(X, [a1, a2])"
   ]
  },
  {
   "attachments": {
    "1e74e58c-94f7-4a2a-9ae0-4e6633eddadb.png": {
     "image/png": "[encoded data removed]"
    }
   },
   "cell_type": "markdown",
   "id": "841c6bf1-a382-42b0-8a69-960ae80f2fce",
   "metadata": {},
   "source": [
    "![изображение.png](attachment:1e74e58c-94f7-4a2a-9ae0-4e6633eddadb.png)"
   ]
  },
  {
   "cell_type": "code",
   "execution_count": 45,
   "id": "80599070-fd88-46b0-a638-4935fec7585b",
   "metadata": {},
   "outputs": [],
   "source": [
    "x1, x2, x3 = symbols(\"x1, x2, x3\")"
   ]
  },
  {
   "cell_type": "code",
   "execution_count": 46,
   "id": "94cc6081-dd93-42e0-8a09-7004e9ec13f6",
   "metadata": {},
   "outputs": [
    {
     "data": {
      "text/latex": [
       "$\\displaystyle \\left[\\begin{matrix}5 & 7 & -5 & -47\\\\0 & -2 & 2 & 10\\\\-4 & -8 & -7 & 63\\end{matrix}\\right]$"
      ],
      "text/plain": [
       "Matrix([\n",
       "[ 5,  7, -5, -47],\n",
       "[ 0, -2,  2,  10],\n",
       "[-4, -8, -7,  63]])"
      ]
     },
     "execution_count": 46,
     "metadata": {},
     "output_type": "execute_result"
    }
   ],
   "source": [
    "X = Matrix([[5, 7, -5, -47],\n",
    "            [0, -2, 2, 10], \n",
    "            [-4, -8, -7, 63]])\n",
    "X"
   ]
  },
  {
   "cell_type": "code",
   "execution_count": 47,
   "id": "593e85fa-22c4-47d1-a7ab-140efb0e8938",
   "metadata": {},
   "outputs": [
    {
     "data": {
      "text/latex": [
       "$\\displaystyle \\left\\{\\left( -2, \\  -6, \\  -1\\right)\\right\\}$"
      ],
      "text/plain": [
       "{(-2, -6, -1)}"
      ]
     },
     "execution_count": 47,
     "metadata": {},
     "output_type": "execute_result"
    }
   ],
   "source": [
    "linsolve(X, [x1, x2, x3])"
   ]
  },
  {
   "cell_type": "markdown",
   "id": "4dd3bb81-6182-44ae-a504-6fb0a7456526",
   "metadata": {},
   "source": [
    "---\n",
    "### 3. Решите переопределенную СЛАУ. Достигните значения MSE < 55."
   ]
  },
  {
   "attachments": {
    "cf7d6120-2cd7-473e-93e6-c720abf4b3b4.png": {
     "image/png": "[encoded data removed]"
    }
   },
   "cell_type": "markdown",
   "id": "771ae266-d19f-4808-9e8a-33a986ec9b8b",
   "metadata": {},
   "source": [
    "![изображение.png](attachment:cf7d6120-2cd7-473e-93e6-c720abf4b3b4.png)"
   ]
  },
  {
   "cell_type": "code",
   "execution_count": 48,
   "id": "ddb2011d-2046-47fb-a9b9-fce1bd183c52",
   "metadata": {},
   "outputs": [],
   "source": [
    "x, y, z = symbols(\"x, y, z\")"
   ]
  },
  {
   "cell_type": "code",
   "execution_count": 49,
   "id": "19f305eb-0eea-4350-8753-eb6e628e9600",
   "metadata": {},
   "outputs": [
    {
     "data": {
      "text/latex": [
       "$\\displaystyle 0.166666666666667 \\left(3 x + y + 1\\right)^{2} + 0.166666666666667 \\left(- 2 y + 2 z - 10\\right)^{2} + 0.166666666666667 \\left(- 4 x - 8 y - 7 z - 63\\right)^{2} + 0.166666666666667 \\left(2 x - y + 2 z + 4\\right)^{2} + 0.166666666666667 \\left(4 x + y + 4 z + 2\\right)^{2} + 0.166666666666667 \\left(5 x + 7 y - 5 z + 47\\right)^{2}$"
      ],
      "text/plain": [
       "0.166666666666667*(3*x + y + 1)**2 + 0.166666666666667*(-2*y + 2*z - 10)**2 + 0.166666666666667*(-4*x - 8*y - 7*z - 63)**2 + 0.166666666666667*(2*x - y + 2*z + 4)**2 + 0.166666666666667*(4*x + y + 4*z + 2)**2 + 0.166666666666667*(5*x + 7*y - 5*z + 47)**2"
      ]
     },
     "execution_count": 49,
     "metadata": {},
     "output_type": "execute_result"
    }
   ],
   "source": [
    "MSE = 1/6*((5*x + 7*y - 5*z + 47)**2 + \\\n",
    "           (-2*y + 2*z - 10)**2 + \\\n",
    "           (-4*x - 8*y - 7*z - 63)**2 + \\\n",
    "           (x + y + 2*x + 1)**2 + \\\n",
    "           (2*x - y + 2*z + 4)**2 + \\\n",
    "           (4*x + y + 4*z + 2)**2\n",
    "          )\n",
    "MSE"
   ]
  },
  {
   "cell_type": "code",
   "execution_count": 50,
   "id": "d34a9da4-cfd6-4b9c-ae52-32592a5b3003",
   "metadata": {},
   "outputs": [
    {
     "data": {
      "text/latex": [
       "$\\displaystyle 23.3333333333333 x + 24.0 y + 7.66666666666667 z + 168.666666666667$"
      ],
      "text/plain": [
       "23.3333333333333*x + 24.0*y + 7.66666666666667*z + 168.666666666667"
      ]
     },
     "execution_count": 50,
     "metadata": {},
     "output_type": "execute_result"
    }
   ],
   "source": [
    "dMSEx = diff(MSE, x)\n",
    "dMSEx"
   ]
  },
  {
   "cell_type": "code",
   "execution_count": 51,
   "id": "cbc05ffa-3f64-4acf-b147-43ec509507a3",
   "metadata": {},
   "outputs": [
    {
     "data": {
      "text/latex": [
       "$\\displaystyle 24.0 x + 40.0 y + 6.33333333333333 z + 284.0$"
      ],
      "text/plain": [
       "24.0*x + 40.0*y + 6.33333333333333*z + 284.0"
      ]
     },
     "execution_count": 51,
     "metadata": {},
     "output_type": "execute_result"
    }
   ],
   "source": [
    "dMSEy = diff(MSE, y)\n",
    "dMSEy"
   ]
  },
  {
   "cell_type": "code",
   "execution_count": 52,
   "id": "85297897-483a-4086-89e1-28839445cdf2",
   "metadata": {},
   "outputs": [
    {
     "data": {
      "text/latex": [
       "$\\displaystyle 7.66666666666667 x + 6.33333333333333 y + 32.6666666666667 z + 67.3333333333333$"
      ],
      "text/plain": [
       "7.66666666666667*x + 6.33333333333333*y + 32.6666666666667*z + 67.3333333333333"
      ]
     },
     "execution_count": 52,
     "metadata": {},
     "output_type": "execute_result"
    }
   ],
   "source": [
    "dMSEz = diff(MSE, z)\n",
    "dMSEz"
   ]
  },
  {
   "cell_type": "code",
   "execution_count": 58,
   "id": "935ba4dd-8653-4b23-a890-95cee66d68c4",
   "metadata": {},
   "outputs": [],
   "source": [
    "def gradient_np(n):\n",
    "    point = np.array([0, 0, 0])\n",
    "    for i in range(0, n):\n",
    "        grad = np.array([\n",
    "            dMSEx.subs({x: point[0], y: point[1], z: point[2]}), \n",
    "            dMSEy.subs({x: point[0], y: point[1], z: point[2]}), \n",
    "            dMSEz.subs({x: point[0], y: point[1], z: point[2]}), \n",
    "        ])\n",
    "        point = point + 0.001*-1*grad\n",
    "    print(f\"#{i+1} MSE({point[0]},{point[1]}, {point[2]})=\",MSE.subs({x: point[0], y: point[1], z: point[2]}))   \n",
    "        "
   ]
  },
  {
   "cell_type": "code",
   "execution_count": 59,
   "id": "30e0f1ff-0ae8-4475-b51b-a8b9a28a41f9",
   "metadata": {},
   "outputs": [
    {
     "name": "stdout",
     "output_type": "stream",
     "text": [
      "#1000 MSE(0.518405776946695,-7.28823479945239, -0.769652959059809)= 32.5561317309992\n"
     ]
    }
   ],
   "source": [
    "gradient_np(1000)"
   ]
  },
  {
   "cell_type": "code",
   "execution_count": null,
   "id": "193eed45-507d-49e1-b401-b4181b582120",
   "metadata": {},
   "outputs": [],
   "source": []
  }
 ],
 "metadata": {
  "kernelspec": {
   "display_name": "Python 3 (ipykernel)",
   "language": "python",
   "name": "python3"
  },
  "language_info": {
   "codemirror_mode": {
    "name": "ipython",
    "version": 3
   },
   "file_extension": ".py",
   "mimetype": "text/x-python",
   "name": "python",
   "nbconvert_exporter": "python",
   "pygments_lexer": "ipython3",
   "version": "3.12.2"
  }
 },
 "nbformat": 4,
 "nbformat_minor": 5
}
