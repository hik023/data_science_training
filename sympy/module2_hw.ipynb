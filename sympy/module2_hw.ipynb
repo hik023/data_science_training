{
 "cells": [
  {
   "cell_type": "code",
   "execution_count": 2,
   "id": "5acef5e2-4de6-436a-b54c-cafc08d713fc",
   "metadata": {},
   "outputs": [],
   "source": [
    "import math"
   ]
  },
  {
   "cell_type": "code",
   "execution_count": 5,
   "id": "3657895c-6504-49cb-8054-689b7069b2a5",
   "metadata": {},
   "outputs": [],
   "source": [
    "def my_sum(n: int) -> float:\n",
    "    result = 0\n",
    "    for i in range(1, n+1):\n",
    "        result += math.log(i)\n",
    "    return result"
   ]
  },
  {
   "cell_type": "code",
   "execution_count": 6,
   "id": "7165f17c-0d5f-4ad1-a712-60286ef853da",
   "metadata": {},
   "outputs": [
    {
     "data": {
      "text/plain": [
       "15.104412573075518"
      ]
     },
     "execution_count": 6,
     "metadata": {},
     "output_type": "execute_result"
    }
   ],
   "source": [
    "my_sum(10)"
   ]
  },
  {
   "cell_type": "code",
   "execution_count": 7,
   "id": "8c1c47b9-fca9-4488-8b17-c189f45aa8f2",
   "metadata": {},
   "outputs": [],
   "source": [
    "def my_prod(n: int) -> float:\n",
    "    result = 1\n",
    "    for i in range(1, n+1):\n",
    "        result *= i\n",
    "    return math.log(result)"
   ]
  },
  {
   "cell_type": "code",
   "execution_count": 8,
   "id": "a8280f94-f15b-42a5-90c6-6e1e4c9be58d",
   "metadata": {},
   "outputs": [
    {
     "data": {
      "text/plain": [
       "15.104412573075516"
      ]
     },
     "execution_count": 8,
     "metadata": {},
     "output_type": "execute_result"
    }
   ],
   "source": [
    "my_prod(10)"
   ]
  },
  {
   "cell_type": "code",
   "execution_count": 10,
   "id": "eb05e12d-fed9-4f01-98ba-91426c02167d",
   "metadata": {},
   "outputs": [
    {
     "name": "stdout",
     "output_type": "stream",
     "text": [
      "0.0 0.0\n",
      "0.6931471805599453 0.6931471805599453\n",
      "1.791759469228055 1.791759469228055\n",
      "3.1780538303479453 3.1780538303479458\n",
      "4.787491742782046 4.787491742782046\n",
      "6.579251212010101 6.579251212010101\n",
      "8.525161361065415 8.525161361065415\n",
      "10.60460290274525 10.60460290274525\n",
      "12.80182748008147 12.801827480081469\n"
     ]
    }
   ],
   "source": [
    "for i in range(1, 10):\n",
    "    print(my_sum(i), my_prod(i))"
   ]
  },
  {
   "cell_type": "code",
   "execution_count": null,
   "id": "7941622a-2df1-4d1e-b38e-d01828288852",
   "metadata": {},
   "outputs": [],
   "source": []
  }
 ],
 "metadata": {
  "kernelspec": {
   "display_name": "Python 3 (ipykernel)",
   "language": "python",
   "name": "python3"
  },
  "language_info": {
   "codemirror_mode": {
    "name": "ipython",
    "version": 3
   },
   "file_extension": ".py",
   "mimetype": "text/x-python",
   "name": "python",
   "nbconvert_exporter": "python",
   "pygments_lexer": "ipython3",
   "version": "3.10.8"
  }
 },
 "nbformat": 4,
 "nbformat_minor": 5
}
