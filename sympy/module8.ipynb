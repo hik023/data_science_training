{
 "cells": [
  {
   "cell_type": "code",
   "execution_count": 1,
   "id": "558ae55c-98bc-4e74-a0fd-36d62e33bb19",
   "metadata": {},
   "outputs": [],
   "source": [
    "from sympy import *\n",
    "from sympy.plotting import plot, plot3d\n",
    "init_printing(use_unicode=False, wrap_line=False, no_global=True)"
   ]
  },
  {
   "cell_type": "code",
   "execution_count": 2,
   "id": "bae05896-c883-4ee6-8d0e-7dd57df2faaa",
   "metadata": {},
   "outputs": [],
   "source": [
    "a2, a1, a0 = symbols(\"a2, a1, a0\")"
   ]
  },
  {
   "cell_type": "code",
   "execution_count": 21,
   "id": "d666b72b-dde3-4e89-9f61-f9ae508b2bef",
   "metadata": {},
   "outputs": [
    {
     "data": {
      "image/png": "[encoded data removed]",
      "text/latex": [
       "$\\displaystyle 0.333333333333333 \\left(a_{0} + 200 a_{1} + 2 a_{2} - 200\\right)^{2} + 0.333333333333333 \\left(a_{0} + 450 a_{1} + a_{2} - 300\\right)^{2} + 0.333333333333333 \\left(a_{0} + 550 a_{1} + 3 a_{2} - 600\\right)^{2}$"
      ],
      "text/plain": [
       "                                            2                                             2                                               2\n",
       "0.333333333333333*(a0 + 200*a1 + 2*a2 - 200)  + 0.333333333333333*(a0 + 450*a1 + a2 - 300)  + 0.333333333333333*(a0 + 550*a1 + 3*a2 - 600) "
      ]
     },
     "execution_count": 21,
     "metadata": {},
     "output_type": "execute_result"
    }
   ],
   "source": [
    "MSE = 1/3 * (((a2*2+a1*200+a0) - 200)**2 + \\\n",
    "             ((a2*1+a1*450+a0) - 300)**2 + \\\n",
    "             ((a2*3+a1*550+a0) - 600)**2)\n",
    "MSE"
   ]
  },
  {
   "cell_type": "code",
   "execution_count": 25,
   "id": "c91cb7c4-9aa3-46d4-96fa-8609c3beef95",
   "metadata": {},
   "outputs": [
    {
     "data": {
      "image/png": "[encoded data removed]",
      "text/latex": [
       "$\\displaystyle \\frac{1555000}{3}$"
      ],
      "text/plain": [
       "1555000/3"
      ]
     },
     "execution_count": 25,
     "metadata": {},
     "output_type": "execute_result"
    }
   ],
   "source": [
    "MSE.subs({a2: 100, a1: -1, a0: -100})"
   ]
  },
  {
   "cell_type": "code",
   "execution_count": 23,
   "id": "b5bed25c-1d94-4821-abb5-286e65720923",
   "metadata": {},
   "outputs": [
    {
     "data": {
      "image/png": "[encoded data removed]",
      "text/latex": [
       "$\\displaystyle 1554999.999999$"
      ],
      "text/plain": [
       "1554999.999999"
      ]
     },
     "execution_count": 23,
     "metadata": {},
     "output_type": "execute_result"
    }
   ],
   "source": [
    " 518333.333333*3\n"
   ]
  },
  {
   "cell_type": "code",
   "execution_count": 20,
   "id": "d5a9ccd8-adf3-47f9-aae0-25923d8a7776",
   "metadata": {},
   "outputs": [
    {
     "data": {
      "image/png": "[encoded data removed]",
      "text/latex": [
       "$\\displaystyle 1691400$"
      ],
      "text/plain": [
       "1691400"
      ]
     },
     "execution_count": 20,
     "metadata": {},
     "output_type": "execute_result"
    }
   ],
   "source": [
    "MSE.subs({a2: 200, a1: 3, a0: 20})"
   ]
  },
  {
   "cell_type": "code",
   "execution_count": 16,
   "id": "203aa354-08c2-4865-849d-152be296dc11",
   "metadata": {},
   "outputs": [],
   "source": [
    "def mse(points, results):\n",
    "    result = 0\n",
    "    for i in range(3):\n",
    "        x1, x2 = points[i]\n",
    "        y1 = results[i]\n",
    "        result += ((a2*x2+a1*x1+a0) - y1)**2\n",
    "    return result * 1/3"
   ]
  },
  {
   "cell_type": "code",
   "execution_count": 17,
   "id": "509ff6e1-f4e6-4c05-aae9-c425425ea991",
   "metadata": {},
   "outputs": [],
   "source": [
    "points = [(200, 2), (450, 1), (550, 3)]\n",
    "results = [200, 300, 600]\n"
   ]
  },
  {
   "cell_type": "code",
   "execution_count": 24,
   "id": "69c9b26d-53e6-425b-8714-22c6b5a0dc8d",
   "metadata": {},
   "outputs": [],
   "source": [
    "MSE = mse(points, results)"
   ]
  },
  {
   "cell_type": "code",
   "execution_count": 26,
   "id": "b2411ec2-49f0-4f53-a992-84dfbe08b032",
   "metadata": {},
   "outputs": [],
   "source": [
    "points = [(10, 30), (-5, 15), (16, 31)]\n",
    "results = [7, 20, -4]"
   ]
  },
  {
   "cell_type": "code",
   "execution_count": 27,
   "id": "3a9b4a05-74fc-44c4-aa85-336137d69e48",
   "metadata": {},
   "outputs": [],
   "source": [
    "MSE = mse(points, results)"
   ]
  },
  {
   "cell_type": "code",
   "execution_count": 28,
   "id": "06113509-6d66-4504-a850-cf0e6b0ce553",
   "metadata": {},
   "outputs": [
    {
     "data": {
      "image/png": "[encoded data removed]",
      "text/latex": [
       "$\\displaystyle 3447$"
      ],
      "text/plain": [
       "3447"
      ]
     },
     "execution_count": 28,
     "metadata": {},
     "output_type": "execute_result"
    }
   ],
   "source": [
    "MSE.subs({a2: -2, a1: 1, a0: -7})"
   ]
  },
  {
   "cell_type": "code",
   "execution_count": 31,
   "id": "92a3774a-38d9-45df-90bf-2e4a6c611e10",
   "metadata": {},
   "outputs": [
    {
     "data": {
      "image/png": "[encoded data removed]",
      "text/latex": [
       "$\\displaystyle \\frac{897506}{3}$"
      ],
      "text/plain": [
       "897506/3"
      ]
     },
     "execution_count": 31,
     "metadata": {},
     "output_type": "execute_result"
    }
   ],
   "source": [
    "MSE.subs({a2: 20, a1: 3, a0: -4})"
   ]
  },
  {
   "cell_type": "code",
   "execution_count": 32,
   "id": "99e5eb4b-def1-4b5b-bfe8-3a76e0d05804",
   "metadata": {},
   "outputs": [
    {
     "data": {
      "image/png": "[encoded data removed]",
      "text/latex": [
       "$\\displaystyle 299168.666666667$"
      ],
      "text/plain": [
       "299168.6666666667"
      ]
     },
     "execution_count": 32,
     "metadata": {},
     "output_type": "execute_result"
    }
   ],
   "source": [
    "897506/3"
   ]
  },
  {
   "cell_type": "code",
   "execution_count": 33,
   "id": "7dadcf0f-bd3c-4811-ab50-64695a5d5940",
   "metadata": {},
   "outputs": [],
   "source": [
    "points = [(16, 17), (-3, 28), (14, 85)]\n",
    "results = [13, 42, -39]"
   ]
  },
  {
   "cell_type": "code",
   "execution_count": 34,
   "id": "230b65b2-6851-40b1-8eae-17d47989d6df",
   "metadata": {},
   "outputs": [],
   "source": [
    "MSE = mse(points, results)"
   ]
  },
  {
   "cell_type": "code",
   "execution_count": 35,
   "id": "0519bda4-2867-4782-8e78-2c3619774438",
   "metadata": {},
   "outputs": [
    {
     "data": {
      "image/png": "[encoded data removed]",
      "text/latex": [
       "$\\displaystyle \\frac{8459}{3}$"
      ],
      "text/plain": [
       "8459/3"
      ]
     },
     "execution_count": 35,
     "metadata": {},
     "output_type": "execute_result"
    }
   ],
   "source": [
    "MSE.subs({a2: -2, a1: -1, a0: 60})"
   ]
  },
  {
   "cell_type": "code",
   "execution_count": 36,
   "id": "ee1794b9-2d19-4def-a38e-c239a29caaa8",
   "metadata": {},
   "outputs": [
    {
     "data": {
      "image/png": "[encoded data removed]",
      "text/latex": [
       "$\\displaystyle \\frac{274616}{3}$"
      ],
      "text/plain": [
       "274616/3"
      ]
     },
     "execution_count": 36,
     "metadata": {},
     "output_type": "execute_result"
    }
   ],
   "source": [
    "MSE.subs({a2: 2, a1: 17, a0: -9})"
   ]
  },
  {
   "cell_type": "code",
   "execution_count": 37,
   "id": "e68a92ff-8084-4e9c-b899-96179bbd6b07",
   "metadata": {},
   "outputs": [],
   "source": [
    "points = [(7, 39), (12, 48), (3, 55)]\n",
    "results = [-60, 17, 83]"
   ]
  },
  {
   "cell_type": "code",
   "execution_count": 38,
   "id": "b202ebbf-017f-4b9d-8367-90f28eba5ac6",
   "metadata": {},
   "outputs": [],
   "source": [
    "MSE = mse(points, results)"
   ]
  },
  {
   "cell_type": "code",
   "execution_count": 39,
   "id": "f66613c5-f953-489b-826d-a25ffec3a9d5",
   "metadata": {},
   "outputs": [
    {
     "data": {
      "image/png": "[encoded data removed]",
      "text/latex": [
       "$\\displaystyle 35903$"
      ],
      "text/plain": [
       "35903"
      ]
     },
     "execution_count": 39,
     "metadata": {},
     "output_type": "execute_result"
    }
   ],
   "source": [
    "MSE.subs({a2: -4, a1: 7, a0: -11})"
   ]
  },
  {
   "cell_type": "code",
   "execution_count": 40,
   "id": "2a916cb1-9b91-4ce4-a758-461c55d9e661",
   "metadata": {},
   "outputs": [
    {
     "data": {
      "image/png": "[encoded data removed]",
      "text/latex": [
       "$\\displaystyle 144191.166666667$"
      ],
      "text/plain": [
       "144191.166666667"
      ]
     },
     "execution_count": 40,
     "metadata": {},
     "output_type": "execute_result"
    }
   ],
   "source": [
    "MSE.subs({a2: -0.5, a1: 9, a0: -400})"
   ]
  },
  {
   "cell_type": "code",
   "execution_count": null,
   "id": "3628a98b-ce20-40c6-8b21-b55b73897ec3",
   "metadata": {},
   "outputs": [],
   "source": []
  }
 ],
 "metadata": {
  "kernelspec": {
   "display_name": "Python 3 (ipykernel)",
   "language": "python",
   "name": "python3"
  },
  "language_info": {
   "codemirror_mode": {
    "name": "ipython",
    "version": 3
   },
   "file_extension": ".py",
   "mimetype": "text/x-python",
   "name": "python",
   "nbconvert_exporter": "python",
   "pygments_lexer": "ipython3",
   "version": "3.10.8"
  }
 },
 "nbformat": 4,
 "nbformat_minor": 5
}
