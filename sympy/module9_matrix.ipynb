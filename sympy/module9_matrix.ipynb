{
 "cells": [
  {
   "cell_type": "code",
   "execution_count": 9,
   "id": "e2f0ef4b-fda2-4182-aa4f-8e367b401db1",
   "metadata": {},
   "outputs": [],
   "source": [
    "def transpon(x: list) -> list:\n",
    "    result = [[0 for i in range(0, len(x))] for j in range(0, len(x[0]))]\n",
    "    print(result)\n",
    "    for i in range(0, len(x)):\n",
    "        for j in range(0, len(x[0])):\n",
    "            result[j][i] = x[i][j]\n",
    "    return result"
   ]
  },
  {
   "cell_type": "code",
   "execution_count": 10,
   "id": "7a96740e-2786-429e-9f6b-57f51ac12226",
   "metadata": {},
   "outputs": [],
   "source": [
    "a = [\n",
    "    [1,2,3,4],\n",
    "    [5,6,7,8],\n",
    "    [9,10,11,12],\n",
    "    [13,14,15,16],\n",
    "    [17,18,19,20]\n",
    "]"
   ]
  },
  {
   "cell_type": "code",
   "execution_count": 11,
   "id": "800bc891-2ea6-48bd-818b-77ce7048bacb",
   "metadata": {},
   "outputs": [
    {
     "name": "stdout",
     "output_type": "stream",
     "text": [
      "[[0, 0, 0, 0, 0], [0, 0, 0, 0, 0], [0, 0, 0, 0, 0], [0, 0, 0, 0, 0]]\n"
     ]
    },
    {
     "data": {
      "text/plain": [
       "[[1, 5, 9, 13, 17], [2, 6, 10, 14, 18], [3, 7, 11, 15, 19], [4, 8, 12, 16, 20]]"
      ]
     },
     "execution_count": 11,
     "metadata": {},
     "output_type": "execute_result"
    }
   ],
   "source": [
    "transpon(a)"
   ]
  },
  {
   "cell_type": "code",
   "execution_count": 12,
   "id": "39a39e4c-a52d-4d3e-8584-3bb69ec929e9",
   "metadata": {},
   "outputs": [],
   "source": [
    "from sympy import *\n",
    "from sympy.plotting import plot, plot3d\n",
    "init_printing(use_unicode=False, wrap_line=False, no_global=True)"
   ]
  },
  {
   "cell_type": "code",
   "execution_count": 13,
   "id": "7f769478-a912-4947-a798-cf10873f9403",
   "metadata": {},
   "outputs": [],
   "source": [
    "a1, a2 = symbols(\"a1, a2\")"
   ]
  },
  {
   "cell_type": "code",
   "execution_count": 17,
   "id": "e68ee4a1-715a-40df-bf65-b75bbf6c05d3",
   "metadata": {},
   "outputs": [
    {
     "data": {
      "image/png": "[encoded data removed]",
      "text/latex": [
       "$\\displaystyle 0.25 \\left(a_{1} + 2 a_{2} - 5\\right)^{2} + 0.25 \\left(2 a_{1} + 4 a_{2} - 10\\right)^{2} + 0.25 \\left(3 a_{1} + 7 a_{2} - 8\\right)^{2} + 0.25 \\left(5 a_{1} + 3 a_{2} - 6\\right)^{2}$"
      ],
      "text/plain": [
       "                    2                          2                         2                         2\n",
       "0.25*(a1 + 2*a2 - 5)  + 0.25*(2*a1 + 4*a2 - 10)  + 0.25*(3*a1 + 7*a2 - 8)  + 0.25*(5*a1 + 3*a2 - 6) "
      ]
     },
     "execution_count": 17,
     "metadata": {},
     "output_type": "execute_result"
    }
   ],
   "source": [
    "MSE = 1/4*((a1*1 + a2*2 - 5)**2+\n",
    "           (a1*5 + a2*3 - 6)**2+\n",
    "           (a1*2 + a2*4 - 10)**2+\n",
    "           (a1*3 + a2*7 - 8)**2)\n",
    "MSE"
   ]
  },
  {
   "cell_type": "code",
   "execution_count": 19,
   "id": "be22441c-6a2a-4492-b8e8-61280e32c4ac",
   "metadata": {},
   "outputs": [
    {
     "data": {
      "image/png": "[encoded data removed]",
      "text/latex": [
       "$\\displaystyle 19.5 a_{1} + 23.0 a_{2} - 39.5$"
      ],
      "text/plain": [
       "19.5*a1 + 23.0*a2 - 39.5"
      ]
     },
     "execution_count": 19,
     "metadata": {},
     "output_type": "execute_result"
    }
   ],
   "source": [
    "dMSEa1 = diff(MSE, a1)\n",
    "dMSEa1"
   ]
  },
  {
   "cell_type": "code",
   "execution_count": 20,
   "id": "9b27dce2-3997-404e-b152-baf2acb3574f",
   "metadata": {},
   "outputs": [
    {
     "data": {
      "image/png": "[encoded data removed]",
      "text/latex": [
       "$\\displaystyle 23.0 a_{1} + 39.0 a_{2} - 62.0$"
      ],
      "text/plain": [
       "23.0*a1 + 39.0*a2 - 62.0"
      ]
     },
     "execution_count": 20,
     "metadata": {},
     "output_type": "execute_result"
    }
   ],
   "source": [
    "dMSEa2 = diff(MSE, a2)\n",
    "dMSEa2"
   ]
  },
  {
   "cell_type": "code",
   "execution_count": 22,
   "id": "cbe3111d-54eb-4032-a0a5-2ef6b9649695",
   "metadata": {},
   "outputs": [
    {
     "data": {
      "image/png": "[encoded data removed]",
      "text/latex": [
       "$\\displaystyle -7.455$"
      ],
      "text/plain": [
       "-7.45500000000000"
      ]
     },
     "execution_count": 22,
     "metadata": {},
     "output_type": "execute_result"
    }
   ],
   "source": [
    "dMSEa1.subs({a1: 0.57, a2: 0.91})"
   ]
  },
  {
   "cell_type": "code",
   "execution_count": 23,
   "id": "899df6fe-9394-44c8-a061-4a3c3c03243e",
   "metadata": {},
   "outputs": [
    {
     "data": {
      "image/png": "[encoded data removed]",
      "text/latex": [
       "$\\displaystyle -13.4$"
      ],
      "text/plain": [
       "-13.4000000000000"
      ]
     },
     "execution_count": 23,
     "metadata": {},
     "output_type": "execute_result"
    }
   ],
   "source": [
    "dMSEa2.subs({a1: 0.57, a2: 0.91})"
   ]
  },
  {
   "cell_type": "code",
   "execution_count": 24,
   "id": "342e786a-d032-47e3-91a8-40fcb985cf93",
   "metadata": {},
   "outputs": [
    {
     "data": {
      "image/png": "[encoded data removed]",
      "text/latex": [
       "$\\displaystyle 6.843547449375$"
      ],
      "text/plain": [
       "6.84354744937500"
      ]
     },
     "execution_count": 24,
     "metadata": {},
     "output_type": "execute_result"
    }
   ],
   "source": [
    "MSE.subs({a1: 0.64455, a2: 1.044})"
   ]
  },
  {
   "cell_type": "code",
   "execution_count": 25,
   "id": "baf78bff-e737-46da-8e39-8a87ba528a33",
   "metadata": {},
   "outputs": [
    {
     "data": {
      "image/png": "[encoded data removed]",
      "text/latex": [
       "$\\displaystyle -2.919275$"
      ],
      "text/plain": [
       "-2.91927500000000"
      ]
     },
     "execution_count": 25,
     "metadata": {},
     "output_type": "execute_result"
    }
   ],
   "source": [
    "dMSEa1.subs({a1: 0.64455, a2: 1.044})"
   ]
  },
  {
   "cell_type": "code",
   "execution_count": 26,
   "id": "a4488297-020c-4e67-952b-e095a3f40604",
   "metadata": {},
   "outputs": [
    {
     "data": {
      "image/png": "[encoded data removed]",
      "text/latex": [
       "$\\displaystyle -6.45935$"
      ],
      "text/plain": [
       "-6.45935000000000"
      ]
     },
     "execution_count": 26,
     "metadata": {},
     "output_type": "execute_result"
    }
   ],
   "source": [
    "dMSEa2.subs({a1: 0.64455, a2: 1.044})"
   ]
  },
  {
   "cell_type": "code",
   "execution_count": 27,
   "id": "4ada7e49-a124-400b-b14b-7a52d877559c",
   "metadata": {},
   "outputs": [
    {
     "data": {
      "image/png": "[encoded data removed]",
      "text/latex": [
       "$\\displaystyle 6.47413334061399$"
      ],
      "text/plain": [
       "6.47413334061399"
      ]
     },
     "execution_count": 27,
     "metadata": {},
     "output_type": "execute_result"
    }
   ],
   "source": [
    "MSE.subs({a1: 0.67374275, a2: 1.1085935})"
   ]
  },
  {
   "cell_type": "code",
   "execution_count": 37,
   "id": "81d56f54-d46a-4aad-b82a-cfb9808f0b07",
   "metadata": {},
   "outputs": [],
   "source": [
    "def gradient(n):\n",
    "    xb, yb = 0, 0\n",
    "    for i in range(0,n):\n",
    "        da1 = -1*dMSEa1.subs({a1: xb, a2: yb})\n",
    "        da2 = -1*dMSEa2.subs({a1: xb, a2: yb})\n",
    "        xb = xb + 0.001*da1\n",
    "        yb = yb + 0.001*da2\n",
    "    print(f\"#{i+1} MSE({xb},{yb})=\",MSE.subs({a1: xb, a2: yb}))"
   ]
  },
  {
   "cell_type": "code",
   "execution_count": 38,
   "id": "05e9ae87-ddcb-4c04-9098-c6c088ca1ab7",
   "metadata": {},
   "outputs": [
    {
     "name": "stdout",
     "output_type": "stream",
     "text": [
      "#1000 MSE(0.498120196342929,1.29572526914201)= 6.24193868635659\n"
     ]
    }
   ],
   "source": [
    "gradient(1000)"
   ]
  },
  {
   "cell_type": "code",
   "execution_count": 39,
   "id": "08b3798e-69fd-484f-ad11-1abff49aec89",
   "metadata": {},
   "outputs": [],
   "source": [
    "import numpy as np"
   ]
  },
  {
   "cell_type": "code",
   "execution_count": 44,
   "id": "ac5190bb-2eab-4d4f-95ca-a2d48ebf0e87",
   "metadata": {},
   "outputs": [],
   "source": [
    "def gradient_np(n):\n",
    "    point = np.array([0, 0])\n",
    "    for i in range(0, n):\n",
    "        grad = numpy.array([dMSEa1.subs({a1: point[0], a2: point[1]}), dMSEa2.subs({a1: point[0], a2: point[1]})])\n",
    "        point = point + 0.001*-1*grad\n",
    "    print(f\"#{i+1} MSE({point[0]},{point[1]})=\",MSE.subs({a1: point[0], a2: point[1]}))   \n",
    "        "
   ]
  },
  {
   "cell_type": "code",
   "execution_count": 45,
   "id": "abb9240a-0c77-429e-bc43-5e16ceeb70d9",
   "metadata": {},
   "outputs": [
    {
     "name": "stdout",
     "output_type": "stream",
     "text": [
      "#1000 MSE(0.498120196342929,1.29572526914201)= 6.24193868635659\n"
     ]
    }
   ],
   "source": [
    "gradient(1000)"
   ]
  },
  {
   "cell_type": "code",
   "execution_count": null,
   "id": "0baf5a12-a810-406e-87ad-136e1b72b6c2",
   "metadata": {},
   "outputs": [],
   "source": []
  }
 ],
 "metadata": {
  "kernelspec": {
   "display_name": "Python 3 (ipykernel)",
   "language": "python",
   "name": "python3"
  },
  "language_info": {
   "codemirror_mode": {
    "name": "ipython",
    "version": 3
   },
   "file_extension": ".py",
   "mimetype": "text/x-python",
   "name": "python",
   "nbconvert_exporter": "python",
   "pygments_lexer": "ipython3",
   "version": "3.12.2"
  }
 },
 "nbformat": 4,
 "nbformat_minor": 5
}
